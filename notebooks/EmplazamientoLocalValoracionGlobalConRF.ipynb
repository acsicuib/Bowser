{
 "cells": [
  {
   "cell_type": "markdown",
   "id": "14a2834e",
   "metadata": {},
   "source": [
    "# Prueba de concepto \n",
    "## Emplazamiento local y post valoración global para ajustamiento con random forest"
   ]
  },
  {
   "cell_type": "code",
   "execution_count": 5,
   "id": "96176c05",
   "metadata": {},
   "outputs": [
    {
     "name": "stdout",
     "output_type": "stream",
     "text": [
      "3.9.7 (default, Nov  4 2021, 13:09:39) \n",
      "[Clang 12.0.5 (clang-1205.0.22.11)]\n"
     ]
    }
   ],
   "source": [
    "import sys\n",
    "print(sys.version) #Python version "
   ]
  },
  {
   "cell_type": "code",
   "execution_count": 6,
   "id": "f5aee1a5",
   "metadata": {},
   "outputs": [],
   "source": [
    "import numpy as np\n",
    "import pandas as pd\n",
    "import networkx as nx\n",
    "\n",
    "import matplotlib.pyplot as plt\n",
    "from sklearn.ensemble import RandomForestRegressor\n",
    "from sklearn.metrics import mean_squared_error\n",
    "from sklearn.model_selection import cross_val_score, train_test_split, RepeatedKFold, GridSearchCV, ParameterGrid\n",
    "import multiprocessing\n",
    "import warnings\n",
    "\n",
    "warnings.filterwarnings('once')"
   ]
  },
  {
   "cell_type": "markdown",
   "id": "90f03009",
   "metadata": {},
   "source": [
    "## Modelling\n",
    "### Topology"
   ]
  },
  {
   "cell_type": "code",
   "execution_count": 7,
   "id": "8512d068",
   "metadata": {},
   "outputs": [
    {
     "data": {
      "image/png": "[encoded data removed]",
      "text/plain": [
       "<Figure size 432x288 with 1 Axes>"
      ]
     },
     "metadata": {},
     "output_type": "display_data"
    }
   ],
   "source": [
    "import networkx as nx\n",
    "G = nx.Graph()\n",
    "\n",
    "G.add_edges_from([('A', 'B'),('C','D'),('G','D')], latency=1)\n",
    "G.add_edges_from([('D','A'),('D','E'),('B','D'),('D','E')], latency=2)\n",
    "G.add_edges_from([('B','C'),('E','F')], latency=3)\n",
    "G.add_edges_from([('C','F')], latency=4)\n",
    "\n",
    "cost_map= {'A': 1.0,'D': 6.0,'C': 10.0}\n",
    "costs = [cost_map.get(node, 3.0) for node in G.nodes()]\n",
    "edge_labels= dict([((u,v,),d['latency']) for u,v,d in G.edges(data=True)])\n",
    "\n",
    "node_labels = {node:node for node in G.nodes()}\n",
    "\n",
    "pos=nx.spring_layout(G)\n",
    "\n",
    "nx.draw_networkx_edge_labels(G,pos,edge_labels=edge_labels)\n",
    "nx.draw_networkx_labels(G, pos, labels=node_labels,font_color=\"white\") \n",
    "nx.draw(G,pos, node_color = costs, node_size=1500)\n",
    "\n",
    "plt.show()"
   ]
  },
  {
   "cell_type": "code",
   "execution_count": 8,
   "id": "d49af06d",
   "metadata": {},
   "outputs": [
    {
     "data": {
      "text/plain": [
       "DegreeView({'A': 2, 'B': 3, 'C': 3, 'D': 5, 'G': 1, 'E': 2, 'F': 2})"
      ]
     },
     "execution_count": 8,
     "metadata": {},
     "output_type": "execute_result"
    }
   ],
   "source": [
    "G.degree()"
   ]
  },
  {
   "cell_type": "code",
   "execution_count": 30,
   "id": "e1067bda",
   "metadata": {},
   "outputs": [],
   "source": [
    "max_latency = 7"
   ]
  },
  {
   "cell_type": "code",
   "execution_count": 9,
   "id": "708d7426",
   "metadata": {},
   "outputs": [
    {
     "data": {
      "text/plain": [
       "{'A': 0.0,\n",
       " 'B': 0.05555555555555555,\n",
       " 'C': 0.17777777777777776,\n",
       " 'D': 0.5777777777777777,\n",
       " 'G': 0.0,\n",
       " 'E': 0.08888888888888888,\n",
       " 'F': 0.03333333333333333}"
      ]
     },
     "execution_count": 9,
     "metadata": {},
     "output_type": "execute_result"
    }
   ],
   "source": [
    "nx.betweenness_centrality(G)"
   ]
  },
  {
   "cell_type": "markdown",
   "id": "43f2f188",
   "metadata": {},
   "source": [
    "### Users\n",
    "Asignación estática de usuarios a nodos. Solo un usuario a esos nodos:"
   ]
  },
  {
   "cell_type": "code",
   "execution_count": 10,
   "id": "ab21a4b6",
   "metadata": {},
   "outputs": [],
   "source": [
    "wl_users = {'C': 1,'G': 1,'E': 1}\n",
    "users_at_node = [wl_users.get(node, 0) for node in G.nodes()]"
   ]
  },
  {
   "cell_type": "markdown",
   "id": "783ac1f5",
   "metadata": {},
   "source": [
    "### Services\n",
    "Asignación de servicios a nodos. Esto cambiará... por ahora es una prueba"
   ]
  },
  {
   "cell_type": "code",
   "execution_count": 11,
   "id": "ee1de88d",
   "metadata": {},
   "outputs": [
    {
     "name": "stdout",
     "output_type": "stream",
     "text": [
      "[1, 0, 0, 0, 0, 0, 0]\n"
     ]
    }
   ],
   "source": [
    "alloc_services = {\"A\":1}\n",
    "alloc_services_at_node = [alloc_services.get(node, 0) for node in G.nodes()]\n",
    "print(alloc_services_at_node)"
   ]
  },
  {
   "cell_type": "code",
   "execution_count": 12,
   "id": "1d678dd4",
   "metadata": {},
   "outputs": [
    {
     "name": "stdout",
     "output_type": "stream",
     "text": [
      "{'A': 1}\n",
      "{'C': 1, 'G': 1, 'E': 1}\n",
      "{'C': ('A', 3), 'G': ('A', 3), 'E': ('A', 4)}\n"
     ]
    }
   ],
   "source": [
    "#Test A: Routing services\n",
    "# Calculamos la ruta de los servicios - usuarios\n",
    "available_services = dict([k,alloc_services_at_node[ix]] for ix,k in enumerate(G.nodes()) if alloc_services_at_node[ix]>0 )\n",
    "print(available_services)\n",
    "print(wl_users)\n",
    "routing_service = {} #key: user , value: (service,latency)\n",
    "for (node,value) in wl_users.items():\n",
    "    more_close = 0\n",
    "    node_close = None\n",
    "    for a_service in available_services:\n",
    "        path_length = nx.shortest_path_length(G,node,a_service,weight=\"latency\")\n",
    "        if node_close == None:\n",
    "            more_close = path_length\n",
    "            node_close = a_service\n",
    "        if path_length<more_close:\n",
    "            more_close = path_length\n",
    "            node_close = a_service\n",
    "    \n",
    "    routing_service[node]=(node_close,more_close)\n",
    "    \n",
    "print(routing_service)    #key: user , value: (service,latency)\n"
   ]
  },
  {
   "cell_type": "code",
   "execution_count": 13,
   "id": "c7788265",
   "metadata": {},
   "outputs": [
    {
     "name": "stdout",
     "output_type": "stream",
     "text": [
      "{'C': ('C', 0), 'G': ('D', 1), 'E': ('E', 0)}\n"
     ]
    }
   ],
   "source": [
    "#Generamos una funcion de lo anterior\n",
    "arrayofservices = [1, 1, 1, 1, 0, 1, 0]\n",
    "def get_routings(arrayofservices):\n",
    "    available_services = dict([k,arrayofservices[ix]] for ix,k in enumerate(G.nodes()) if arrayofservices[ix]>0 )\n",
    "    if len(available_services)==0: return dict()\n",
    "    routing_service = {} #key: user , value: (service,latency)\n",
    "    for (node,value) in wl_users.items():\n",
    "        more_close = 0\n",
    "        node_close = None\n",
    "        for a_service in available_services:\n",
    "            path_length = nx.shortest_path_length(G,node,a_service,weight=\"latency\")\n",
    "            if node_close == None:\n",
    "                more_close = path_length\n",
    "                node_close = a_service\n",
    "            if path_length<more_close:\n",
    "                more_close = path_length\n",
    "                node_close = a_service\n",
    "        routing_service[node]=(node_close,more_close)\n",
    "    return routing_service\n",
    "\n",
    "print(get_routings(arrayofservices)) "
   ]
  },
  {
   "cell_type": "markdown",
   "id": "2f86f321",
   "metadata": {},
   "source": [
    "## Global evaluation function\n",
    "Como evaluaremos el modelo a nivel global. Para esta prueba algo muy simple:\n",
    "- Goal: Latency == 0. All services with latency 0.\n",
    "- Goal: One user with one service"
   ]
  },
  {
   "cell_type": "code",
   "execution_count": 33,
   "id": "6b8aa20e",
   "metadata": {},
   "outputs": [
    {
     "name": "stdout",
     "output_type": "stream",
     "text": [
      "0.5238095238095238\n"
     ]
    }
   ],
   "source": [
    "#Average latency\n",
    "avg_latency = np.array([v[1] for k,v in routing_service.items()])\n",
    "avg_latency = (np.abs((avg_latency-max_latency)/max_latency)).mean()\n",
    "print(avg_latency)"
   ]
  },
  {
   "cell_type": "code",
   "execution_count": 35,
   "id": "b12ad5fd",
   "metadata": {},
   "outputs": [
    {
     "name": "stdout",
     "output_type": "stream",
     "text": [
      "1\n",
      "3\n"
     ]
    },
    {
     "data": {
      "text/plain": [
       "0.3333333333333333"
      ]
     },
     "execution_count": 35,
     "metadata": {},
     "output_type": "execute_result"
    }
   ],
   "source": [
    "#Total services\n",
    "services = [v[0] for k,v in routing_service.items()]\n",
    "total_services = len(np.unique(services))\n",
    "print(total_services)\n",
    "print(len(wl_users))\n",
    "total_services/len(wl_users)"
   ]
  },
  {
   "cell_type": "code",
   "execution_count": 37,
   "id": "46ce679a",
   "metadata": {},
   "outputs": [
    {
     "name": "stdout",
     "output_type": "stream",
     "text": [
      "0.6904761904761905\n"
     ]
    }
   ],
   "source": [
    "#Evaluation value\n",
    "def assignment_cardinality_eval(total_services,users):\n",
    "    return total_services/users\n",
    "\n",
    "def global_eval(avg_latency,total_services,wl_users):\n",
    "    return avg_latency+assignment_cardinality_eval(total_services,len(wl_users))/2.0\n",
    "\n",
    "geval = global_eval(avg_latency,total_services,wl_users)\n",
    "print(geval)"
   ]
  },
  {
   "cell_type": "code",
   "execution_count": 39,
   "id": "cd29d059",
   "metadata": {},
   "outputs": [
    {
     "name": "stdout",
     "output_type": "stream",
     "text": [
      "{'C': ('A', 3), 'G': ('A', 3), 'E': ('A', 4)}\n",
      "0.4285714285714286\n"
     ]
    }
   ],
   "source": [
    "# ALL in one function\n",
    "print(routing_service)\n",
    "def compute_eval(routing_service):\n",
    "    avg_latency = np.array([v[1] for k,v in routing_service.items()])\n",
    "    avg_latency = (np.abs((avg_latency-max_latency)/max_latency)).mean()\n",
    "    \n",
    "    services = [v[0] for k,v in routing_service.items()]\n",
    "    total_services = len(np.unique(services))\n",
    "        \n",
    "    assigment_eval = total_services/len(wl_users)\n",
    "    return (avg_latency+assigment_eval)/2.\n",
    "\n",
    "print(compute_eval(routing_service))"
   ]
  },
  {
   "cell_type": "markdown",
   "id": "dc8bde76",
   "metadata": {},
   "source": [
    "## Design considerations of the RF input :\n",
    "- Dimensionality problem - samples representation: ¿qué granularidad es introducida en el modelo de datos? > Columnas\n",
    "- Evaluation goals\n",
    "\n"
   ]
  },
  {
   "cell_type": "code",
   "execution_count": 40,
   "id": "6f1954f4",
   "metadata": {},
   "outputs": [
    {
     "name": "stdout",
     "output_type": "stream",
     "text": [
      "[0 1 2 3]\n"
     ]
    }
   ],
   "source": [
    "actions_labels = [\"None\",\"Migrate\",\"Replicate\",\"Undeploy\"]\n",
    "actions = np.arange(len(actions_labels)) #dummies\n",
    "print(actions)"
   ]
  },
  {
   "cell_type": "markdown",
   "id": "893bef2b",
   "metadata": {},
   "source": [
    "### the first sample"
   ]
  },
  {
   "cell_type": "code",
   "execution_count": 41,
   "id": "c175db77",
   "metadata": {},
   "outputs": [
    {
     "name": "stdout",
     "output_type": "stream",
     "text": [
      "['user_atNode_A', 'user_atNode_B', 'user_atNode_C', 'user_atNode_D', 'user_atNode_G', 'user_atNode_E', 'user_atNode_F', 'services_atNode_bAction_A', 'services_atNode_bAction_B', 'services_atNode_bAction_C', 'services_atNode_bAction_D', 'services_atNode_bAction_G', 'services_atNode_bAction_E', 'services_atNode_bAction_F', 'Action', 'OnService', 'services_atNode_aAction_A', 'services_atNode_aAction_B', 'services_atNode_aAction_C', 'services_atNode_aAction_D', 'services_atNode_aAction_G', 'services_atNode_aAction_E', 'services_atNode_aAction_F', 'Fit']\n"
     ]
    }
   ],
   "source": [
    "columns_UsersatNode = [\"user_atNode_%s\"%k for k in G.nodes()]\n",
    "columns_ServicesAtNodeB = [\"services_atNode_bAction_%s\"%k for k in G.nodes()]\n",
    "columns_ServicesAtNodeA = [\"services_atNode_aAction_%s\"%k for k in G.nodes()]\n",
    "\n",
    "columns = columns_UsersatNode + columns_ServicesAtNodeB +[\"Action\",\"OnService\"]+ columns_ServicesAtNodeA + [\"Fit\"]\n",
    "print(columns)"
   ]
  },
  {
   "cell_type": "code",
   "execution_count": 42,
   "id": "9a3359a1",
   "metadata": {},
   "outputs": [
    {
     "data": {
      "text/plain": [
       "[0, 0, 1, 0, 1, 1, 0]"
      ]
     },
     "execution_count": 42,
     "metadata": {},
     "output_type": "execute_result"
    }
   ],
   "source": [
    "users_at_node"
   ]
  },
  {
   "cell_type": "code",
   "execution_count": 43,
   "id": "59ca47c5",
   "metadata": {},
   "outputs": [
    {
     "name": "stdout",
     "output_type": "stream",
     "text": [
      "[1, 0, 0, 0, 0, 0, 0]\n",
      "0.4285714285714286\n"
     ]
    }
   ],
   "source": [
    "services_bAction = [alloc_services.get(node, 0) for node in G.nodes()]\n",
    "print(services_bAction)\n",
    "routing = get_routings(services_bAction)\n",
    "eval_bActions = compute_eval(routing)\n",
    "print(eval_bActions)"
   ]
  },
  {
   "cell_type": "code",
   "execution_count": 44,
   "id": "a8092d74",
   "metadata": {},
   "outputs": [],
   "source": [
    "action = [0]\n",
    "on_service = [0]"
   ]
  },
  {
   "cell_type": "code",
   "execution_count": 45,
   "id": "9aacf5cf",
   "metadata": {},
   "outputs": [
    {
     "name": "stdout",
     "output_type": "stream",
     "text": [
      "[1, 0, 0, 0, 0, 0, 0]\n",
      "0.4285714285714286\n"
     ]
    }
   ],
   "source": [
    "services_aAction = services_bAction #its None actions\n",
    "print(services_aAction)\n",
    "routing = get_routings(services_aAction)\n",
    "eval_aActions = compute_eval(routing)\n",
    "print(eval_aActions)"
   ]
  },
  {
   "cell_type": "code",
   "execution_count": 46,
   "id": "ffec6100",
   "metadata": {},
   "outputs": [
    {
     "name": "stdout",
     "output_type": "stream",
     "text": [
      "0.0\n"
     ]
    }
   ],
   "source": [
    "speedup = (eval_aActions/eval_bActions)-1.0\n",
    "print(speedup)"
   ]
  },
  {
   "cell_type": "code",
   "execution_count": 47,
   "id": "c4bd105f",
   "metadata": {},
   "outputs": [
    {
     "name": "stdout",
     "output_type": "stream",
     "text": [
      "[0, 0, 1, 0, 1, 1, 0, 1, 0, 0, 0, 0, 0, 0, 0, 0, 1, 0, 0, 0, 0, 0, 0, 0.0]\n"
     ]
    }
   ],
   "source": [
    "sample = users_at_node+services_bAction+action+on_service+services_aAction+[speedup]\n",
    "print(sample)"
   ]
  },
  {
   "cell_type": "markdown",
   "id": "c34ca21c",
   "metadata": {},
   "source": [
    "### Building a random sample"
   ]
  },
  {
   "cell_type": "code",
   "execution_count": 48,
   "id": "9ae4db45",
   "metadata": {},
   "outputs": [],
   "source": [
    "np.random.seed(0)\n",
    "users_at_node = np.array(users_at_node)"
   ]
  },
  {
   "cell_type": "code",
   "execution_count": 49,
   "id": "d39f67c8",
   "metadata": {},
   "outputs": [
    {
     "name": "stdout",
     "output_type": "stream",
     "text": [
      "[0 1 1 0 1 1 1]\n",
      "1.0\n"
     ]
    }
   ],
   "source": [
    "#Current STATE\n",
    "r_serv_bAction = np.random.randint(0,2,len(G.nodes()))\n",
    "print(r_serv_bAction)\n",
    "routing = get_routings(r_serv_bAction)\n",
    "eval_bActions = compute_eval(routing)\n",
    "print(eval_bActions)"
   ]
  },
  {
   "cell_type": "code",
   "execution_count": 50,
   "id": "cc0c5305",
   "metadata": {},
   "outputs": [
    {
     "name": "stdout",
     "output_type": "stream",
     "text": [
      "[3]\n",
      "Undeploy\n",
      "[2]\n"
     ]
    }
   ],
   "source": [
    "#Action and on specific service\n",
    "action = np.random.choice(actions,1)\n",
    "print(action)\n",
    "current_services = np.flatnonzero(r_serv_bAction)\n",
    "if len(current_services)==0: \n",
    "    action = [0]\n",
    "else:\n",
    "    on_service = np.random.choice(current_services,1)\n",
    "print(actions_labels[action[0]])\n",
    "print(on_service)"
   ]
  },
  {
   "cell_type": "code",
   "execution_count": 56,
   "id": "cd9b0e9d",
   "metadata": {},
   "outputs": [
    {
     "name": "stdout",
     "output_type": "stream",
     "text": [
      "[0 1 0 0 1 1 1]\n",
      "Undeploy\n",
      "[2]\n",
      "[0 1 0 0 1 1 1]\n",
      "0.7857142857142857\n",
      "1.0\n"
     ]
    }
   ],
   "source": [
    "#State After action\n",
    "#actions_labels = [\"None\",\"Migrate\",\"Replicate\",\"Undeploy\"]\n",
    "print(r_serv_bAction)\n",
    "print(actions_labels[action[0]])\n",
    "print(on_service)\n",
    "\n",
    "if action[0]==0:#\"None\":\n",
    "    r_serv_aAction = r_serv_bAction \n",
    "elif action[0]==1:#\"Migrate\":\n",
    "    r_serv_aAction = r_serv_bAction \n",
    "    dst_service = np.random.choice(np.where(r_serv_bAction<1)[0],1)\n",
    "    r_serv_aAction[on_service]=0\n",
    "    r_serv_aAction[dst_service]=1\n",
    "elif action[0]==2:#\"Replicate\":\n",
    "    r_serv_aAction = r_serv_bAction \n",
    "    dst_service = np.random.choice(np.where(r_serv_bAction<1)[0],1)\n",
    "    r_serv_aAction[dst_service]=1\n",
    "elif action[0]==3:#\"Undeploy\":\n",
    "    r_serv_aAction = r_serv_bAction \n",
    "    r_serv_aAction[on_service]=0\n",
    "    \n",
    "print(r_serv_aAction)\n",
    "routing = get_routings(r_serv_aAction)\n",
    "eval_aActions = compute_eval(routing)\n",
    "print(eval_aActions)\n",
    "print(eval_bActions)"
   ]
  },
  {
   "cell_type": "code",
   "execution_count": 52,
   "id": "6d4b2dc3",
   "metadata": {},
   "outputs": [
    {
     "name": "stdout",
     "output_type": "stream",
     "text": [
      "-0.2142857142857143\n"
     ]
    }
   ],
   "source": [
    "speedup = np.array((eval_aActions/eval_bActions)-1.0)\n",
    "print(speedup)"
   ]
  },
  {
   "cell_type": "code",
   "execution_count": 53,
   "id": "8e001f70",
   "metadata": {},
   "outputs": [
    {
     "name": "stdout",
     "output_type": "stream",
     "text": [
      "[ 0.          0.          1.          0.          1.          1.\n",
      "  0.          0.          1.          0.          0.          1.\n",
      "  1.          1.          3.          2.          0.          1.\n",
      "  0.          0.          1.          1.          1.         -0.21428571]\n"
     ]
    }
   ],
   "source": [
    "sample = np.hstack([users_at_node,r_serv_bAction,action,on_service,r_serv_aAction,speedup])\n",
    "print(sample)"
   ]
  },
  {
   "cell_type": "markdown",
   "id": "bdac5d83",
   "metadata": {},
   "source": [
    "## Doing N-random samples"
   ]
  },
  {
   "cell_type": "code",
   "execution_count": 28,
   "id": "bd6edc81",
   "metadata": {},
   "outputs": [
    {
     "name": "stderr",
     "output_type": "stream",
     "text": [
      "/var/folders/hd/b3xdbhj91fj7d7_gq2f0v1h40000gn/T/ipykernel_21410/4177919361.py:5: RuntimeWarning: Mean of empty slice.\n",
      "  avg_latency = np.array(avg_latency).mean()\n",
      "/Users/isaaclera/.pyenv/versions/mypy397/lib/python3.9/site-packages/numpy/core/_methods.py:189: RuntimeWarning: invalid value encountered in double_scalars\n",
      "  ret = ret.dtype.type(ret / rcount)\n"
     ]
    }
   ],
   "source": [
    "import math\n",
    "samples = 1000\n",
    "df = pd.DataFrame(columns=columns)\n",
    "\n",
    "for i in range(samples):\n",
    "    #Current STATE\n",
    "    r_serv_bAction = np.random.randint(0,2,len(G.nodes()))\n",
    "#    print(\"---\")\n",
    "#    print(\"B \",r_serv_bAction)\n",
    "    routing = get_routings(r_serv_bAction)\n",
    "    eval_bActions = compute_eval(routing)\n",
    "    \n",
    "    #Action and on specific service\n",
    "    action = np.random.choice(actions,1)\n",
    "    current_services = np.flatnonzero(r_serv_bAction)\n",
    "\n",
    "#   print(actions_labels[action[0]])\n",
    "    if len(current_services)==0: \n",
    "        action = [0]\n",
    "    else:\n",
    "        on_service = np.random.choice(current_services,1)\n",
    "\n",
    "#    print(on_service)\n",
    "    #Computing action \n",
    "    r_serv_aAction = r_serv_bAction \n",
    "    if action[0]==0:#\"None\":\n",
    "        pass\n",
    "    elif action[0]==1:#\"Migrate\":\n",
    "        options = np.where(r_serv_bAction<1)[0]\n",
    "        if len(options)>0:\n",
    "            dst_service = np.random.choice(options,1)\n",
    "            r_serv_aAction[dst_service]=1            \n",
    "            r_serv_aAction[on_service]=0\n",
    "\n",
    "    elif action[0]==2:#\"Replicate\":\n",
    "        options = np.where(r_serv_bAction<1)[0]\n",
    "        if len(options)>0:\n",
    "            dst_service = np.random.choice(options,1)\n",
    "            r_serv_aAction[dst_service]=1\n",
    "            \n",
    "    elif action[0]==3:#\"Undeploy\":\n",
    "        r_serv_aAction[on_service]=0\n",
    "\n",
    "        \n",
    "#    print(\"A \",r_serv_bAction)\n",
    "#    print(\"---\")\n",
    "    routing = get_routings(r_serv_aAction)\n",
    "    eval_aActions = compute_eval(routing)\n",
    "    speedup = (eval_aActions/eval_bActions)-1.0\n",
    "\n",
    "    if math.isnan(speedup):\n",
    "        speedup=-1.0\n",
    "\n",
    "    sample = np.hstack([users_at_node,r_serv_bAction,action,on_service,r_serv_aAction,speedup])\n",
    "    \n",
    "    df.loc[len(df)] = sample"
   ]
  },
  {
   "cell_type": "code",
   "execution_count": 29,
   "id": "beb00ee1",
   "metadata": {},
   "outputs": [
    {
     "data": {
      "text/html": [
       "<div>\n",
       "<style scoped>\n",
       "    .dataframe tbody tr th:only-of-type {\n",
       "        vertical-align: middle;\n",
       "    }\n",
       "\n",
       "    .dataframe tbody tr th {\n",
       "        vertical-align: top;\n",
       "    }\n",
       "\n",
       "    .dataframe thead th {\n",
       "        text-align: right;\n",
       "    }\n",
       "</style>\n",
       "<table border=\"1\" class=\"dataframe\">\n",
       "  <thead>\n",
       "    <tr style=\"text-align: right;\">\n",
       "      <th></th>\n",
       "      <th>user_atNode_A</th>\n",
       "      <th>user_atNode_B</th>\n",
       "      <th>user_atNode_C</th>\n",
       "      <th>user_atNode_D</th>\n",
       "      <th>user_atNode_G</th>\n",
       "      <th>user_atNode_E</th>\n",
       "      <th>user_atNode_F</th>\n",
       "      <th>services_atNode_bAction_A</th>\n",
       "      <th>services_atNode_bAction_B</th>\n",
       "      <th>services_atNode_bAction_C</th>\n",
       "      <th>...</th>\n",
       "      <th>Action</th>\n",
       "      <th>OnService</th>\n",
       "      <th>services_atNode_aAction_A</th>\n",
       "      <th>services_atNode_aAction_B</th>\n",
       "      <th>services_atNode_aAction_C</th>\n",
       "      <th>services_atNode_aAction_D</th>\n",
       "      <th>services_atNode_aAction_G</th>\n",
       "      <th>services_atNode_aAction_E</th>\n",
       "      <th>services_atNode_aAction_F</th>\n",
       "      <th>Fit</th>\n",
       "    </tr>\n",
       "  </thead>\n",
       "  <tbody>\n",
       "    <tr>\n",
       "      <th>0</th>\n",
       "      <td>0.0</td>\n",
       "      <td>0.0</td>\n",
       "      <td>1.0</td>\n",
       "      <td>0.0</td>\n",
       "      <td>1.0</td>\n",
       "      <td>1.0</td>\n",
       "      <td>0.0</td>\n",
       "      <td>1.0</td>\n",
       "      <td>1.0</td>\n",
       "      <td>0.0</td>\n",
       "      <td>...</td>\n",
       "      <td>0.0</td>\n",
       "      <td>0.0</td>\n",
       "      <td>1.0</td>\n",
       "      <td>1.0</td>\n",
       "      <td>0.0</td>\n",
       "      <td>0.0</td>\n",
       "      <td>1.0</td>\n",
       "      <td>0.0</td>\n",
       "      <td>0.0</td>\n",
       "      <td>0.00</td>\n",
       "    </tr>\n",
       "    <tr>\n",
       "      <th>1</th>\n",
       "      <td>0.0</td>\n",
       "      <td>0.0</td>\n",
       "      <td>1.0</td>\n",
       "      <td>0.0</td>\n",
       "      <td>1.0</td>\n",
       "      <td>1.0</td>\n",
       "      <td>0.0</td>\n",
       "      <td>0.0</td>\n",
       "      <td>1.0</td>\n",
       "      <td>1.0</td>\n",
       "      <td>...</td>\n",
       "      <td>1.0</td>\n",
       "      <td>3.0</td>\n",
       "      <td>0.0</td>\n",
       "      <td>1.0</td>\n",
       "      <td>1.0</td>\n",
       "      <td>0.0</td>\n",
       "      <td>1.0</td>\n",
       "      <td>0.0</td>\n",
       "      <td>0.0</td>\n",
       "      <td>0.00</td>\n",
       "    </tr>\n",
       "    <tr>\n",
       "      <th>2</th>\n",
       "      <td>0.0</td>\n",
       "      <td>0.0</td>\n",
       "      <td>1.0</td>\n",
       "      <td>0.0</td>\n",
       "      <td>1.0</td>\n",
       "      <td>1.0</td>\n",
       "      <td>0.0</td>\n",
       "      <td>1.0</td>\n",
       "      <td>1.0</td>\n",
       "      <td>1.0</td>\n",
       "      <td>...</td>\n",
       "      <td>1.0</td>\n",
       "      <td>4.0</td>\n",
       "      <td>1.0</td>\n",
       "      <td>1.0</td>\n",
       "      <td>1.0</td>\n",
       "      <td>0.0</td>\n",
       "      <td>0.0</td>\n",
       "      <td>0.0</td>\n",
       "      <td>1.0</td>\n",
       "      <td>-0.44</td>\n",
       "    </tr>\n",
       "    <tr>\n",
       "      <th>3</th>\n",
       "      <td>0.0</td>\n",
       "      <td>0.0</td>\n",
       "      <td>1.0</td>\n",
       "      <td>0.0</td>\n",
       "      <td>1.0</td>\n",
       "      <td>1.0</td>\n",
       "      <td>0.0</td>\n",
       "      <td>0.0</td>\n",
       "      <td>0.0</td>\n",
       "      <td>0.0</td>\n",
       "      <td>...</td>\n",
       "      <td>3.0</td>\n",
       "      <td>1.0</td>\n",
       "      <td>0.0</td>\n",
       "      <td>0.0</td>\n",
       "      <td>0.0</td>\n",
       "      <td>1.0</td>\n",
       "      <td>1.0</td>\n",
       "      <td>1.0</td>\n",
       "      <td>1.0</td>\n",
       "      <td>0.00</td>\n",
       "    </tr>\n",
       "    <tr>\n",
       "      <th>4</th>\n",
       "      <td>0.0</td>\n",
       "      <td>0.0</td>\n",
       "      <td>1.0</td>\n",
       "      <td>0.0</td>\n",
       "      <td>1.0</td>\n",
       "      <td>1.0</td>\n",
       "      <td>0.0</td>\n",
       "      <td>1.0</td>\n",
       "      <td>1.0</td>\n",
       "      <td>1.0</td>\n",
       "      <td>...</td>\n",
       "      <td>0.0</td>\n",
       "      <td>3.0</td>\n",
       "      <td>1.0</td>\n",
       "      <td>1.0</td>\n",
       "      <td>1.0</td>\n",
       "      <td>1.0</td>\n",
       "      <td>0.0</td>\n",
       "      <td>1.0</td>\n",
       "      <td>0.0</td>\n",
       "      <td>0.00</td>\n",
       "    </tr>\n",
       "  </tbody>\n",
       "</table>\n",
       "<p>5 rows × 24 columns</p>\n",
       "</div>"
      ],
      "text/plain": [
       "   user_atNode_A  user_atNode_B  user_atNode_C  user_atNode_D  user_atNode_G  \\\n",
       "0            0.0            0.0            1.0            0.0            1.0   \n",
       "1            0.0            0.0            1.0            0.0            1.0   \n",
       "2            0.0            0.0            1.0            0.0            1.0   \n",
       "3            0.0            0.0            1.0            0.0            1.0   \n",
       "4            0.0            0.0            1.0            0.0            1.0   \n",
       "\n",
       "   user_atNode_E  user_atNode_F  services_atNode_bAction_A  \\\n",
       "0            1.0            0.0                        1.0   \n",
       "1            1.0            0.0                        0.0   \n",
       "2            1.0            0.0                        1.0   \n",
       "3            1.0            0.0                        0.0   \n",
       "4            1.0            0.0                        1.0   \n",
       "\n",
       "   services_atNode_bAction_B  services_atNode_bAction_C  ...  Action  \\\n",
       "0                        1.0                        0.0  ...     0.0   \n",
       "1                        1.0                        1.0  ...     1.0   \n",
       "2                        1.0                        1.0  ...     1.0   \n",
       "3                        0.0                        0.0  ...     3.0   \n",
       "4                        1.0                        1.0  ...     0.0   \n",
       "\n",
       "   OnService  services_atNode_aAction_A  services_atNode_aAction_B  \\\n",
       "0        0.0                        1.0                        1.0   \n",
       "1        3.0                        0.0                        1.0   \n",
       "2        4.0                        1.0                        1.0   \n",
       "3        1.0                        0.0                        0.0   \n",
       "4        3.0                        1.0                        1.0   \n",
       "\n",
       "   services_atNode_aAction_C  services_atNode_aAction_D  \\\n",
       "0                        0.0                        0.0   \n",
       "1                        1.0                        0.0   \n",
       "2                        1.0                        0.0   \n",
       "3                        0.0                        1.0   \n",
       "4                        1.0                        1.0   \n",
       "\n",
       "   services_atNode_aAction_G  services_atNode_aAction_E  \\\n",
       "0                        1.0                        0.0   \n",
       "1                        1.0                        0.0   \n",
       "2                        0.0                        0.0   \n",
       "3                        1.0                        1.0   \n",
       "4                        0.0                        1.0   \n",
       "\n",
       "   services_atNode_aAction_F   Fit  \n",
       "0                        0.0  0.00  \n",
       "1                        0.0  0.00  \n",
       "2                        1.0 -0.44  \n",
       "3                        1.0  0.00  \n",
       "4                        0.0  0.00  \n",
       "\n",
       "[5 rows x 24 columns]"
      ]
     },
     "execution_count": 29,
     "metadata": {},
     "output_type": "execute_result"
    }
   ],
   "source": [
    "df.head()"
   ]
  },
  {
   "cell_type": "code",
   "execution_count": 30,
   "id": "84bdbf23",
   "metadata": {},
   "outputs": [
    {
     "data": {
      "text/html": [
       "<div>\n",
       "<style scoped>\n",
       "    .dataframe tbody tr th:only-of-type {\n",
       "        vertical-align: middle;\n",
       "    }\n",
       "\n",
       "    .dataframe tbody tr th {\n",
       "        vertical-align: top;\n",
       "    }\n",
       "\n",
       "    .dataframe thead th {\n",
       "        text-align: right;\n",
       "    }\n",
       "</style>\n",
       "<table border=\"1\" class=\"dataframe\">\n",
       "  <thead>\n",
       "    <tr style=\"text-align: right;\">\n",
       "      <th></th>\n",
       "      <th>user_atNode_A</th>\n",
       "      <th>user_atNode_B</th>\n",
       "      <th>user_atNode_C</th>\n",
       "      <th>user_atNode_D</th>\n",
       "      <th>user_atNode_G</th>\n",
       "      <th>user_atNode_E</th>\n",
       "      <th>user_atNode_F</th>\n",
       "      <th>services_atNode_bAction_A</th>\n",
       "      <th>services_atNode_bAction_B</th>\n",
       "      <th>services_atNode_bAction_C</th>\n",
       "      <th>...</th>\n",
       "      <th>Action</th>\n",
       "      <th>OnService</th>\n",
       "      <th>services_atNode_aAction_A</th>\n",
       "      <th>services_atNode_aAction_B</th>\n",
       "      <th>services_atNode_aAction_C</th>\n",
       "      <th>services_atNode_aAction_D</th>\n",
       "      <th>services_atNode_aAction_G</th>\n",
       "      <th>services_atNode_aAction_E</th>\n",
       "      <th>services_atNode_aAction_F</th>\n",
       "      <th>Fit</th>\n",
       "    </tr>\n",
       "  </thead>\n",
       "  <tbody>\n",
       "  </tbody>\n",
       "</table>\n",
       "<p>0 rows × 24 columns</p>\n",
       "</div>"
      ],
      "text/plain": [
       "Empty DataFrame\n",
       "Columns: [user_atNode_A, user_atNode_B, user_atNode_C, user_atNode_D, user_atNode_G, user_atNode_E, user_atNode_F, services_atNode_bAction_A, services_atNode_bAction_B, services_atNode_bAction_C, services_atNode_bAction_D, services_atNode_bAction_G, services_atNode_bAction_E, services_atNode_bAction_F, Action, OnService, services_atNode_aAction_A, services_atNode_aAction_B, services_atNode_aAction_C, services_atNode_aAction_D, services_atNode_aAction_G, services_atNode_aAction_E, services_atNode_aAction_F, Fit]\n",
       "Index: []\n",
       "\n",
       "[0 rows x 24 columns]"
      ]
     },
     "execution_count": 30,
     "metadata": {},
     "output_type": "execute_result"
    }
   ],
   "source": [
    "# Nos aseguramos que no haya nada raro.\n",
    "# Previas pruebas: hay samples with Fit. con NaN !! cuando se borran todos los servicios. Bug corregido.\n",
    "is_NaN = df.isnull()\n",
    "row_has_NaN = is_NaN.any(axis=1)\n",
    "rows_with_NaN = df[row_has_NaN]\n",
    "rows_with_NaN\n",
    "\n"
   ]
  },
  {
   "cell_type": "markdown",
   "id": "a2c826cc",
   "metadata": {},
   "source": [
    "## Random forest model"
   ]
  },
  {
   "cell_type": "code",
   "execution_count": 31,
   "id": "e0034b5a",
   "metadata": {},
   "outputs": [
    {
     "name": "stdout",
     "output_type": "stream",
     "text": [
      "1.0.1\n"
     ]
    }
   ],
   "source": [
    "import sklearn\n",
    "print(sklearn.__version__) #Tengo que actualizar..."
   ]
  },
  {
   "cell_type": "code",
   "execution_count": 32,
   "id": "64043e27",
   "metadata": {},
   "outputs": [
    {
     "name": "stdout",
     "output_type": "stream",
     "text": [
      "750\n",
      "250\n"
     ]
    }
   ],
   "source": [
    "#Spliting data\n",
    "\n",
    "X_train, X_test, y_train, y_test = train_test_split(\n",
    "                                        df.drop(columns = \"Fit\"),\n",
    "                                        df['Fit'],\n",
    "                                        random_state = 0)\n",
    "print(len(X_train))\n",
    "print(len(X_test))"
   ]
  },
  {
   "cell_type": "code",
   "execution_count": 55,
   "id": "fd72dbb8",
   "metadata": {},
   "outputs": [
    {
     "data": {
      "text/plain": [
       "RandomForestRegressor(n_estimators=10, n_jobs=-1, random_state=123)"
      ]
     },
     "execution_count": 55,
     "metadata": {},
     "output_type": "execute_result"
    }
   ],
   "source": [
    "#Training                                    \n",
    "model = RandomForestRegressor(\n",
    "            n_estimators = 10,\n",
    "            criterion    = 'squared_error',\n",
    "            max_depth    = None,\n",
    "            max_features = 'auto',\n",
    "            oob_score    = False,\n",
    "            n_jobs       = -1,\n",
    "            random_state = 123\n",
    "         )\n",
    "\n",
    "model.fit(X_train, y_train)"
   ]
  },
  {
   "cell_type": "code",
   "execution_count": 34,
   "id": "b44181b1",
   "metadata": {},
   "outputs": [
    {
     "name": "stdout",
     "output_type": "stream",
     "text": [
      "El error (rmse) de test es: 0.098325\n"
     ]
    }
   ],
   "source": [
    "forecasting = model.predict(X = X_test)\n",
    "\n",
    "rmse = mean_squared_error(\n",
    "        y_true  = y_test,\n",
    "        y_pred  = forecasting)\n",
    "print(\"El error (rmse) de test es: %f\"%rmse)"
   ]
  },
  {
   "cell_type": "markdown",
   "id": "4bb8b27c",
   "metadata": {},
   "source": [
    "### A simple specific sample\n",
    "\n",
    "Comprobamos que el modelo nos puede asesorar!\n",
    "\n",
    "casi todo perfecto menos una migracion pendiente\n",
    "de B a C"
   ]
  },
  {
   "cell_type": "code",
   "execution_count": 35,
   "id": "8a8fb0c9",
   "metadata": {},
   "outputs": [
    {
     "name": "stdout",
     "output_type": "stream",
     "text": [
      "{'C': 1, 'G': 1, 'E': 1}\n",
      "0.7857142857142856\n",
      "[0 0 1 0 1 1 0 0 1 0 0 1 0 1 1 1 0 0 1 0 1 0 1]\n",
      "[0 0 1 0 1 1 0 0 1 0 0 1 0 1 0 1 0 1 0 0 1 0 1]\n"
     ]
    }
   ],
   "source": [
    "#Current STATE\n",
    "print(wl_users) #[a,b,c,d,e,f,g]\n",
    "r_serv_bAction = [0,1,0,0,1,0,1]\n",
    "routing = get_routings(r_serv_bAction)\n",
    "eval_bActions = compute_eval(routing)\n",
    "action = 1\n",
    "on_service = 1\n",
    "r_serv_aAction = [0,0,1,0,1,0,1]\n",
    "routing = get_routings(r_serv_aAction)\n",
    "eval_aActions = compute_eval(routing)\n",
    "speedup = (eval_aActions/eval_bActions)-1.0\n",
    "print(speedup)\n",
    "sample1 = np.hstack([users_at_node,r_serv_bAction,action,on_service,r_serv_aAction]) #migrate ok\n",
    "sample2 = np.hstack([users_at_node,r_serv_bAction,0,on_service,r_serv_bAction]) # none bad\n",
    "\n",
    "print(sample1)\n",
    "print(sample2)"
   ]
  },
  {
   "cell_type": "code",
   "execution_count": 36,
   "id": "fb2bd70e",
   "metadata": {},
   "outputs": [
    {
     "data": {
      "text/html": [
       "<div>\n",
       "<style scoped>\n",
       "    .dataframe tbody tr th:only-of-type {\n",
       "        vertical-align: middle;\n",
       "    }\n",
       "\n",
       "    .dataframe tbody tr th {\n",
       "        vertical-align: top;\n",
       "    }\n",
       "\n",
       "    .dataframe thead th {\n",
       "        text-align: right;\n",
       "    }\n",
       "</style>\n",
       "<table border=\"1\" class=\"dataframe\">\n",
       "  <thead>\n",
       "    <tr style=\"text-align: right;\">\n",
       "      <th></th>\n",
       "      <th>user_atNode_A</th>\n",
       "      <th>user_atNode_B</th>\n",
       "      <th>user_atNode_C</th>\n",
       "      <th>user_atNode_D</th>\n",
       "      <th>user_atNode_G</th>\n",
       "      <th>user_atNode_E</th>\n",
       "      <th>user_atNode_F</th>\n",
       "      <th>services_atNode_bAction_A</th>\n",
       "      <th>services_atNode_bAction_B</th>\n",
       "      <th>services_atNode_bAction_C</th>\n",
       "      <th>...</th>\n",
       "      <th>services_atNode_bAction_F</th>\n",
       "      <th>Action</th>\n",
       "      <th>OnService</th>\n",
       "      <th>services_atNode_aAction_A</th>\n",
       "      <th>services_atNode_aAction_B</th>\n",
       "      <th>services_atNode_aAction_C</th>\n",
       "      <th>services_atNode_aAction_D</th>\n",
       "      <th>services_atNode_aAction_G</th>\n",
       "      <th>services_atNode_aAction_E</th>\n",
       "      <th>services_atNode_aAction_F</th>\n",
       "    </tr>\n",
       "  </thead>\n",
       "  <tbody>\n",
       "    <tr>\n",
       "      <th>0</th>\n",
       "      <td>0</td>\n",
       "      <td>0</td>\n",
       "      <td>1</td>\n",
       "      <td>0</td>\n",
       "      <td>1</td>\n",
       "      <td>1</td>\n",
       "      <td>0</td>\n",
       "      <td>0</td>\n",
       "      <td>1</td>\n",
       "      <td>0</td>\n",
       "      <td>...</td>\n",
       "      <td>1</td>\n",
       "      <td>1</td>\n",
       "      <td>1</td>\n",
       "      <td>0</td>\n",
       "      <td>0</td>\n",
       "      <td>1</td>\n",
       "      <td>0</td>\n",
       "      <td>1</td>\n",
       "      <td>0</td>\n",
       "      <td>1</td>\n",
       "    </tr>\n",
       "    <tr>\n",
       "      <th>1</th>\n",
       "      <td>0</td>\n",
       "      <td>0</td>\n",
       "      <td>1</td>\n",
       "      <td>0</td>\n",
       "      <td>1</td>\n",
       "      <td>1</td>\n",
       "      <td>0</td>\n",
       "      <td>0</td>\n",
       "      <td>1</td>\n",
       "      <td>0</td>\n",
       "      <td>...</td>\n",
       "      <td>1</td>\n",
       "      <td>0</td>\n",
       "      <td>1</td>\n",
       "      <td>0</td>\n",
       "      <td>1</td>\n",
       "      <td>0</td>\n",
       "      <td>0</td>\n",
       "      <td>1</td>\n",
       "      <td>0</td>\n",
       "      <td>1</td>\n",
       "    </tr>\n",
       "  </tbody>\n",
       "</table>\n",
       "<p>2 rows × 23 columns</p>\n",
       "</div>"
      ],
      "text/plain": [
       "  user_atNode_A user_atNode_B user_atNode_C user_atNode_D user_atNode_G  \\\n",
       "0             0             0             1             0             1   \n",
       "1             0             0             1             0             1   \n",
       "\n",
       "  user_atNode_E user_atNode_F services_atNode_bAction_A  \\\n",
       "0             1             0                         0   \n",
       "1             1             0                         0   \n",
       "\n",
       "  services_atNode_bAction_B services_atNode_bAction_C  ...  \\\n",
       "0                         1                         0  ...   \n",
       "1                         1                         0  ...   \n",
       "\n",
       "  services_atNode_bAction_F Action OnService services_atNode_aAction_A  \\\n",
       "0                         1      1         1                         0   \n",
       "1                         1      0         1                         0   \n",
       "\n",
       "  services_atNode_aAction_B services_atNode_aAction_C  \\\n",
       "0                         0                         1   \n",
       "1                         1                         0   \n",
       "\n",
       "  services_atNode_aAction_D services_atNode_aAction_G  \\\n",
       "0                         0                         1   \n",
       "1                         0                         1   \n",
       "\n",
       "  services_atNode_aAction_E services_atNode_aAction_F  \n",
       "0                         0                         1  \n",
       "1                         0                         1  \n",
       "\n",
       "[2 rows x 23 columns]"
      ]
     },
     "execution_count": 36,
     "metadata": {},
     "output_type": "execute_result"
    }
   ],
   "source": [
    "dftest = pd.DataFrame(columns=columns[0:-1])\n",
    "dftest.loc[len(dftest)] = sample1\n",
    "dftest.loc[len(dftest)] = sample2\n",
    "dftest"
   ]
  },
  {
   "cell_type": "code",
   "execution_count": 37,
   "id": "cea36afd",
   "metadata": {},
   "outputs": [],
   "source": [
    "forecasting = model.predict(X = dftest)"
   ]
  },
  {
   "cell_type": "code",
   "execution_count": 38,
   "id": "247bd51d",
   "metadata": {},
   "outputs": [
    {
     "name": "stdout",
     "output_type": "stream",
     "text": [
      "[0.35349817 0.        ]\n"
     ]
    }
   ],
   "source": [
    "print(forecasting)"
   ]
  },
  {
   "cell_type": "code",
   "execution_count": 39,
   "id": "cc68ffab",
   "metadata": {},
   "outputs": [],
   "source": [
    "#Ante dos acciones: migrar a una mejor posición o no hacer nada, es mejor migrar!"
   ]
  },
  {
   "cell_type": "markdown",
   "id": "c0b2c667",
   "metadata": {},
   "source": [
    "#### Importancia de los descriptores\n"
   ]
  },
  {
   "cell_type": "code",
   "execution_count": 40,
   "id": "f2a09f14",
   "metadata": {},
   "outputs": [
    {
     "data": {
      "text/html": [
       "<div>\n",
       "<style scoped>\n",
       "    .dataframe tbody tr th:only-of-type {\n",
       "        vertical-align: middle;\n",
       "    }\n",
       "\n",
       "    .dataframe tbody tr th {\n",
       "        vertical-align: top;\n",
       "    }\n",
       "\n",
       "    .dataframe thead th {\n",
       "        text-align: right;\n",
       "    }\n",
       "</style>\n",
       "<table border=\"1\" class=\"dataframe\">\n",
       "  <thead>\n",
       "    <tr style=\"text-align: right;\">\n",
       "      <th></th>\n",
       "      <th>predictor</th>\n",
       "      <th>importancia</th>\n",
       "    </tr>\n",
       "  </thead>\n",
       "  <tbody>\n",
       "    <tr>\n",
       "      <th>14</th>\n",
       "      <td>Action</td>\n",
       "      <td>0.229399</td>\n",
       "    </tr>\n",
       "    <tr>\n",
       "      <th>15</th>\n",
       "      <td>OnService</td>\n",
       "      <td>0.182044</td>\n",
       "    </tr>\n",
       "    <tr>\n",
       "      <th>12</th>\n",
       "      <td>services_atNode_bAction_E</td>\n",
       "      <td>0.065721</td>\n",
       "    </tr>\n",
       "    <tr>\n",
       "      <th>9</th>\n",
       "      <td>services_atNode_bAction_C</td>\n",
       "      <td>0.061885</td>\n",
       "    </tr>\n",
       "    <tr>\n",
       "      <th>11</th>\n",
       "      <td>services_atNode_bAction_G</td>\n",
       "      <td>0.058335</td>\n",
       "    </tr>\n",
       "    <tr>\n",
       "      <th>21</th>\n",
       "      <td>services_atNode_aAction_E</td>\n",
       "      <td>0.053885</td>\n",
       "    </tr>\n",
       "    <tr>\n",
       "      <th>10</th>\n",
       "      <td>services_atNode_bAction_D</td>\n",
       "      <td>0.044111</td>\n",
       "    </tr>\n",
       "    <tr>\n",
       "      <th>17</th>\n",
       "      <td>services_atNode_aAction_B</td>\n",
       "      <td>0.044055</td>\n",
       "    </tr>\n",
       "    <tr>\n",
       "      <th>19</th>\n",
       "      <td>services_atNode_aAction_D</td>\n",
       "      <td>0.043756</td>\n",
       "    </tr>\n",
       "    <tr>\n",
       "      <th>18</th>\n",
       "      <td>services_atNode_aAction_C</td>\n",
       "      <td>0.036820</td>\n",
       "    </tr>\n",
       "    <tr>\n",
       "      <th>7</th>\n",
       "      <td>services_atNode_bAction_A</td>\n",
       "      <td>0.034107</td>\n",
       "    </tr>\n",
       "    <tr>\n",
       "      <th>20</th>\n",
       "      <td>services_atNode_aAction_G</td>\n",
       "      <td>0.032232</td>\n",
       "    </tr>\n",
       "    <tr>\n",
       "      <th>22</th>\n",
       "      <td>services_atNode_aAction_F</td>\n",
       "      <td>0.031601</td>\n",
       "    </tr>\n",
       "    <tr>\n",
       "      <th>13</th>\n",
       "      <td>services_atNode_bAction_F</td>\n",
       "      <td>0.029070</td>\n",
       "    </tr>\n",
       "    <tr>\n",
       "      <th>16</th>\n",
       "      <td>services_atNode_aAction_A</td>\n",
       "      <td>0.027353</td>\n",
       "    </tr>\n",
       "    <tr>\n",
       "      <th>8</th>\n",
       "      <td>services_atNode_bAction_B</td>\n",
       "      <td>0.025626</td>\n",
       "    </tr>\n",
       "    <tr>\n",
       "      <th>1</th>\n",
       "      <td>user_atNode_B</td>\n",
       "      <td>0.000000</td>\n",
       "    </tr>\n",
       "    <tr>\n",
       "      <th>6</th>\n",
       "      <td>user_atNode_F</td>\n",
       "      <td>0.000000</td>\n",
       "    </tr>\n",
       "    <tr>\n",
       "      <th>5</th>\n",
       "      <td>user_atNode_E</td>\n",
       "      <td>0.000000</td>\n",
       "    </tr>\n",
       "    <tr>\n",
       "      <th>4</th>\n",
       "      <td>user_atNode_G</td>\n",
       "      <td>0.000000</td>\n",
       "    </tr>\n",
       "    <tr>\n",
       "      <th>3</th>\n",
       "      <td>user_atNode_D</td>\n",
       "      <td>0.000000</td>\n",
       "    </tr>\n",
       "    <tr>\n",
       "      <th>2</th>\n",
       "      <td>user_atNode_C</td>\n",
       "      <td>0.000000</td>\n",
       "    </tr>\n",
       "    <tr>\n",
       "      <th>0</th>\n",
       "      <td>user_atNode_A</td>\n",
       "      <td>0.000000</td>\n",
       "    </tr>\n",
       "  </tbody>\n",
       "</table>\n",
       "</div>"
      ],
      "text/plain": [
       "                    predictor  importancia\n",
       "14                     Action     0.229399\n",
       "15                  OnService     0.182044\n",
       "12  services_atNode_bAction_E     0.065721\n",
       "9   services_atNode_bAction_C     0.061885\n",
       "11  services_atNode_bAction_G     0.058335\n",
       "21  services_atNode_aAction_E     0.053885\n",
       "10  services_atNode_bAction_D     0.044111\n",
       "17  services_atNode_aAction_B     0.044055\n",
       "19  services_atNode_aAction_D     0.043756\n",
       "18  services_atNode_aAction_C     0.036820\n",
       "7   services_atNode_bAction_A     0.034107\n",
       "20  services_atNode_aAction_G     0.032232\n",
       "22  services_atNode_aAction_F     0.031601\n",
       "13  services_atNode_bAction_F     0.029070\n",
       "16  services_atNode_aAction_A     0.027353\n",
       "8   services_atNode_bAction_B     0.025626\n",
       "1               user_atNode_B     0.000000\n",
       "6               user_atNode_F     0.000000\n",
       "5               user_atNode_E     0.000000\n",
       "4               user_atNode_G     0.000000\n",
       "3               user_atNode_D     0.000000\n",
       "2               user_atNode_C     0.000000\n",
       "0               user_atNode_A     0.000000"
      ]
     },
     "execution_count": 40,
     "metadata": {},
     "output_type": "execute_result"
    }
   ],
   "source": [
    "importancia_predictores = pd.DataFrame(\n",
    "                            {'predictor': df.drop(columns = \"Fit\").columns,\n",
    "                             'importancia': model.feature_importances_}\n",
    "                            )\n",
    "\n",
    "importancia_predictores.sort_values('importancia', ascending=False)\n"
   ]
  },
  {
   "cell_type": "markdown",
   "id": "c1c7e9ed",
   "metadata": {},
   "source": [
    "## TestB Including constant variables from the topology"
   ]
  },
  {
   "cell_type": "code",
   "execution_count": 41,
   "id": "946c5ca8",
   "metadata": {},
   "outputs": [
    {
     "data": {
      "text/html": [
       "<div>\n",
       "<style scoped>\n",
       "    .dataframe tbody tr th:only-of-type {\n",
       "        vertical-align: middle;\n",
       "    }\n",
       "\n",
       "    .dataframe tbody tr th {\n",
       "        vertical-align: top;\n",
       "    }\n",
       "\n",
       "    .dataframe thead th {\n",
       "        text-align: right;\n",
       "    }\n",
       "</style>\n",
       "<table border=\"1\" class=\"dataframe\">\n",
       "  <thead>\n",
       "    <tr style=\"text-align: right;\">\n",
       "      <th></th>\n",
       "      <th>user_atNode_A</th>\n",
       "      <th>user_atNode_B</th>\n",
       "      <th>user_atNode_C</th>\n",
       "      <th>user_atNode_D</th>\n",
       "      <th>user_atNode_G</th>\n",
       "      <th>user_atNode_E</th>\n",
       "      <th>user_atNode_F</th>\n",
       "      <th>services_atNode_bAction_A</th>\n",
       "      <th>services_atNode_bAction_B</th>\n",
       "      <th>services_atNode_bAction_C</th>\n",
       "      <th>...</th>\n",
       "      <th>Action</th>\n",
       "      <th>OnService</th>\n",
       "      <th>services_atNode_aAction_A</th>\n",
       "      <th>services_atNode_aAction_B</th>\n",
       "      <th>services_atNode_aAction_C</th>\n",
       "      <th>services_atNode_aAction_D</th>\n",
       "      <th>services_atNode_aAction_G</th>\n",
       "      <th>services_atNode_aAction_E</th>\n",
       "      <th>services_atNode_aAction_F</th>\n",
       "      <th>Fit</th>\n",
       "    </tr>\n",
       "  </thead>\n",
       "  <tbody>\n",
       "    <tr>\n",
       "      <th>0</th>\n",
       "      <td>0.0</td>\n",
       "      <td>0.0</td>\n",
       "      <td>1.0</td>\n",
       "      <td>0.0</td>\n",
       "      <td>1.0</td>\n",
       "      <td>1.0</td>\n",
       "      <td>0.0</td>\n",
       "      <td>1.0</td>\n",
       "      <td>1.0</td>\n",
       "      <td>0.0</td>\n",
       "      <td>...</td>\n",
       "      <td>0.0</td>\n",
       "      <td>0.0</td>\n",
       "      <td>1.0</td>\n",
       "      <td>1.0</td>\n",
       "      <td>0.0</td>\n",
       "      <td>0.0</td>\n",
       "      <td>1.0</td>\n",
       "      <td>0.0</td>\n",
       "      <td>0.0</td>\n",
       "      <td>0.00</td>\n",
       "    </tr>\n",
       "    <tr>\n",
       "      <th>1</th>\n",
       "      <td>0.0</td>\n",
       "      <td>0.0</td>\n",
       "      <td>1.0</td>\n",
       "      <td>0.0</td>\n",
       "      <td>1.0</td>\n",
       "      <td>1.0</td>\n",
       "      <td>0.0</td>\n",
       "      <td>0.0</td>\n",
       "      <td>1.0</td>\n",
       "      <td>1.0</td>\n",
       "      <td>...</td>\n",
       "      <td>1.0</td>\n",
       "      <td>3.0</td>\n",
       "      <td>0.0</td>\n",
       "      <td>1.0</td>\n",
       "      <td>1.0</td>\n",
       "      <td>0.0</td>\n",
       "      <td>1.0</td>\n",
       "      <td>0.0</td>\n",
       "      <td>0.0</td>\n",
       "      <td>0.00</td>\n",
       "    </tr>\n",
       "    <tr>\n",
       "      <th>2</th>\n",
       "      <td>0.0</td>\n",
       "      <td>0.0</td>\n",
       "      <td>1.0</td>\n",
       "      <td>0.0</td>\n",
       "      <td>1.0</td>\n",
       "      <td>1.0</td>\n",
       "      <td>0.0</td>\n",
       "      <td>1.0</td>\n",
       "      <td>1.0</td>\n",
       "      <td>1.0</td>\n",
       "      <td>...</td>\n",
       "      <td>1.0</td>\n",
       "      <td>4.0</td>\n",
       "      <td>1.0</td>\n",
       "      <td>1.0</td>\n",
       "      <td>1.0</td>\n",
       "      <td>0.0</td>\n",
       "      <td>0.0</td>\n",
       "      <td>0.0</td>\n",
       "      <td>1.0</td>\n",
       "      <td>-0.44</td>\n",
       "    </tr>\n",
       "    <tr>\n",
       "      <th>3</th>\n",
       "      <td>0.0</td>\n",
       "      <td>0.0</td>\n",
       "      <td>1.0</td>\n",
       "      <td>0.0</td>\n",
       "      <td>1.0</td>\n",
       "      <td>1.0</td>\n",
       "      <td>0.0</td>\n",
       "      <td>0.0</td>\n",
       "      <td>0.0</td>\n",
       "      <td>0.0</td>\n",
       "      <td>...</td>\n",
       "      <td>3.0</td>\n",
       "      <td>1.0</td>\n",
       "      <td>0.0</td>\n",
       "      <td>0.0</td>\n",
       "      <td>0.0</td>\n",
       "      <td>1.0</td>\n",
       "      <td>1.0</td>\n",
       "      <td>1.0</td>\n",
       "      <td>1.0</td>\n",
       "      <td>0.00</td>\n",
       "    </tr>\n",
       "    <tr>\n",
       "      <th>4</th>\n",
       "      <td>0.0</td>\n",
       "      <td>0.0</td>\n",
       "      <td>1.0</td>\n",
       "      <td>0.0</td>\n",
       "      <td>1.0</td>\n",
       "      <td>1.0</td>\n",
       "      <td>0.0</td>\n",
       "      <td>1.0</td>\n",
       "      <td>1.0</td>\n",
       "      <td>1.0</td>\n",
       "      <td>...</td>\n",
       "      <td>0.0</td>\n",
       "      <td>3.0</td>\n",
       "      <td>1.0</td>\n",
       "      <td>1.0</td>\n",
       "      <td>1.0</td>\n",
       "      <td>1.0</td>\n",
       "      <td>0.0</td>\n",
       "      <td>1.0</td>\n",
       "      <td>0.0</td>\n",
       "      <td>0.00</td>\n",
       "    </tr>\n",
       "  </tbody>\n",
       "</table>\n",
       "<p>5 rows × 24 columns</p>\n",
       "</div>"
      ],
      "text/plain": [
       "   user_atNode_A  user_atNode_B  user_atNode_C  user_atNode_D  user_atNode_G  \\\n",
       "0            0.0            0.0            1.0            0.0            1.0   \n",
       "1            0.0            0.0            1.0            0.0            1.0   \n",
       "2            0.0            0.0            1.0            0.0            1.0   \n",
       "3            0.0            0.0            1.0            0.0            1.0   \n",
       "4            0.0            0.0            1.0            0.0            1.0   \n",
       "\n",
       "   user_atNode_E  user_atNode_F  services_atNode_bAction_A  \\\n",
       "0            1.0            0.0                        1.0   \n",
       "1            1.0            0.0                        0.0   \n",
       "2            1.0            0.0                        1.0   \n",
       "3            1.0            0.0                        0.0   \n",
       "4            1.0            0.0                        1.0   \n",
       "\n",
       "   services_atNode_bAction_B  services_atNode_bAction_C  ...  Action  \\\n",
       "0                        1.0                        0.0  ...     0.0   \n",
       "1                        1.0                        1.0  ...     1.0   \n",
       "2                        1.0                        1.0  ...     1.0   \n",
       "3                        0.0                        0.0  ...     3.0   \n",
       "4                        1.0                        1.0  ...     0.0   \n",
       "\n",
       "   OnService  services_atNode_aAction_A  services_atNode_aAction_B  \\\n",
       "0        0.0                        1.0                        1.0   \n",
       "1        3.0                        0.0                        1.0   \n",
       "2        4.0                        1.0                        1.0   \n",
       "3        1.0                        0.0                        0.0   \n",
       "4        3.0                        1.0                        1.0   \n",
       "\n",
       "   services_atNode_aAction_C  services_atNode_aAction_D  \\\n",
       "0                        0.0                        0.0   \n",
       "1                        1.0                        0.0   \n",
       "2                        1.0                        0.0   \n",
       "3                        0.0                        1.0   \n",
       "4                        1.0                        1.0   \n",
       "\n",
       "   services_atNode_aAction_G  services_atNode_aAction_E  \\\n",
       "0                        1.0                        0.0   \n",
       "1                        1.0                        0.0   \n",
       "2                        0.0                        0.0   \n",
       "3                        1.0                        1.0   \n",
       "4                        0.0                        1.0   \n",
       "\n",
       "   services_atNode_aAction_F   Fit  \n",
       "0                        0.0  0.00  \n",
       "1                        0.0  0.00  \n",
       "2                        1.0 -0.44  \n",
       "3                        1.0  0.00  \n",
       "4                        0.0  0.00  \n",
       "\n",
       "[5 rows x 24 columns]"
      ]
     },
     "execution_count": 41,
     "metadata": {},
     "output_type": "execute_result"
    }
   ],
   "source": [
    "df.head()"
   ]
  },
  {
   "cell_type": "code",
   "execution_count": 42,
   "id": "34f9a3cc",
   "metadata": {},
   "outputs": [
    {
     "data": {
      "text/plain": [
       "(1000, 24)"
      ]
     },
     "execution_count": 42,
     "metadata": {},
     "output_type": "execute_result"
    }
   ],
   "source": [
    "df.shape"
   ]
  },
  {
   "cell_type": "code",
   "execution_count": 43,
   "id": "d3441bce",
   "metadata": {},
   "outputs": [
    {
     "data": {
      "text/html": [
       "<div>\n",
       "<style scoped>\n",
       "    .dataframe tbody tr th:only-of-type {\n",
       "        vertical-align: middle;\n",
       "    }\n",
       "\n",
       "    .dataframe tbody tr th {\n",
       "        vertical-align: top;\n",
       "    }\n",
       "\n",
       "    .dataframe thead th {\n",
       "        text-align: right;\n",
       "    }\n",
       "</style>\n",
       "<table border=\"1\" class=\"dataframe\">\n",
       "  <thead>\n",
       "    <tr style=\"text-align: right;\">\n",
       "      <th></th>\n",
       "      <th>degree_A</th>\n",
       "      <th>degree_B</th>\n",
       "      <th>degree_C</th>\n",
       "      <th>degree_D</th>\n",
       "      <th>degree_G</th>\n",
       "      <th>degree_E</th>\n",
       "      <th>degree_F</th>\n",
       "      <th>centrality_A</th>\n",
       "      <th>centrality_B</th>\n",
       "      <th>centrality_C</th>\n",
       "      <th>centrality_D</th>\n",
       "      <th>centrality_G</th>\n",
       "      <th>centrality_E</th>\n",
       "      <th>centrality_F</th>\n",
       "    </tr>\n",
       "  </thead>\n",
       "  <tbody>\n",
       "    <tr>\n",
       "      <th>0</th>\n",
       "      <td>2.0</td>\n",
       "      <td>3.0</td>\n",
       "      <td>3.0</td>\n",
       "      <td>5.0</td>\n",
       "      <td>1.0</td>\n",
       "      <td>2.0</td>\n",
       "      <td>2.0</td>\n",
       "      <td>0.0</td>\n",
       "      <td>0.055556</td>\n",
       "      <td>0.177778</td>\n",
       "      <td>0.577778</td>\n",
       "      <td>0.0</td>\n",
       "      <td>0.088889</td>\n",
       "      <td>0.033333</td>\n",
       "    </tr>\n",
       "  </tbody>\n",
       "</table>\n",
       "</div>"
      ],
      "text/plain": [
       "   degree_A  degree_B  degree_C  degree_D  degree_G  degree_E  degree_F  \\\n",
       "0       2.0       3.0       3.0       5.0       1.0       2.0       2.0   \n",
       "\n",
       "   centrality_A  centrality_B  centrality_C  centrality_D  centrality_G  \\\n",
       "0           0.0      0.055556      0.177778      0.577778           0.0   \n",
       "\n",
       "   centrality_E  centrality_F  \n",
       "0      0.088889      0.033333  "
      ]
     },
     "execution_count": 43,
     "metadata": {},
     "output_type": "execute_result"
    }
   ],
   "source": [
    "columns = [\"degree_%s\"%n for n in G.nodes()]\n",
    "columns += [\"centrality_%s\"%n for n in G.nodes()]\n",
    "\n",
    "node_degree = list(dict(G.degree()).values())\n",
    "node_centrality = list(nx.betweenness_centrality(G).values())\n",
    "\n",
    "dfConstant = pd.DataFrame(columns=columns)\n",
    "dfConstant.loc[0] = node_degree+node_centrality\n",
    "dfConstant"
   ]
  },
  {
   "cell_type": "code",
   "execution_count": 45,
   "id": "790389b9",
   "metadata": {},
   "outputs": [],
   "source": [
    "dfj = df.merge(dfConstant, how='cross')"
   ]
  },
  {
   "cell_type": "code",
   "execution_count": 46,
   "id": "4ba596ec",
   "metadata": {},
   "outputs": [
    {
     "name": "stdout",
     "output_type": "stream",
     "text": [
      "750\n",
      "250\n"
     ]
    }
   ],
   "source": [
    "X_train, X_test, y_train, y_test = train_test_split(\n",
    "                                        dfj.drop(columns = \"Fit\"),\n",
    "                                        dfj['Fit'],\n",
    "                                        random_state = 0)\n",
    "print(len(X_train))\n",
    "print(len(X_test))"
   ]
  },
  {
   "cell_type": "code",
   "execution_count": 52,
   "id": "2b58d3ca",
   "metadata": {},
   "outputs": [
    {
     "data": {
      "text/plain": [
       "RandomForestRegressor(n_estimators=10, n_jobs=-1, random_state=123)"
      ]
     },
     "execution_count": 52,
     "metadata": {},
     "output_type": "execute_result"
    }
   ],
   "source": [
    "model = RandomForestRegressor(\n",
    "            n_estimators = 10,\n",
    "            criterion    = 'squared_error',\n",
    "            max_depth    = None,\n",
    "            max_features = 'auto',\n",
    "            oob_score    = False,\n",
    "            n_jobs       = -1,\n",
    "            random_state = 123\n",
    "         )\n",
    "\n",
    "model.fit(X_train, y_train)"
   ]
  },
  {
   "cell_type": "code",
   "execution_count": 53,
   "id": "260ef60b",
   "metadata": {},
   "outputs": [
    {
     "name": "stdout",
     "output_type": "stream",
     "text": [
      "El error (rmse) de test es: 0.094250\n"
     ]
    }
   ],
   "source": [
    "forecasting = model.predict(X = X_test)\n",
    "\n",
    "rmse = mean_squared_error(\n",
    "        y_true  = y_test,\n",
    "        y_pred  = forecasting)\n",
    "print(\"El error (rmse) de test es: %f\"%rmse)"
   ]
  },
  {
   "cell_type": "code",
   "execution_count": 58,
   "id": "b2dca656",
   "metadata": {},
   "outputs": [
    {
     "data": {
      "text/html": [
       "<div>\n",
       "<style scoped>\n",
       "    .dataframe tbody tr th:only-of-type {\n",
       "        vertical-align: middle;\n",
       "    }\n",
       "\n",
       "    .dataframe tbody tr th {\n",
       "        vertical-align: top;\n",
       "    }\n",
       "\n",
       "    .dataframe thead th {\n",
       "        text-align: right;\n",
       "    }\n",
       "</style>\n",
       "<table border=\"1\" class=\"dataframe\">\n",
       "  <thead>\n",
       "    <tr style=\"text-align: right;\">\n",
       "      <th></th>\n",
       "      <th>importances_mean</th>\n",
       "      <th>importances_std</th>\n",
       "      <th>feature</th>\n",
       "    </tr>\n",
       "  </thead>\n",
       "  <tbody>\n",
       "    <tr>\n",
       "      <th>14</th>\n",
       "      <td>0.277430</td>\n",
       "      <td>0.005378</td>\n",
       "      <td>Action</td>\n",
       "    </tr>\n",
       "    <tr>\n",
       "      <th>15</th>\n",
       "      <td>0.171446</td>\n",
       "      <td>0.001939</td>\n",
       "      <td>OnService</td>\n",
       "    </tr>\n",
       "    <tr>\n",
       "      <th>20</th>\n",
       "      <td>0.086519</td>\n",
       "      <td>0.004526</td>\n",
       "      <td>services_atNode_aAction_G</td>\n",
       "    </tr>\n",
       "    <tr>\n",
       "      <th>18</th>\n",
       "      <td>0.070043</td>\n",
       "      <td>0.007969</td>\n",
       "      <td>services_atNode_aAction_C</td>\n",
       "    </tr>\n",
       "    <tr>\n",
       "      <th>21</th>\n",
       "      <td>0.068444</td>\n",
       "      <td>0.002014</td>\n",
       "      <td>services_atNode_aAction_E</td>\n",
       "    </tr>\n",
       "    <tr>\n",
       "      <th>10</th>\n",
       "      <td>0.061541</td>\n",
       "      <td>0.003016</td>\n",
       "      <td>services_atNode_bAction_D</td>\n",
       "    </tr>\n",
       "    <tr>\n",
       "      <th>19</th>\n",
       "      <td>0.050520</td>\n",
       "      <td>0.003125</td>\n",
       "      <td>services_atNode_aAction_D</td>\n",
       "    </tr>\n",
       "    <tr>\n",
       "      <th>9</th>\n",
       "      <td>0.047790</td>\n",
       "      <td>0.006266</td>\n",
       "      <td>services_atNode_bAction_C</td>\n",
       "    </tr>\n",
       "    <tr>\n",
       "      <th>11</th>\n",
       "      <td>0.044864</td>\n",
       "      <td>0.002668</td>\n",
       "      <td>services_atNode_bAction_G</td>\n",
       "    </tr>\n",
       "    <tr>\n",
       "      <th>12</th>\n",
       "      <td>0.044009</td>\n",
       "      <td>0.002095</td>\n",
       "      <td>services_atNode_bAction_E</td>\n",
       "    </tr>\n",
       "    <tr>\n",
       "      <th>16</th>\n",
       "      <td>0.042162</td>\n",
       "      <td>0.004829</td>\n",
       "      <td>services_atNode_aAction_A</td>\n",
       "    </tr>\n",
       "    <tr>\n",
       "      <th>17</th>\n",
       "      <td>0.033048</td>\n",
       "      <td>0.003524</td>\n",
       "      <td>services_atNode_aAction_B</td>\n",
       "    </tr>\n",
       "    <tr>\n",
       "      <th>7</th>\n",
       "      <td>0.032988</td>\n",
       "      <td>0.004357</td>\n",
       "      <td>services_atNode_bAction_A</td>\n",
       "    </tr>\n",
       "    <tr>\n",
       "      <th>13</th>\n",
       "      <td>0.029420</td>\n",
       "      <td>0.002923</td>\n",
       "      <td>services_atNode_bAction_F</td>\n",
       "    </tr>\n",
       "    <tr>\n",
       "      <th>22</th>\n",
       "      <td>0.028900</td>\n",
       "      <td>0.001920</td>\n",
       "      <td>services_atNode_aAction_F</td>\n",
       "    </tr>\n",
       "    <tr>\n",
       "      <th>8</th>\n",
       "      <td>0.025043</td>\n",
       "      <td>0.002350</td>\n",
       "      <td>services_atNode_bAction_B</td>\n",
       "    </tr>\n",
       "    <tr>\n",
       "      <th>26</th>\n",
       "      <td>0.000000</td>\n",
       "      <td>0.000000</td>\n",
       "      <td>degree_D</td>\n",
       "    </tr>\n",
       "    <tr>\n",
       "      <th>31</th>\n",
       "      <td>0.000000</td>\n",
       "      <td>0.000000</td>\n",
       "      <td>centrality_B</td>\n",
       "    </tr>\n",
       "    <tr>\n",
       "      <th>32</th>\n",
       "      <td>0.000000</td>\n",
       "      <td>0.000000</td>\n",
       "      <td>centrality_C</td>\n",
       "    </tr>\n",
       "    <tr>\n",
       "      <th>30</th>\n",
       "      <td>0.000000</td>\n",
       "      <td>0.000000</td>\n",
       "      <td>centrality_A</td>\n",
       "    </tr>\n",
       "    <tr>\n",
       "      <th>33</th>\n",
       "      <td>0.000000</td>\n",
       "      <td>0.000000</td>\n",
       "      <td>centrality_D</td>\n",
       "    </tr>\n",
       "    <tr>\n",
       "      <th>34</th>\n",
       "      <td>0.000000</td>\n",
       "      <td>0.000000</td>\n",
       "      <td>centrality_G</td>\n",
       "    </tr>\n",
       "    <tr>\n",
       "      <th>35</th>\n",
       "      <td>0.000000</td>\n",
       "      <td>0.000000</td>\n",
       "      <td>centrality_E</td>\n",
       "    </tr>\n",
       "    <tr>\n",
       "      <th>29</th>\n",
       "      <td>0.000000</td>\n",
       "      <td>0.000000</td>\n",
       "      <td>degree_F</td>\n",
       "    </tr>\n",
       "    <tr>\n",
       "      <th>28</th>\n",
       "      <td>0.000000</td>\n",
       "      <td>0.000000</td>\n",
       "      <td>degree_E</td>\n",
       "    </tr>\n",
       "    <tr>\n",
       "      <th>27</th>\n",
       "      <td>0.000000</td>\n",
       "      <td>0.000000</td>\n",
       "      <td>degree_G</td>\n",
       "    </tr>\n",
       "    <tr>\n",
       "      <th>0</th>\n",
       "      <td>0.000000</td>\n",
       "      <td>0.000000</td>\n",
       "      <td>user_atNode_A</td>\n",
       "    </tr>\n",
       "    <tr>\n",
       "      <th>25</th>\n",
       "      <td>0.000000</td>\n",
       "      <td>0.000000</td>\n",
       "      <td>degree_C</td>\n",
       "    </tr>\n",
       "    <tr>\n",
       "      <th>24</th>\n",
       "      <td>0.000000</td>\n",
       "      <td>0.000000</td>\n",
       "      <td>degree_B</td>\n",
       "    </tr>\n",
       "    <tr>\n",
       "      <th>23</th>\n",
       "      <td>0.000000</td>\n",
       "      <td>0.000000</td>\n",
       "      <td>degree_A</td>\n",
       "    </tr>\n",
       "    <tr>\n",
       "      <th>1</th>\n",
       "      <td>0.000000</td>\n",
       "      <td>0.000000</td>\n",
       "      <td>user_atNode_B</td>\n",
       "    </tr>\n",
       "    <tr>\n",
       "      <th>6</th>\n",
       "      <td>0.000000</td>\n",
       "      <td>0.000000</td>\n",
       "      <td>user_atNode_F</td>\n",
       "    </tr>\n",
       "    <tr>\n",
       "      <th>5</th>\n",
       "      <td>0.000000</td>\n",
       "      <td>0.000000</td>\n",
       "      <td>user_atNode_E</td>\n",
       "    </tr>\n",
       "    <tr>\n",
       "      <th>4</th>\n",
       "      <td>0.000000</td>\n",
       "      <td>0.000000</td>\n",
       "      <td>user_atNode_G</td>\n",
       "    </tr>\n",
       "    <tr>\n",
       "      <th>3</th>\n",
       "      <td>0.000000</td>\n",
       "      <td>0.000000</td>\n",
       "      <td>user_atNode_D</td>\n",
       "    </tr>\n",
       "    <tr>\n",
       "      <th>2</th>\n",
       "      <td>0.000000</td>\n",
       "      <td>0.000000</td>\n",
       "      <td>user_atNode_C</td>\n",
       "    </tr>\n",
       "    <tr>\n",
       "      <th>36</th>\n",
       "      <td>0.000000</td>\n",
       "      <td>0.000000</td>\n",
       "      <td>centrality_F</td>\n",
       "    </tr>\n",
       "  </tbody>\n",
       "</table>\n",
       "</div>"
      ],
      "text/plain": [
       "    importances_mean  importances_std                    feature\n",
       "14          0.277430         0.005378                     Action\n",
       "15          0.171446         0.001939                  OnService\n",
       "20          0.086519         0.004526  services_atNode_aAction_G\n",
       "18          0.070043         0.007969  services_atNode_aAction_C\n",
       "21          0.068444         0.002014  services_atNode_aAction_E\n",
       "10          0.061541         0.003016  services_atNode_bAction_D\n",
       "19          0.050520         0.003125  services_atNode_aAction_D\n",
       "9           0.047790         0.006266  services_atNode_bAction_C\n",
       "11          0.044864         0.002668  services_atNode_bAction_G\n",
       "12          0.044009         0.002095  services_atNode_bAction_E\n",
       "16          0.042162         0.004829  services_atNode_aAction_A\n",
       "17          0.033048         0.003524  services_atNode_aAction_B\n",
       "7           0.032988         0.004357  services_atNode_bAction_A\n",
       "13          0.029420         0.002923  services_atNode_bAction_F\n",
       "22          0.028900         0.001920  services_atNode_aAction_F\n",
       "8           0.025043         0.002350  services_atNode_bAction_B\n",
       "26          0.000000         0.000000                   degree_D\n",
       "31          0.000000         0.000000               centrality_B\n",
       "32          0.000000         0.000000               centrality_C\n",
       "30          0.000000         0.000000               centrality_A\n",
       "33          0.000000         0.000000               centrality_D\n",
       "34          0.000000         0.000000               centrality_G\n",
       "35          0.000000         0.000000               centrality_E\n",
       "29          0.000000         0.000000                   degree_F\n",
       "28          0.000000         0.000000                   degree_E\n",
       "27          0.000000         0.000000                   degree_G\n",
       "0           0.000000         0.000000              user_atNode_A\n",
       "25          0.000000         0.000000                   degree_C\n",
       "24          0.000000         0.000000                   degree_B\n",
       "23          0.000000         0.000000                   degree_A\n",
       "1           0.000000         0.000000              user_atNode_B\n",
       "6           0.000000         0.000000              user_atNode_F\n",
       "5           0.000000         0.000000              user_atNode_E\n",
       "4           0.000000         0.000000              user_atNode_G\n",
       "3           0.000000         0.000000              user_atNode_D\n",
       "2           0.000000         0.000000              user_atNode_C\n",
       "36          0.000000         0.000000               centrality_F"
      ]
     },
     "execution_count": 58,
     "metadata": {},
     "output_type": "execute_result"
    }
   ],
   "source": [
    "from sklearn.inspection import permutation_importance\n",
    "importancia = permutation_importance(\n",
    "                estimator    = model,\n",
    "                X            = X_train,\n",
    "                y            = y_train,\n",
    "                n_repeats    = 5,\n",
    "                scoring      = 'neg_root_mean_squared_error',\n",
    "                n_jobs       = multiprocessing.cpu_count() - 1,\n",
    "                random_state = 123\n",
    "             )\n",
    "\n",
    "# Se almacenan los resultados (media y desviación) en un dataframe\n",
    "df_importancia = pd.DataFrame(\n",
    "                    {k: importancia[k] for k in ['importances_mean', 'importances_std']}\n",
    "                 )\n",
    "df_importancia['feature'] = X_train.columns\n",
    "df_importancia.sort_values('importances_mean', ascending=False)"
   ]
  },
  {
   "cell_type": "code",
   "execution_count": 60,
   "id": "49a31a45",
   "metadata": {},
   "outputs": [
    {
     "data": {
      "image/png": "[encoded data removed]",
      "text/plain": [
       "<Figure size 360x576 with 1 Axes>"
      ]
     },
     "metadata": {
      "needs_background": "light"
     },
     "output_type": "display_data"
    }
   ],
   "source": [
    "# Gráfico\n",
    "fig, ax = plt.subplots(figsize=(5, 8))\n",
    "df_importancia = df_importancia.sort_values('importances_mean', ascending=True)\n",
    "ax.barh(\n",
    "    df_importancia['feature'],\n",
    "    df_importancia['importances_mean'],\n",
    "    xerr=df_importancia['importances_std'],\n",
    "    align='center',\n",
    "    alpha=0\n",
    ")\n",
    "ax.plot(\n",
    "    df_importancia['importances_mean'],\n",
    "    df_importancia['feature'],\n",
    "    marker=\"D\",\n",
    "    linestyle=\"\",\n",
    "    alpha=0.8,\n",
    "    color=\"r\"\n",
    ")\n",
    "ax.set_title('Importancia de los predictores (train)')\n",
    "ax.set_xlabel('Incremento del error tras la permutación');"
   ]
  },
  {
   "cell_type": "markdown",
   "id": "ec4fd911",
   "metadata": {},
   "source": [
    "### Issues\n",
    "- Related work with RF & Cloud/Fog/Edge computing \n",
    "- Improve the fitness function\n",
    "- Hyperparametrization analysis\n",
    "- More complex scenario -> version.B?"
   ]
  },
  {
   "cell_type": "markdown",
   "id": "68973fee",
   "metadata": {},
   "source": [
    "## RW:\n",
    "- IMPROVING RESPONSE TIME OF TASK OFFLOADING BY RANDOM FOREST, EXTRA-TREES AND ADABOOST CLASSIFIERS IN MOBILE FOG COMPUTING https://www.ejmanager.com/mnstemps/71/71-1590557276.pdf?t=1636034459 Naive criteria: Authentication Confidentiality Integrity Availability Capacity Speed Cost\n",
    "- ..."
   ]
  },
  {
   "cell_type": "code",
   "execution_count": null,
   "id": "5255c663",
   "metadata": {},
   "outputs": [],
   "source": []
  }
 ],
 "metadata": {
  "kernelspec": {
   "display_name": "MyPy397",
   "language": "python",
   "name": "mypy397"
  },
  "language_info": {
   "codemirror_mode": {
    "name": "ipython",
    "version": 3
   },
   "file_extension": ".py",
   "mimetype": "text/x-python",
   "name": "python",
   "nbconvert_exporter": "python",
   "pygments_lexer": "ipython3",
   "version": "3.9.7"
  }
 },
 "nbformat": 4,
 "nbformat_minor": 5
}

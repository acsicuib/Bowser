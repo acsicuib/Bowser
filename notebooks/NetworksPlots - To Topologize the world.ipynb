{
 "cells": [
  {
   "cell_type": "code",
   "execution_count": 1,
   "id": "b6639e1c",
   "metadata": {},
   "outputs": [],
   "source": [
    "import networkx as nx\n",
    "import numpy as np"
   ]
  },
  {
   "cell_type": "code",
   "execution_count": 59,
   "id": "d9751ce1",
   "metadata": {},
   "outputs": [],
   "source": [
    "G = nx.generators.random_graphs.barabasi_albert_graph(100,1,seed=23)\n",
    "pos= nx.kamada_kawai_layout(G)\n",
    "pos = nx.rescale_layout_dict(pos,20)"
   ]
  },
  {
   "cell_type": "code",
   "execution_count": 6,
   "id": "35e27a21",
   "metadata": {},
   "outputs": [],
   "source": [
    "#G = nx.generators.balanced_tree(3,5)\n",
    "G = nx.generators.full_rary_tree(4,200)"
   ]
  },
  {
   "cell_type": "code",
   "execution_count": null,
   "id": "073996c2",
   "metadata": {},
   "outputs": [],
   "source": [
    "pos= nx.kamada_kawai_layout(G)"
   ]
  },
  {
   "cell_type": "code",
   "execution_count": 3,
   "id": "e1024d00",
   "metadata": {},
   "outputs": [
    {
     "data": {
      "image/png": "[encoded data removed]",
      "text/plain": [
       "<Figure size 432x288 with 1 Axes>"
      ]
     },
     "metadata": {},
     "output_type": "display_data"
    }
   ],
   "source": [
    "nx.draw(G)"
   ]
  },
  {
   "cell_type": "code",
   "execution_count": 8,
   "id": "32c913d4",
   "metadata": {},
   "outputs": [
    {
     "name": "stdout",
     "output_type": "stream",
     "text": [
      "[(0, 4), (1, 5), (2, 5), (3, 5), (4, 5), (5, 5), (6, 5), (7, 5), (8, 5), (9, 5), (10, 5), (11, 5), (12, 5), (13, 5), (14, 5), (15, 5), (16, 5), (17, 5), (18, 5), (19, 5), (20, 5), (21, 5), (22, 5), (23, 5), (24, 5), (25, 5), (26, 5), (27, 5), (28, 5), (29, 5), (30, 5), (31, 5), (32, 5), (33, 5), (34, 5), (35, 5), (36, 5), (37, 5), (38, 5), (39, 5), (40, 5), (41, 5), (42, 5), (43, 5), (44, 5), (45, 5), (46, 5), (47, 5), (48, 5), (49, 4), (50, 1), (51, 1), (52, 1), (53, 1), (54, 1), (55, 1), (56, 1), (57, 1), (58, 1), (59, 1), (60, 1), (61, 1), (62, 1), (63, 1), (64, 1), (65, 1), (66, 1), (67, 1), (68, 1), (69, 1), (70, 1), (71, 1), (72, 1), (73, 1), (74, 1), (75, 1), (76, 1), (77, 1), (78, 1), (79, 1), (80, 1), (81, 1), (82, 1), (83, 1), (84, 1), (85, 1), (86, 1), (87, 1), (88, 1), (89, 1), (90, 1), (91, 1), (92, 1), (93, 1), (94, 1), (95, 1), (96, 1), (97, 1), (98, 1), (99, 1), (100, 1), (101, 1), (102, 1), (103, 1), (104, 1), (105, 1), (106, 1), (107, 1), (108, 1), (109, 1), (110, 1), (111, 1), (112, 1), (113, 1), (114, 1), (115, 1), (116, 1), (117, 1), (118, 1), (119, 1), (120, 1), (121, 1), (122, 1), (123, 1), (124, 1), (125, 1), (126, 1), (127, 1), (128, 1), (129, 1), (130, 1), (131, 1), (132, 1), (133, 1), (134, 1), (135, 1), (136, 1), (137, 1), (138, 1), (139, 1), (140, 1), (141, 1), (142, 1), (143, 1), (144, 1), (145, 1), (146, 1), (147, 1), (148, 1), (149, 1), (150, 1), (151, 1), (152, 1), (153, 1), (154, 1), (155, 1), (156, 1), (157, 1), (158, 1), (159, 1), (160, 1), (161, 1), (162, 1), (163, 1), (164, 1), (165, 1), (166, 1), (167, 1), (168, 1), (169, 1), (170, 1), (171, 1), (172, 1), (173, 1), (174, 1), (175, 1), (176, 1), (177, 1), (178, 1), (179, 1), (180, 1), (181, 1), (182, 1), (183, 1), (184, 1), (185, 1), (186, 1), (187, 1), (188, 1), (189, 1), (190, 1), (191, 1), (192, 1), (193, 1), (194, 1), (195, 1), (196, 1), (197, 1), (198, 1), (199, 1)]\n"
     ]
    }
   ],
   "source": [
    "deg = nx.degree(G)\n",
    "print(deg)"
   ]
  },
  {
   "cell_type": "code",
   "execution_count": 9,
   "id": "cbeabbcc",
   "metadata": {},
   "outputs": [],
   "source": [
    "cent = nx.betweenness_centrality(G)"
   ]
  },
  {
   "cell_type": "code",
   "execution_count": 10,
   "id": "0910346f",
   "metadata": {},
   "outputs": [
    {
     "name": "stdout",
     "output_type": "stream",
     "text": [
      "{0: 0.6677326024059692, 1: 0.6246383432313081, 2: 0.5540327902136947, 3: 0.18933049083802853, 4: 0.18933049083802853, 5: 0.18933049083802853, 6: 0.18933049083802853, 7: 0.18933049083802853, 8: 0.18933049083802853, 9: 0.18933049083802853, 10: 0.18933049083802853, 11: 0.18933049083802853, 12: 0.06898126998629511, 13: 0.03989645195675346, 14: 0.03989645195675346, 15: 0.03989645195675346, 16: 0.03989645195675346, 17: 0.03989645195675346, 18: 0.03989645195675346, 19: 0.03989645195675346, 20: 0.03989645195675346, 21: 0.03989645195675346, 22: 0.03989645195675346, 23: 0.03989645195675346, 24: 0.03989645195675346, 25: 0.03989645195675346, 26: 0.03989645195675346, 27: 0.03989645195675346, 28: 0.03989645195675346, 29: 0.03989645195675346, 30: 0.03989645195675346, 31: 0.03989645195675346, 32: 0.03989645195675346, 33: 0.03989645195675346, 34: 0.03989645195675346, 35: 0.03989645195675346, 36: 0.03989645195675346, 37: 0.03989645195675346, 38: 0.03989645195675346, 39: 0.03989645195675346, 40: 0.03989645195675346, 41: 0.03989645195675346, 42: 0.03989645195675346, 43: 0.03989645195675346, 44: 0.03989645195675346, 45: 0.03989645195675346, 46: 0.03989645195675346, 47: 0.03989645195675346, 48: 0.03989645195675346, 49: 0.02999847723465814, 50: 0.0, 51: 0.0, 52: 0.0, 53: 0.0, 54: 0.0, 55: 0.0, 56: 0.0, 57: 0.0, 58: 0.0, 59: 0.0, 60: 0.0, 61: 0.0, 62: 0.0, 63: 0.0, 64: 0.0, 65: 0.0, 66: 0.0, 67: 0.0, 68: 0.0, 69: 0.0, 70: 0.0, 71: 0.0, 72: 0.0, 73: 0.0, 74: 0.0, 75: 0.0, 76: 0.0, 77: 0.0, 78: 0.0, 79: 0.0, 80: 0.0, 81: 0.0, 82: 0.0, 83: 0.0, 84: 0.0, 85: 0.0, 86: 0.0, 87: 0.0, 88: 0.0, 89: 0.0, 90: 0.0, 91: 0.0, 92: 0.0, 93: 0.0, 94: 0.0, 95: 0.0, 96: 0.0, 97: 0.0, 98: 0.0, 99: 0.0, 100: 0.0, 101: 0.0, 102: 0.0, 103: 0.0, 104: 0.0, 105: 0.0, 106: 0.0, 107: 0.0, 108: 0.0, 109: 0.0, 110: 0.0, 111: 0.0, 112: 0.0, 113: 0.0, 114: 0.0, 115: 0.0, 116: 0.0, 117: 0.0, 118: 0.0, 119: 0.0, 120: 0.0, 121: 0.0, 122: 0.0, 123: 0.0, 124: 0.0, 125: 0.0, 126: 0.0, 127: 0.0, 128: 0.0, 129: 0.0, 130: 0.0, 131: 0.0, 132: 0.0, 133: 0.0, 134: 0.0, 135: 0.0, 136: 0.0, 137: 0.0, 138: 0.0, 139: 0.0, 140: 0.0, 141: 0.0, 142: 0.0, 143: 0.0, 144: 0.0, 145: 0.0, 146: 0.0, 147: 0.0, 148: 0.0, 149: 0.0, 150: 0.0, 151: 0.0, 152: 0.0, 153: 0.0, 154: 0.0, 155: 0.0, 156: 0.0, 157: 0.0, 158: 0.0, 159: 0.0, 160: 0.0, 161: 0.0, 162: 0.0, 163: 0.0, 164: 0.0, 165: 0.0, 166: 0.0, 167: 0.0, 168: 0.0, 169: 0.0, 170: 0.0, 171: 0.0, 172: 0.0, 173: 0.0, 174: 0.0, 175: 0.0, 176: 0.0, 177: 0.0, 178: 0.0, 179: 0.0, 180: 0.0, 181: 0.0, 182: 0.0, 183: 0.0, 184: 0.0, 185: 0.0, 186: 0.0, 187: 0.0, 188: 0.0, 189: 0.0, 190: 0.0, 191: 0.0, 192: 0.0, 193: 0.0, 194: 0.0, 195: 0.0, 196: 0.0, 197: 0.0, 198: 0.0, 199: 0.0}\n"
     ]
    }
   ],
   "source": [
    "#nx.set_node_attributes(G,values=cent,name=\"Centrality\")\n",
    "print(cent)"
   ]
  },
  {
   "cell_type": "code",
   "execution_count": 12,
   "id": "a39a7d1d",
   "metadata": {},
   "outputs": [
    {
     "name": "stdout",
     "output_type": "stream",
     "text": [
      "0\n"
     ]
    }
   ],
   "source": [
    "root = np.argmax(cent.values())\n",
    "print(root)"
   ]
  },
  {
   "cell_type": "code",
   "execution_count": 13,
   "id": "ad3eacbd",
   "metadata": {},
   "outputs": [],
   "source": [
    "levels = nx.single_source_shortest_path_length(G,root)\n",
    "nx.set_node_attributes(G,values=levels,name=\"level\")\n",
    "nLevel = max(levels.values())+1"
   ]
  },
  {
   "cell_type": "code",
   "execution_count": 14,
   "id": "0215efbf",
   "metadata": {},
   "outputs": [
    {
     "name": "stdout",
     "output_type": "stream",
     "text": [
      "[50, 51, 52, 53, 54, 55, 56, 57, 58, 59, 60, 61, 62, 63, 64, 65, 66, 67, 68, 69, 70, 71, 72, 73, 74, 75, 76, 77, 78, 79, 80, 81, 82, 83, 84, 85, 86, 87, 88, 89, 90, 91, 92, 93, 94, 95, 96, 97, 98, 99, 100, 101, 102, 103, 104, 105, 106, 107, 108, 109, 110, 111, 112, 113, 114, 115, 116, 117, 118, 119, 120, 121, 122, 123, 124, 125, 126, 127, 128, 129, 130, 131, 132, 133, 134, 135, 136, 137, 138, 139, 140, 141, 142, 143, 144, 145, 146, 147, 148, 149, 150, 151, 152, 153, 154, 155, 156, 157, 158, 159, 160, 161, 162, 163, 164, 165, 166, 167, 168, 169, 170, 171, 172, 173, 174, 175, 176, 177, 178, 179, 180, 181, 182, 183, 184, 185, 186, 187, 188, 189, 190, 191, 192, 193, 194, 195, 196, 197, 198, 199]\n",
      "150\n"
     ]
    }
   ],
   "source": [
    "edges = [x for (x,d) in deg if d==1]\n",
    "print(edges)\n",
    "print(len(edges))"
   ]
  },
  {
   "cell_type": "code",
   "execution_count": 15,
   "id": "243fb0e8",
   "metadata": {},
   "outputs": [],
   "source": [
    "nx.write_gexf(G,\"rarytree.gexf\")"
   ]
  },
  {
   "cell_type": "code",
   "execution_count": 16,
   "id": "97ba7039",
   "metadata": {},
   "outputs": [],
   "source": [
    "entities = []\n",
    "for n in G.nodes():\n",
    "    hwr = (nLevel-levels[n])*10\n",
    "    shape = \"(%i,%i)\"%((nLevel-levels[n]),10)\n",
    "    ipt = (nLevel-levels[n])*1000\n",
    "    entities.append(dict({\"id\":n,\"name\":0,\"IPT\":ipt,\"HwReqs\":hwr,\"WATT\":1,\"RAM\":1,\"shape\":shape}))"
   ]
  },
  {
   "cell_type": "code",
   "execution_count": 17,
   "id": "9dee2b97",
   "metadata": {},
   "outputs": [],
   "source": [
    "links = []\n",
    "for (s,d) in G.edges():\n",
    "    lat = (levels[s]+1)*2\n",
    "    links.append(dict({\"PR\":lat,\"s\":s,\"BW\":1,\"d\":d}))"
   ]
  },
  {
   "cell_type": "code",
   "execution_count": 18,
   "id": "bdfc826e",
   "metadata": {},
   "outputs": [
    {
     "name": "stdout",
     "output_type": "stream",
     "text": [
      "{'id': 0, 'name': 0, 'IPT': 5000, 'HwReqs': 50, 'WATT': 1, 'RAM': 1, 'shape': '(5,10)'}\n"
     ]
    }
   ],
   "source": [
    "print(entities[0])"
   ]
  },
  {
   "cell_type": "code",
   "execution_count": 19,
   "id": "35b6ea4c",
   "metadata": {},
   "outputs": [],
   "source": [
    "with open(\"topology_rare.json\",\"w\") as f:\n",
    "    f.write(\"{\\\"link\\\":[\\n\")\n",
    "    for link in links[:-1]:\n",
    "        f.write(str(link).replace(\"'\",\"\\\"\")+\",\\n\")\n",
    "    f.write(str(links[-1]).replace(\"'\",\"\\\"\"))\n",
    "    f.write(\"],\\n\\\"entity\\\":[\\n\")\n",
    "    for n in entities[:-1]:\n",
    "        f.write(str(n).replace(\"'\",\"\\\"\")+\",\\n\")\n",
    "    f.write(str(entities[-1]).replace(\"'\",\"\\\"\"))\n",
    "    f.write(\"]}\")    "
   ]
  },
  {
   "cell_type": "code",
   "execution_count": null,
   "id": "ce871c2c",
   "metadata": {},
   "outputs": [],
   "source": []
  }
 ],
 "metadata": {
  "kernelspec": {
   "display_name": "MyPy397",
   "language": "python",
   "name": "mypy397"
  },
  "language_info": {
   "codemirror_mode": {
    "name": "ipython",
    "version": 3
   },
   "file_extension": ".py",
   "mimetype": "text/x-python",
   "name": "python",
   "nbconvert_exporter": "python",
   "pygments_lexer": "ipython3",
   "version": "3.9.7"
  }
 },
 "nbformat": 4,
 "nbformat_minor": 5
}

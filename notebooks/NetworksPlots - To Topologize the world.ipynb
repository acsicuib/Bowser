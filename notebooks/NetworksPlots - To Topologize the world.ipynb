{
 "cells": [
  {
   "cell_type": "code",
   "execution_count": 2,
   "id": "b6639e1c",
   "metadata": {},
   "outputs": [],
   "source": [
    "import networkx as nx\n",
    "import numpy as np"
   ]
  },
  {
   "cell_type": "code",
   "execution_count": 59,
   "id": "d9751ce1",
   "metadata": {},
   "outputs": [],
   "source": [
    "G = nx.generators.random_graphs.barabasi_albert_graph(100,1,seed=23)\n",
    "pos= nx.kamada_kawai_layout(G)\n",
    "pos = nx.rescale_layout_dict(pos,20)"
   ]
  },
  {
   "cell_type": "code",
   "execution_count": 60,
   "id": "e1024d00",
   "metadata": {},
   "outputs": [
    {
     "data": {
      "image/png": "[encoded data removed]",
      "text/plain": [
       "<Figure size 432x288 with 1 Axes>"
      ]
     },
     "metadata": {},
     "output_type": "display_data"
    }
   ],
   "source": [
    "nx.draw(G,pos=pos)"
   ]
  },
  {
   "cell_type": "code",
   "execution_count": 61,
   "id": "32c913d4",
   "metadata": {},
   "outputs": [
    {
     "name": "stdout",
     "output_type": "stream",
     "text": [
      "[(0, 34), (1, 4), (2, 2), (3, 3), (4, 2), (5, 2), (6, 2), (7, 4), (8, 1), (9, 1), (10, 3), (11, 2), (12, 3), (13, 4), (14, 6), (15, 8), (16, 6), (17, 1), (18, 1), (19, 1), (20, 1), (21, 2), (22, 1), (23, 1), (24, 6), (25, 2), (26, 1), (27, 1), (28, 2), (29, 3), (30, 1), (31, 3), (32, 1), (33, 1), (34, 1), (35, 1), (36, 3), (37, 8), (38, 2), (39, 1), (40, 1), (41, 1), (42, 1), (43, 1), (44, 1), (45, 1), (46, 2), (47, 1), (48, 1), (49, 1), (50, 1), (51, 1), (52, 1), (53, 1), (54, 1), (55, 2), (56, 1), (57, 1), (58, 2), (59, 1), (60, 1), (61, 1), (62, 1), (63, 1), (64, 1), (65, 1), (66, 1), (67, 1), (68, 1), (69, 1), (70, 2), (71, 1), (72, 1), (73, 1), (74, 1), (75, 1), (76, 2), (77, 1), (78, 1), (79, 1), (80, 1), (81, 2), (82, 1), (83, 1), (84, 1), (85, 1), (86, 1), (87, 1), (88, 1), (89, 1), (90, 1), (91, 1), (92, 1), (93, 1), (94, 1), (95, 1), (96, 1), (97, 1), (98, 1), (99, 1)]\n"
     ]
    }
   ],
   "source": [
    "deg = nx.degree(G)\n",
    "print(deg)"
   ]
  },
  {
   "cell_type": "code",
   "execution_count": 62,
   "id": "cbeabbcc",
   "metadata": {},
   "outputs": [],
   "source": [
    "cent = nx.betweenness_centrality(G)"
   ]
  },
  {
   "cell_type": "code",
   "execution_count": 63,
   "id": "0910346f",
   "metadata": {},
   "outputs": [
    {
     "name": "stdout",
     "output_type": "stream",
     "text": [
      "{0: 0.9123891981034837, 1: 0.07936507936507936, 2: 0.0202020202020202, 3: 0.05978148835291692, 4: 0.3492063492063492, 5: 0.0202020202020202, 6: 0.0202020202020202, 7: 0.09833024118738404, 8: 0.0, 9: 0.0, 10: 0.23294166151309006, 11: 0.0202020202020202, 12: 0.04019789734075448, 13: 0.05998763141620284, 14: 0.15460729746444032, 15: 0.37023294166151305, 16: 0.20882292310863737, 17: 0.0, 18: 0.0, 19: 0.0, 20: 0.0, 21: 0.03999175427746856, 22: 0.0, 23: 0.0, 24: 0.0989486703772418, 25: 0.05936920222634508, 26: 0.0, 27: 0.0, 28: 0.0202020202020202, 29: 0.04019789734075448, 30: 0.0, 31: 0.04019789734075448, 32: 0.0, 33: 0.0, 34: 0.0, 35: 0.0, 36: 0.05978148835291692, 37: 0.15563801278086992, 38: 0.0202020202020202, 39: 0.0, 40: 0.0, 41: 0.0, 42: 0.0, 43: 0.0, 44: 0.0, 45: 0.0, 46: 0.0202020202020202, 47: 0.0, 48: 0.0, 49: 0.0, 50: 0.0, 51: 0.0, 52: 0.0, 53: 0.0, 54: 0.0, 55: 0.0202020202020202, 56: 0.0, 57: 0.0, 58: 0.0202020202020202, 59: 0.0, 60: 0.0, 61: 0.0, 62: 0.0, 63: 0.0, 64: 0.0, 65: 0.0, 66: 0.0, 67: 0.0, 68: 0.0, 69: 0.0, 70: 0.0202020202020202, 71: 0.0, 72: 0.0, 73: 0.0, 74: 0.0, 75: 0.0, 76: 0.0202020202020202, 77: 0.0, 78: 0.0, 79: 0.0, 80: 0.0, 81: 0.0202020202020202, 82: 0.0, 83: 0.0, 84: 0.0, 85: 0.0, 86: 0.0, 87: 0.0, 88: 0.0, 89: 0.0, 90: 0.0, 91: 0.0, 92: 0.0, 93: 0.0, 94: 0.0, 95: 0.0, 96: 0.0, 97: 0.0, 98: 0.0, 99: 0.0}\n"
     ]
    }
   ],
   "source": [
    "#nx.set_node_attributes(G,values=cent,name=\"Centrality\")\n",
    "print(cent)"
   ]
  },
  {
   "cell_type": "code",
   "execution_count": 71,
   "id": "a39a7d1d",
   "metadata": {},
   "outputs": [],
   "source": [
    "root = np.argmax(cent.values())"
   ]
  },
  {
   "cell_type": "code",
   "execution_count": 93,
   "id": "ad3eacbd",
   "metadata": {},
   "outputs": [],
   "source": [
    "levels = nx.single_source_shortest_path_length(G,root)\n",
    "nx.set_node_attributes(G,values=levels,name=\"level\")\n",
    "nLevel = max(levels.values())+1"
   ]
  },
  {
   "cell_type": "code",
   "execution_count": 107,
   "id": "0215efbf",
   "metadata": {},
   "outputs": [
    {
     "name": "stdout",
     "output_type": "stream",
     "text": [
      "[8, 9, 17, 18, 19, 20, 22, 23, 26, 27, 30, 32, 33, 34, 35, 39, 40, 41, 42, 43, 44, 45, 47, 48, 49, 50, 51, 52, 53, 54, 56, 57, 59, 60, 61, 62, 63, 64, 65, 66, 67, 68, 69, 71, 72, 73, 74, 75, 77, 78, 79, 80, 82, 83, 84, 85, 86, 87, 88, 89, 90, 91, 92, 93, 94, 95, 96, 97, 98, 99]\n",
      "70\n"
     ]
    }
   ],
   "source": [
    "edges = [x for (x,d) in deg if d==1]\n",
    "print(edges)\n",
    "print(len(edges))"
   ]
  },
  {
   "cell_type": "code",
   "execution_count": 40,
   "id": "243fb0e8",
   "metadata": {},
   "outputs": [],
   "source": [
    "nx.write_gexf(G,\"graph.gexf\")"
   ]
  },
  {
   "cell_type": "code",
   "execution_count": 82,
   "id": "97ba7039",
   "metadata": {},
   "outputs": [],
   "source": [
    "entities = []\n",
    "for n in G.nodes():\n",
    "    hwr = (nLevel-levels[n])*10\n",
    "    shape = \"(%i,%i)\"%((nLevel-levels[n]),10)\n",
    "    ipt = (nLevel-levels[n])*1000\n",
    "    entities.append(dict({\"id\":n,\"name\":0,\"IPT\":ipt,\"HwReqs\":hwr,\"WATT\":1,\"RAM\":1,\"shape\":shape}))"
   ]
  },
  {
   "cell_type": "code",
   "execution_count": 85,
   "id": "9dee2b97",
   "metadata": {},
   "outputs": [],
   "source": [
    "links = []\n",
    "for (s,d) in G.edges():\n",
    "    lat = (levels[s]+1)*2\n",
    "    links.append(dict({\"PR\":lat,\"s\":s,\"BW\":1,\"d\":d}))"
   ]
  },
  {
   "cell_type": "code",
   "execution_count": 94,
   "id": "bdfc826e",
   "metadata": {},
   "outputs": [
    {
     "name": "stdout",
     "output_type": "stream",
     "text": [
      "{'id': 0, 'name': 0, 'IPT': 6000, 'HwReqs': 60, 'WATT': 1, 'RAM': 1, 'shape': '(6,10)'}\n"
     ]
    }
   ],
   "source": [
    "print(entities[0])"
   ]
  },
  {
   "cell_type": "code",
   "execution_count": 106,
   "id": "35b6ea4c",
   "metadata": {},
   "outputs": [],
   "source": [
    "with open(\"topology.json\",\"w\") as f:\n",
    "    f.write(\"{\\\"link\\\":[\\n\")\n",
    "    for link in links[:-1]:\n",
    "        f.write(str(link).replace(\"'\",\"\\\"\")+\",\\n\")\n",
    "    f.write(str(links[-1]).replace(\"'\",\"\\\"\"))\n",
    "    f.write(\"],\\n\\\"entity\\\":[\\n\")\n",
    "    for n in entities[:-1]:\n",
    "        f.write(str(n).replace(\"'\",\"\\\"\")+\",\\n\")\n",
    "    f.write(str(entities[-1]).replace(\"'\",\"\\\"\"))\n",
    "    f.write(\"]}\")    "
   ]
  },
  {
   "cell_type": "code",
   "execution_count": null,
   "id": "ce871c2c",
   "metadata": {},
   "outputs": [],
   "source": []
  }
 ],
 "metadata": {
  "kernelspec": {
   "display_name": "MyPy397",
   "language": "python",
   "name": "mypy397"
  },
  "language_info": {
   "codemirror_mode": {
    "name": "ipython",
    "version": 3
   },
   "file_extension": ".py",
   "mimetype": "text/x-python",
   "name": "python",
   "nbconvert_exporter": "python",
   "pygments_lexer": "ipython3",
   "version": "3.9.7"
  }
 },
 "nbformat": 4,
 "nbformat_minor": 5
}

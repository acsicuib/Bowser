{
 "cells": [
  {
   "cell_type": "code",
   "execution_count": 1,
   "id": "fc77a254",
   "metadata": {},
   "outputs": [],
   "source": [
    "import pandas as pd\n",
    "import numpy as np\n",
    "import glob\n",
    "from subprocess import Popen, PIPE, TimeoutExpired\n",
    "import os\n",
    "\n",
    "import re"
   ]
  },
  {
   "cell_type": "code",
   "execution_count": 4,
   "id": "2b84e128",
   "metadata": {},
   "outputs": [
    {
     "name": "stdout",
     "output_type": "stream",
     "text": [
      "requests(s3,[n1],24,8).\n",
      "\n",
      "['3', '[n1]', '24', '8']\n",
      "[n1]\n",
      "requests(s3,[n1],12,8).\n",
      "\n",
      "['3', '[n1]', '12', '8']\n",
      "[n1]\n",
      "requests(s3,[n1],12,8).\n",
      "\n",
      "['3', '[n1]', '12', '8']\n",
      "[n1]\n",
      "requests(s3,[n1],6,8).\n",
      "\n",
      "['3', '[n1]', '6', '8']\n",
      "[n1]\n",
      "[24, 12, 12, 6]\n",
      "[8, 8, 8, 8]\n",
      "number of vecinos en requests  1\n",
      "Node available HW 3\n",
      "1\n",
      "2\n",
      "2\n"
     ]
    }
   ],
   "source": [
    "plfiles = \"../results/results_SMALL_OSMOTIC_SEED_vNew_X/models_9/\"\n",
    "pl = \"model_B1_n0_DES2_0_1100.pl\"\n",
    "pl = \"model_B60_n9_DES60_0_10700.pl\"\n",
    "pl = \"model_B1_n0_DES3_0_1100.pl\"\n",
    "\n",
    "rRequest = re.compile(\"requests\\(s\\d+,\\[(n\\d+)|self],\\d+,\\d+\\).\\n\")\n",
    "rNode = re.compile(\"node\\(self,\\d+\")\n",
    "rServiceInstance = re.compile(\"serviceInstance\\(s\")\n",
    "\n",
    "neigRequest = set()\n",
    "neighAvailHW = []\n",
    "latencyNeig = []\n",
    "nodeAvailHW= []\n",
    "nodeNeigh = []\n",
    "\n",
    "services = {}\n",
    "\n",
    "map_services = {\"s\":1,\"m\":2,\"l\":3}\n",
    "services[1]=[1,1,10,2,2,20,3,5,50,10]\n",
    "services[2]=[1,1,10,2,2,20,3,5,50,10]\n",
    "services[3]=[1,0,0,2,4,20,3,0,0,10]\n",
    "\n",
    "with open(plfiles+pl) as f:\n",
    "    for line in f:\n",
    "        #requests\n",
    "        result = rRequest.search(line)\n",
    "        if result:\n",
    "            print(line)\n",
    "            line = line.replace(\"requests(s\",\"\").replace(\").\\n\",\"\").split(\",\")\n",
    "            print(line)\n",
    "            neighAvailHW.append(int(line[2]))\n",
    "            latencyNeig.append(int(line[3]))\n",
    "            print(line[1])\n",
    "            if \"self\" in line[1]:\n",
    "                neigRequest.add(1)\n",
    "            else:\n",
    "                neigRequest.add(int(line[1].replace(\"[n\",\"\").replace(\"]\",\"\")))\n",
    "        else:\n",
    "            #current node\n",
    "            result = rNode.search(line)\n",
    "            if result:\n",
    "                line = line.replace(\"node(self\",\"\").replace(\").\\n\",\"\").split(\",\")\n",
    "                nodeAvailHW = int(line[1])\n",
    "                nodeNeigh = line[2].replace(\"n\",\"\").strip('][').split(', ')\n",
    "            else:\n",
    "                #service fact\n",
    "                result = rServiceInstance.search(line)\n",
    "                if result:\n",
    "                    line = line.replace(\"serviceInstance(s\",\"\").replace(\").\\n\",\"\").split(\",\")\n",
    "                    app = int(line[1].replace(\"app\",\"\"))\n",
    "\n",
    "                    fl = line[2].replace(\"(\",\"\")[0]\n",
    "                    current_flavour = map_services[fl]\n",
    "\n",
    "            \n",
    "\n",
    "\n",
    "print(\"STATS___\")\n",
    "print(neighAvailHW)\n",
    "print(latencyNeig)\n",
    "\n",
    "\n",
    "print(\"number of vecinos en requests \", len(neigRequest))\n",
    "\n",
    "print(\"Node available HW\", nodeAvailHW)\n",
    "print(len(nodeNeigh))\n",
    "print(app)\n",
    "print(current_flavour)"
   ]
  },
  {
   "cell_type": "code",
   "execution_count": 3,
   "id": "f64c9df4",
   "metadata": {},
   "outputs": [
    {
     "data": {
      "text/plain": [
       "8.0"
      ]
     },
     "execution_count": 3,
     "metadata": {},
     "output_type": "execute_result"
    }
   ],
   "source": [
    "l = np.array(latencyNeig)\n",
    "l.mean()"
   ]
  },
  {
   "cell_type": "code",
   "execution_count": null,
   "id": "6b81d29d",
   "metadata": {},
   "outputs": [],
   "source": []
  }
 ],
 "metadata": {
  "kernelspec": {
   "display_name": "MyPy397",
   "language": "python",
   "name": "mypy397"
  },
  "language_info": {
   "codemirror_mode": {
    "name": "ipython",
    "version": 3
   },
   "file_extension": ".py",
   "mimetype": "text/x-python",
   "name": "python",
   "nbconvert_exporter": "python",
   "pygments_lexer": "ipython3",
   "version": "3.9.7"
  }
 },
 "nbformat": 4,
 "nbformat_minor": 5
}

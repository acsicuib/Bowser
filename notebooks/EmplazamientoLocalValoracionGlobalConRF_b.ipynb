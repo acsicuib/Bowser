{
 "cells": [
  {
   "cell_type": "markdown",
   "id": "14a2834e",
   "metadata": {},
   "source": [
    "# Prueba de concepto \n",
    "## Emplazamiento local y post valoración global para ajustamiento con random forest _ B\n",
    "\n",
    "In this version the fitness value is not the ratio between both evaluation before & after the action.\n",
    "The model contains a new column: the evaluation before, and the fitness = evaluation after the action."
   ]
  },
  {
   "cell_type": "code",
   "execution_count": 5,
   "id": "96176c05",
   "metadata": {},
   "outputs": [
    {
     "name": "stdout",
     "output_type": "stream",
     "text": [
      "3.9.7 (default, Nov  4 2021, 13:09:39) \n",
      "[Clang 12.0.5 (clang-1205.0.22.11)]\n"
     ]
    }
   ],
   "source": [
    "import sys\n",
    "print(sys.version) #Python version "
   ]
  },
  {
   "cell_type": "code",
   "execution_count": 6,
   "id": "f5aee1a5",
   "metadata": {},
   "outputs": [],
   "source": [
    "import numpy as np\n",
    "import pandas as pd\n",
    "import networkx as nx\n",
    "\n",
    "import matplotlib.pyplot as plt\n",
    "from sklearn.ensemble import RandomForestRegressor\n",
    "from sklearn.metrics import mean_squared_error\n",
    "from sklearn.model_selection import cross_val_score, train_test_split, RepeatedKFold, GridSearchCV, ParameterGrid\n",
    "import multiprocessing\n",
    "import warnings\n",
    "\n",
    "warnings.filterwarnings('once')"
   ]
  },
  {
   "cell_type": "markdown",
   "id": "90f03009",
   "metadata": {},
   "source": [
    "## Modelling\n",
    "### Topology"
   ]
  },
  {
   "cell_type": "code",
   "execution_count": 7,
   "id": "8512d068",
   "metadata": {},
   "outputs": [
    {
     "data": {
      "image/png": "[encoded data removed]",
      "text/plain": [
       "<Figure size 432x288 with 1 Axes>"
      ]
     },
     "metadata": {},
     "output_type": "display_data"
    }
   ],
   "source": [
    "import networkx as nx\n",
    "G = nx.Graph()\n",
    "\n",
    "G.add_edges_from([('A', 'B'),('C','D'),('G','D')], latency=1)\n",
    "G.add_edges_from([('D','A'),('D','E'),('B','D'),('D','E')], latency=2)\n",
    "G.add_edges_from([('B','C'),('E','F')], latency=3)\n",
    "G.add_edges_from([('C','F')], latency=4)\n",
    "\n",
    "cost_map= {'A': 1.0,'D': 6.0,'C': 10.0}\n",
    "costs = [cost_map.get(node, 3.0) for node in G.nodes()]\n",
    "edge_labels= dict([((u,v,),d['latency']) for u,v,d in G.edges(data=True)])\n",
    "\n",
    "node_labels = {node:node for node in G.nodes()}\n",
    "\n",
    "pos=nx.spring_layout(G)\n",
    "\n",
    "nx.draw_networkx_edge_labels(G,pos,edge_labels=edge_labels)\n",
    "nx.draw_networkx_labels(G, pos, labels=node_labels,font_color=\"white\") \n",
    "nx.draw(G,pos, node_color = costs, node_size=1500)\n",
    "\n",
    "plt.show()"
   ]
  },
  {
   "cell_type": "code",
   "execution_count": 8,
   "id": "d49af06d",
   "metadata": {},
   "outputs": [
    {
     "data": {
      "text/plain": [
       "DegreeView({'A': 2, 'B': 3, 'C': 3, 'D': 5, 'G': 1, 'E': 2, 'F': 2})"
      ]
     },
     "execution_count": 8,
     "metadata": {},
     "output_type": "execute_result"
    }
   ],
   "source": [
    "G.degree()"
   ]
  },
  {
   "cell_type": "code",
   "execution_count": 30,
   "id": "0523cb72",
   "metadata": {},
   "outputs": [],
   "source": [
    "max_latency = 7"
   ]
  },
  {
   "cell_type": "code",
   "execution_count": 9,
   "id": "708d7426",
   "metadata": {},
   "outputs": [
    {
     "data": {
      "text/plain": [
       "{'A': 0.0,\n",
       " 'B': 0.05555555555555555,\n",
       " 'C': 0.17777777777777776,\n",
       " 'D': 0.5777777777777777,\n",
       " 'G': 0.0,\n",
       " 'E': 0.08888888888888888,\n",
       " 'F': 0.03333333333333333}"
      ]
     },
     "execution_count": 9,
     "metadata": {},
     "output_type": "execute_result"
    }
   ],
   "source": [
    "nx.betweenness_centrality(G)"
   ]
  },
  {
   "cell_type": "markdown",
   "id": "43f2f188",
   "metadata": {},
   "source": [
    "### Users\n",
    "Asignación estática de usuarios a nodos. Solo un usuario a esos nodos:"
   ]
  },
  {
   "cell_type": "code",
   "execution_count": 10,
   "id": "ab21a4b6",
   "metadata": {},
   "outputs": [],
   "source": [
    "wl_users = {'C': 1,'G': 1,'E': 1}\n",
    "users_at_node = [wl_users.get(node, 0) for node in G.nodes()]"
   ]
  },
  {
   "cell_type": "markdown",
   "id": "783ac1f5",
   "metadata": {},
   "source": [
    "### Services\n",
    "Asignación de servicios a nodos. Esto cambiará... por ahora es una prueba"
   ]
  },
  {
   "cell_type": "code",
   "execution_count": 11,
   "id": "ee1de88d",
   "metadata": {},
   "outputs": [
    {
     "name": "stdout",
     "output_type": "stream",
     "text": [
      "[1, 0, 0, 0, 0, 0, 0]\n"
     ]
    }
   ],
   "source": [
    "alloc_services = {\"A\":1}\n",
    "alloc_services_at_node = [alloc_services.get(node, 0) for node in G.nodes()]\n",
    "print(alloc_services_at_node)"
   ]
  },
  {
   "cell_type": "code",
   "execution_count": 12,
   "id": "1d678dd4",
   "metadata": {},
   "outputs": [
    {
     "name": "stdout",
     "output_type": "stream",
     "text": [
      "{'A': 1}\n",
      "{'C': 1, 'G': 1, 'E': 1}\n",
      "{'C': ('A', 3), 'G': ('A', 3), 'E': ('A', 4)}\n"
     ]
    }
   ],
   "source": [
    "#Test A: Routing services\n",
    "# Calculamos la ruta de los servicios - usuarios\n",
    "available_services = dict([k,alloc_services_at_node[ix]] for ix,k in enumerate(G.nodes()) if alloc_services_at_node[ix]>0 )\n",
    "print(available_services)\n",
    "print(wl_users)\n",
    "routing_service = {} #key: user , value: (service,latency)\n",
    "for (node,value) in wl_users.items():\n",
    "    more_close = 0\n",
    "    node_close = None\n",
    "    for a_service in available_services:\n",
    "        path_length = nx.shortest_path_length(G,node,a_service,weight=\"latency\")\n",
    "        if node_close == None:\n",
    "            more_close = path_length\n",
    "            node_close = a_service\n",
    "        if path_length<more_close:\n",
    "            more_close = path_length\n",
    "            node_close = a_service\n",
    "    \n",
    "    routing_service[node]=(node_close,more_close)\n",
    "    \n",
    "print(routing_service)    #key: user , value: (service,latency)\n"
   ]
  },
  {
   "cell_type": "code",
   "execution_count": 13,
   "id": "c7788265",
   "metadata": {},
   "outputs": [
    {
     "name": "stdout",
     "output_type": "stream",
     "text": [
      "{'C': ('C', 0), 'G': ('D', 1), 'E': ('E', 0)}\n"
     ]
    }
   ],
   "source": [
    "#Generamos una funcion de lo anterior\n",
    "arrayofservices = [1, 1, 1, 1, 0, 1, 0]\n",
    "def get_routings(arrayofservices):\n",
    "    available_services = dict([k,arrayofservices[ix]] for ix,k in enumerate(G.nodes()) if arrayofservices[ix]>0 )\n",
    "    if len(available_services)==0: return dict()\n",
    "    routing_service = {} #key: user , value: (service,latency)\n",
    "    for (node,value) in wl_users.items():\n",
    "        more_close = 0\n",
    "        node_close = None\n",
    "        for a_service in available_services:\n",
    "            path_length = nx.shortest_path_length(G,node,a_service,weight=\"latency\")\n",
    "            if node_close == None:\n",
    "                more_close = path_length\n",
    "                node_close = a_service\n",
    "            if path_length<more_close:\n",
    "                more_close = path_length\n",
    "                node_close = a_service\n",
    "        routing_service[node]=(node_close,more_close)\n",
    "    return routing_service\n",
    "\n",
    "print(get_routings(arrayofservices)) "
   ]
  },
  {
   "cell_type": "markdown",
   "id": "2f86f321",
   "metadata": {},
   "source": [
    "## Global evaluation function\n",
    "Como evaluaremos el modelo a nivel global. Para esta prueba algo muy simple:\n",
    "- Goal: Latency == 0. All services with latency 0.\n",
    "- Goal: One user with one service"
   ]
  },
  {
   "cell_type": "code",
   "execution_count": 33,
   "id": "6b8aa20e",
   "metadata": {},
   "outputs": [
    {
     "name": "stdout",
     "output_type": "stream",
     "text": [
      "0.5238095238095238\n"
     ]
    }
   ],
   "source": [
    "#Average latency\n",
    "avg_latency = np.array([v[1] for k,v in routing_service.items()])\n",
    "avg_latency = (np.abs((avg_latency-max_latency)/max_latency)).mean()\n",
    "print(avg_latency)"
   ]
  },
  {
   "cell_type": "code",
   "execution_count": 35,
   "id": "b12ad5fd",
   "metadata": {},
   "outputs": [
    {
     "name": "stdout",
     "output_type": "stream",
     "text": [
      "1\n",
      "3\n"
     ]
    },
    {
     "data": {
      "text/plain": [
       "0.3333333333333333"
      ]
     },
     "execution_count": 35,
     "metadata": {},
     "output_type": "execute_result"
    }
   ],
   "source": [
    "#Total services\n",
    "services = [v[0] for k,v in routing_service.items()]\n",
    "total_services = len(np.unique(services))\n",
    "print(total_services)\n",
    "print(len(wl_users))\n",
    "total_services/len(wl_users)"
   ]
  },
  {
   "cell_type": "code",
   "execution_count": 37,
   "id": "46ce679a",
   "metadata": {},
   "outputs": [
    {
     "name": "stdout",
     "output_type": "stream",
     "text": [
      "0.6904761904761905\n"
     ]
    }
   ],
   "source": [
    "#Evaluation value\n",
    "def assignment_cardinality_eval(total_services,users):\n",
    "    return total_services/users\n",
    "\n",
    "def global_eval(avg_latency,total_services,wl_users):\n",
    "    return avg_latency+assignment_cardinality_eval(total_services,len(wl_users))/2.0\n",
    "\n",
    "geval = global_eval(avg_latency,total_services,wl_users)\n",
    "print(geval)"
   ]
  },
  {
   "cell_type": "code",
   "execution_count": 93,
   "id": "cd29d059",
   "metadata": {},
   "outputs": [
    {
     "name": "stdout",
     "output_type": "stream",
     "text": [
      "{'C': ('A', 3), 'G': ('A', 3), 'E': ('A', 4)}\n",
      "0.4285714285714286\n"
     ]
    }
   ],
   "source": [
    "# ALL in one function\n",
    "print(routing_service)\n",
    "def compute_eval(routing_service):\n",
    "    if len(routing_service)==0: return 0\n",
    "    avg_latency = np.array([v[1] for k,v in routing_service.items()])\n",
    "    avg_latency = (np.abs((avg_latency-max_latency)/max_latency)).mean()\n",
    "    \n",
    "    services = [v[0] for k,v in routing_service.items()]\n",
    "    total_services = len(np.unique(services))\n",
    "        \n",
    "    assigment_eval = total_services/len(wl_users)\n",
    "    return (avg_latency+assigment_eval)/2.\n",
    "\n",
    "print(compute_eval(routing_service))"
   ]
  },
  {
   "cell_type": "markdown",
   "id": "dc8bde76",
   "metadata": {},
   "source": [
    "## Design considerations of the RF input :\n",
    "- Dimensionality problem - samples representation: ¿qué granularidad es introducida en el modelo de datos? > Columnas\n",
    "- Evaluation goals\n",
    "\n"
   ]
  },
  {
   "cell_type": "code",
   "execution_count": 94,
   "id": "6f1954f4",
   "metadata": {},
   "outputs": [
    {
     "name": "stdout",
     "output_type": "stream",
     "text": [
      "[0 1 2 3]\n"
     ]
    }
   ],
   "source": [
    "actions_labels = [\"None\",\"Migrate\",\"Replicate\",\"Undeploy\"]\n",
    "actions = np.arange(len(actions_labels)) #dummies\n",
    "print(actions)"
   ]
  },
  {
   "cell_type": "markdown",
   "id": "893bef2b",
   "metadata": {},
   "source": [
    "### the first sample"
   ]
  },
  {
   "cell_type": "code",
   "execution_count": 95,
   "id": "c175db77",
   "metadata": {},
   "outputs": [
    {
     "name": "stdout",
     "output_type": "stream",
     "text": [
      "['user_atNode_A', 'user_atNode_B', 'user_atNode_C', 'user_atNode_D', 'user_atNode_G', 'user_atNode_E', 'user_atNode_F', 'services_atNode_bAction_A', 'services_atNode_bAction_B', 'services_atNode_bAction_C', 'services_atNode_bAction_D', 'services_atNode_bAction_G', 'services_atNode_bAction_E', 'services_atNode_bAction_F', 'Action', 'OnService', 'services_atNode_aAction_A', 'services_atNode_aAction_B', 'services_atNode_aAction_C', 'services_atNode_aAction_D', 'services_atNode_aAction_G', 'services_atNode_aAction_E', 'services_atNode_aAction_F', 'eval_bActions', 'eval_aActions']\n"
     ]
    }
   ],
   "source": [
    "columns_UsersatNode = [\"user_atNode_%s\"%k for k in G.nodes()]\n",
    "columns_ServicesAtNodeB = [\"services_atNode_bAction_%s\"%k for k in G.nodes()]\n",
    "columns_ServicesAtNodeA = [\"services_atNode_aAction_%s\"%k for k in G.nodes()]\n",
    "\n",
    "columns = columns_UsersatNode + columns_ServicesAtNodeB +[\"Action\",\"OnService\"]+ columns_ServicesAtNodeA + [\"eval_bActions\",\"eval_aActions\"]\n",
    "print(columns)"
   ]
  },
  {
   "cell_type": "code",
   "execution_count": 96,
   "id": "9a3359a1",
   "metadata": {},
   "outputs": [
    {
     "data": {
      "text/plain": [
       "array([0, 0, 1, 0, 1, 1, 0])"
      ]
     },
     "execution_count": 96,
     "metadata": {},
     "output_type": "execute_result"
    }
   ],
   "source": [
    "users_at_node"
   ]
  },
  {
   "cell_type": "code",
   "execution_count": 97,
   "id": "59ca47c5",
   "metadata": {},
   "outputs": [
    {
     "name": "stdout",
     "output_type": "stream",
     "text": [
      "[1, 0, 0, 0, 0, 0, 0]\n",
      "0.4285714285714286\n"
     ]
    }
   ],
   "source": [
    "services_bAction = [alloc_services.get(node, 0) for node in G.nodes()]\n",
    "print(services_bAction)\n",
    "routing = get_routings(services_bAction)\n",
    "eval_bActions = compute_eval(routing)\n",
    "print(eval_bActions)"
   ]
  },
  {
   "cell_type": "code",
   "execution_count": 98,
   "id": "a8092d74",
   "metadata": {},
   "outputs": [],
   "source": [
    "action = [0]\n",
    "on_service = [0]"
   ]
  },
  {
   "cell_type": "code",
   "execution_count": 99,
   "id": "9aacf5cf",
   "metadata": {},
   "outputs": [
    {
     "name": "stdout",
     "output_type": "stream",
     "text": [
      "[1, 0, 0, 0, 0, 0, 0]\n",
      "0.4285714285714286\n"
     ]
    }
   ],
   "source": [
    "services_aAction = services_bAction #its None actions\n",
    "print(services_aAction)\n",
    "routing = get_routings(services_aAction)\n",
    "eval_aActions = compute_eval(routing)\n",
    "print(eval_aActions)"
   ]
  },
  {
   "cell_type": "code",
   "execution_count": 100,
   "id": "c4bd105f",
   "metadata": {},
   "outputs": [
    {
     "name": "stdout",
     "output_type": "stream",
     "text": [
      "[0, 0, 1, 0, 1, 1, 0, 1, 0, 0, 0, 0, 0, 0, 0, 0, 1, 0, 0, 0, 0, 0, 0, 0.4285714285714286, 0.4285714285714286]\n"
     ]
    }
   ],
   "source": [
    "sample = list(users_at_node)+services_bAction+action+on_service+services_aAction+[eval_bActions]+[eval_aActions]\n",
    "print(sample)"
   ]
  },
  {
   "cell_type": "markdown",
   "id": "c34ca21c",
   "metadata": {},
   "source": [
    "### Building a random sample"
   ]
  },
  {
   "cell_type": "code",
   "execution_count": 101,
   "id": "9ae4db45",
   "metadata": {},
   "outputs": [],
   "source": [
    "np.random.seed(0)\n",
    "users_at_node = np.array(users_at_node)"
   ]
  },
  {
   "cell_type": "code",
   "execution_count": 102,
   "id": "d39f67c8",
   "metadata": {},
   "outputs": [
    {
     "name": "stdout",
     "output_type": "stream",
     "text": [
      "[0 1 1 0 1 1 1]\n",
      "1.0\n"
     ]
    }
   ],
   "source": [
    "#Current STATE\n",
    "r_serv_bAction = np.random.randint(0,2,len(G.nodes()))\n",
    "print(r_serv_bAction)\n",
    "routing = get_routings(r_serv_bAction)\n",
    "eval_bActions = compute_eval(routing)\n",
    "print(eval_bActions)"
   ]
  },
  {
   "cell_type": "code",
   "execution_count": 103,
   "id": "cc0c5305",
   "metadata": {},
   "outputs": [
    {
     "name": "stdout",
     "output_type": "stream",
     "text": [
      "[3]\n",
      "Undeploy\n",
      "[2]\n"
     ]
    }
   ],
   "source": [
    "#Action and on specific service\n",
    "action = np.random.choice(actions,1)\n",
    "print(action)\n",
    "current_services = np.flatnonzero(r_serv_bAction)\n",
    "if len(current_services)==0: \n",
    "    action = [0]\n",
    "else:\n",
    "    on_service = np.random.choice(current_services,1)\n",
    "print(actions_labels[action[0]])\n",
    "print(on_service)"
   ]
  },
  {
   "cell_type": "code",
   "execution_count": 104,
   "id": "cd9b0e9d",
   "metadata": {},
   "outputs": [
    {
     "name": "stdout",
     "output_type": "stream",
     "text": [
      "[0 1 1 0 1 1 1]\n",
      "Undeploy\n",
      "[2]\n",
      "[0 1 0 0 1 1 1]\n",
      "0.7857142857142857\n",
      "1.0\n"
     ]
    }
   ],
   "source": [
    "#State After action\n",
    "#actions_labels = [\"None\",\"Migrate\",\"Replicate\",\"Undeploy\"]\n",
    "print(r_serv_bAction)\n",
    "print(actions_labels[action[0]])\n",
    "print(on_service)\n",
    "\n",
    "if action[0]==0:#\"None\":\n",
    "    r_serv_aAction = r_serv_bAction \n",
    "elif action[0]==1:#\"Migrate\":\n",
    "    r_serv_aAction = r_serv_bAction \n",
    "    dst_service = np.random.choice(np.where(r_serv_bAction<1)[0],1)\n",
    "    r_serv_aAction[on_service]=0\n",
    "    r_serv_aAction[dst_service]=1\n",
    "elif action[0]==2:#\"Replicate\":\n",
    "    r_serv_aAction = r_serv_bAction \n",
    "    dst_service = np.random.choice(np.where(r_serv_bAction<1)[0],1)\n",
    "    r_serv_aAction[dst_service]=1\n",
    "elif action[0]==3:#\"Undeploy\":\n",
    "    r_serv_aAction = r_serv_bAction \n",
    "    r_serv_aAction[on_service]=0\n",
    "    \n",
    "print(r_serv_aAction)\n",
    "routing = get_routings(r_serv_aAction)\n",
    "eval_aActions = compute_eval(routing)\n",
    "print(eval_aActions)\n",
    "print(eval_bActions)"
   ]
  },
  {
   "cell_type": "code",
   "execution_count": 105,
   "id": "6d4b2dc3",
   "metadata": {},
   "outputs": [
    {
     "name": "stdout",
     "output_type": "stream",
     "text": [
      "-0.2142857142857143\n"
     ]
    }
   ],
   "source": [
    "speedup = np.array((eval_aActions/eval_bActions)-1.0)\n",
    "print(speedup)"
   ]
  },
  {
   "cell_type": "code",
   "execution_count": 106,
   "id": "8e001f70",
   "metadata": {},
   "outputs": [
    {
     "name": "stdout",
     "output_type": "stream",
     "text": [
      "[0.         0.         1.         0.         1.         1.\n",
      " 0.         0.         1.         0.         0.         1.\n",
      " 1.         1.         3.         2.         0.         1.\n",
      " 0.         0.         1.         1.         1.         0.78571429\n",
      " 1.        ]\n"
     ]
    }
   ],
   "source": [
    "sample = np.hstack([users_at_node,r_serv_bAction,action,on_service,r_serv_aAction,eval_aActions,eval_bActions])\n",
    "print(sample)"
   ]
  },
  {
   "cell_type": "markdown",
   "id": "bdac5d83",
   "metadata": {},
   "source": [
    "## Doing N-random samples"
   ]
  },
  {
   "cell_type": "code",
   "execution_count": 107,
   "id": "bd6edc81",
   "metadata": {},
   "outputs": [],
   "source": [
    "import math\n",
    "samples = 1000\n",
    "df = pd.DataFrame(columns=columns)\n",
    "\n",
    "for i in range(samples):\n",
    "    #Current STATE\n",
    "    r_serv_bAction = np.random.randint(0,2,len(G.nodes()))\n",
    "#    print(\"---\")\n",
    "#    print(\"B \",r_serv_bAction)\n",
    "    routing = get_routings(r_serv_bAction)\n",
    "    eval_bActions = compute_eval(routing)\n",
    "    \n",
    "    #Action and on specific service\n",
    "    action = np.random.choice(actions,1)\n",
    "    current_services = np.flatnonzero(r_serv_bAction)\n",
    "\n",
    "#   print(actions_labels[action[0]])\n",
    "    if len(current_services)==0: \n",
    "        action = [0]\n",
    "    else:\n",
    "        on_service = np.random.choice(current_services,1)\n",
    "\n",
    "#    print(on_service)\n",
    "    #Computing action \n",
    "    r_serv_aAction = r_serv_bAction \n",
    "    if action[0]==0:#\"None\":\n",
    "        pass\n",
    "    elif action[0]==1:#\"Migrate\":\n",
    "        options = np.where(r_serv_bAction<1)[0]\n",
    "        if len(options)>0:\n",
    "            dst_service = np.random.choice(options,1)\n",
    "            r_serv_aAction[dst_service]=1            \n",
    "            r_serv_aAction[on_service]=0\n",
    "\n",
    "    elif action[0]==2:#\"Replicate\":\n",
    "        options = np.where(r_serv_bAction<1)[0]\n",
    "        if len(options)>0:\n",
    "            dst_service = np.random.choice(options,1)\n",
    "            r_serv_aAction[dst_service]=1\n",
    "            \n",
    "    elif action[0]==3:#\"Undeploy\":\n",
    "        r_serv_aAction[on_service]=0\n",
    "\n",
    "        \n",
    "#    print(\"A \",r_serv_bAction)\n",
    "#    print(\"---\")\n",
    "    routing = get_routings(r_serv_aAction)\n",
    "    eval_aActions = compute_eval(routing)\n",
    "\n",
    "\n",
    "    sample = np.hstack([users_at_node,r_serv_bAction,action,on_service,r_serv_aAction,eval_bActions,eval_aActions])\n",
    "    \n",
    "    df.loc[len(df)] = sample"
   ]
  },
  {
   "cell_type": "code",
   "execution_count": 108,
   "id": "beb00ee1",
   "metadata": {},
   "outputs": [
    {
     "data": {
      "text/html": [
       "<div>\n",
       "<style scoped>\n",
       "    .dataframe tbody tr th:only-of-type {\n",
       "        vertical-align: middle;\n",
       "    }\n",
       "\n",
       "    .dataframe tbody tr th {\n",
       "        vertical-align: top;\n",
       "    }\n",
       "\n",
       "    .dataframe thead th {\n",
       "        text-align: right;\n",
       "    }\n",
       "</style>\n",
       "<table border=\"1\" class=\"dataframe\">\n",
       "  <thead>\n",
       "    <tr style=\"text-align: right;\">\n",
       "      <th></th>\n",
       "      <th>user_atNode_A</th>\n",
       "      <th>user_atNode_B</th>\n",
       "      <th>user_atNode_C</th>\n",
       "      <th>user_atNode_D</th>\n",
       "      <th>user_atNode_G</th>\n",
       "      <th>user_atNode_E</th>\n",
       "      <th>user_atNode_F</th>\n",
       "      <th>services_atNode_bAction_A</th>\n",
       "      <th>services_atNode_bAction_B</th>\n",
       "      <th>services_atNode_bAction_C</th>\n",
       "      <th>...</th>\n",
       "      <th>OnService</th>\n",
       "      <th>services_atNode_aAction_A</th>\n",
       "      <th>services_atNode_aAction_B</th>\n",
       "      <th>services_atNode_aAction_C</th>\n",
       "      <th>services_atNode_aAction_D</th>\n",
       "      <th>services_atNode_aAction_G</th>\n",
       "      <th>services_atNode_aAction_E</th>\n",
       "      <th>services_atNode_aAction_F</th>\n",
       "      <th>eval_bActions</th>\n",
       "      <th>eval_aActions</th>\n",
       "    </tr>\n",
       "  </thead>\n",
       "  <tbody>\n",
       "    <tr>\n",
       "      <th>0</th>\n",
       "      <td>0.0</td>\n",
       "      <td>0.0</td>\n",
       "      <td>1.0</td>\n",
       "      <td>0.0</td>\n",
       "      <td>1.0</td>\n",
       "      <td>1.0</td>\n",
       "      <td>0.0</td>\n",
       "      <td>1.0</td>\n",
       "      <td>1.0</td>\n",
       "      <td>0.0</td>\n",
       "      <td>...</td>\n",
       "      <td>0.0</td>\n",
       "      <td>1.0</td>\n",
       "      <td>1.0</td>\n",
       "      <td>0.0</td>\n",
       "      <td>0.0</td>\n",
       "      <td>1.0</td>\n",
       "      <td>0.0</td>\n",
       "      <td>0.0</td>\n",
       "      <td>0.547619</td>\n",
       "      <td>0.547619</td>\n",
       "    </tr>\n",
       "    <tr>\n",
       "      <th>1</th>\n",
       "      <td>0.0</td>\n",
       "      <td>0.0</td>\n",
       "      <td>1.0</td>\n",
       "      <td>0.0</td>\n",
       "      <td>1.0</td>\n",
       "      <td>1.0</td>\n",
       "      <td>0.0</td>\n",
       "      <td>0.0</td>\n",
       "      <td>1.0</td>\n",
       "      <td>1.0</td>\n",
       "      <td>...</td>\n",
       "      <td>3.0</td>\n",
       "      <td>0.0</td>\n",
       "      <td>1.0</td>\n",
       "      <td>1.0</td>\n",
       "      <td>0.0</td>\n",
       "      <td>1.0</td>\n",
       "      <td>0.0</td>\n",
       "      <td>0.0</td>\n",
       "      <td>0.761905</td>\n",
       "      <td>0.761905</td>\n",
       "    </tr>\n",
       "    <tr>\n",
       "      <th>2</th>\n",
       "      <td>0.0</td>\n",
       "      <td>0.0</td>\n",
       "      <td>1.0</td>\n",
       "      <td>0.0</td>\n",
       "      <td>1.0</td>\n",
       "      <td>1.0</td>\n",
       "      <td>0.0</td>\n",
       "      <td>1.0</td>\n",
       "      <td>1.0</td>\n",
       "      <td>1.0</td>\n",
       "      <td>...</td>\n",
       "      <td>4.0</td>\n",
       "      <td>1.0</td>\n",
       "      <td>1.0</td>\n",
       "      <td>1.0</td>\n",
       "      <td>0.0</td>\n",
       "      <td>0.0</td>\n",
       "      <td>0.0</td>\n",
       "      <td>1.0</td>\n",
       "      <td>0.761905</td>\n",
       "      <td>0.547619</td>\n",
       "    </tr>\n",
       "    <tr>\n",
       "      <th>3</th>\n",
       "      <td>0.0</td>\n",
       "      <td>0.0</td>\n",
       "      <td>1.0</td>\n",
       "      <td>0.0</td>\n",
       "      <td>1.0</td>\n",
       "      <td>1.0</td>\n",
       "      <td>0.0</td>\n",
       "      <td>0.0</td>\n",
       "      <td>0.0</td>\n",
       "      <td>0.0</td>\n",
       "      <td>...</td>\n",
       "      <td>1.0</td>\n",
       "      <td>0.0</td>\n",
       "      <td>0.0</td>\n",
       "      <td>0.0</td>\n",
       "      <td>1.0</td>\n",
       "      <td>1.0</td>\n",
       "      <td>1.0</td>\n",
       "      <td>1.0</td>\n",
       "      <td>0.976190</td>\n",
       "      <td>0.976190</td>\n",
       "    </tr>\n",
       "    <tr>\n",
       "      <th>4</th>\n",
       "      <td>0.0</td>\n",
       "      <td>0.0</td>\n",
       "      <td>1.0</td>\n",
       "      <td>0.0</td>\n",
       "      <td>1.0</td>\n",
       "      <td>1.0</td>\n",
       "      <td>0.0</td>\n",
       "      <td>1.0</td>\n",
       "      <td>1.0</td>\n",
       "      <td>1.0</td>\n",
       "      <td>...</td>\n",
       "      <td>3.0</td>\n",
       "      <td>1.0</td>\n",
       "      <td>1.0</td>\n",
       "      <td>1.0</td>\n",
       "      <td>1.0</td>\n",
       "      <td>0.0</td>\n",
       "      <td>1.0</td>\n",
       "      <td>0.0</td>\n",
       "      <td>0.976190</td>\n",
       "      <td>0.976190</td>\n",
       "    </tr>\n",
       "  </tbody>\n",
       "</table>\n",
       "<p>5 rows × 25 columns</p>\n",
       "</div>"
      ],
      "text/plain": [
       "   user_atNode_A  user_atNode_B  user_atNode_C  user_atNode_D  user_atNode_G  \\\n",
       "0            0.0            0.0            1.0            0.0            1.0   \n",
       "1            0.0            0.0            1.0            0.0            1.0   \n",
       "2            0.0            0.0            1.0            0.0            1.0   \n",
       "3            0.0            0.0            1.0            0.0            1.0   \n",
       "4            0.0            0.0            1.0            0.0            1.0   \n",
       "\n",
       "   user_atNode_E  user_atNode_F  services_atNode_bAction_A  \\\n",
       "0            1.0            0.0                        1.0   \n",
       "1            1.0            0.0                        0.0   \n",
       "2            1.0            0.0                        1.0   \n",
       "3            1.0            0.0                        0.0   \n",
       "4            1.0            0.0                        1.0   \n",
       "\n",
       "   services_atNode_bAction_B  services_atNode_bAction_C  ...  OnService  \\\n",
       "0                        1.0                        0.0  ...        0.0   \n",
       "1                        1.0                        1.0  ...        3.0   \n",
       "2                        1.0                        1.0  ...        4.0   \n",
       "3                        0.0                        0.0  ...        1.0   \n",
       "4                        1.0                        1.0  ...        3.0   \n",
       "\n",
       "   services_atNode_aAction_A  services_atNode_aAction_B  \\\n",
       "0                        1.0                        1.0   \n",
       "1                        0.0                        1.0   \n",
       "2                        1.0                        1.0   \n",
       "3                        0.0                        0.0   \n",
       "4                        1.0                        1.0   \n",
       "\n",
       "   services_atNode_aAction_C  services_atNode_aAction_D  \\\n",
       "0                        0.0                        0.0   \n",
       "1                        1.0                        0.0   \n",
       "2                        1.0                        0.0   \n",
       "3                        0.0                        1.0   \n",
       "4                        1.0                        1.0   \n",
       "\n",
       "   services_atNode_aAction_G  services_atNode_aAction_E  \\\n",
       "0                        1.0                        0.0   \n",
       "1                        1.0                        0.0   \n",
       "2                        0.0                        0.0   \n",
       "3                        1.0                        1.0   \n",
       "4                        0.0                        1.0   \n",
       "\n",
       "   services_atNode_aAction_F  eval_bActions  eval_aActions  \n",
       "0                        0.0       0.547619       0.547619  \n",
       "1                        0.0       0.761905       0.761905  \n",
       "2                        1.0       0.761905       0.547619  \n",
       "3                        1.0       0.976190       0.976190  \n",
       "4                        0.0       0.976190       0.976190  \n",
       "\n",
       "[5 rows x 25 columns]"
      ]
     },
     "execution_count": 108,
     "metadata": {},
     "output_type": "execute_result"
    }
   ],
   "source": [
    "df.head()"
   ]
  },
  {
   "cell_type": "code",
   "execution_count": 109,
   "id": "84bdbf23",
   "metadata": {},
   "outputs": [
    {
     "data": {
      "text/html": [
       "<div>\n",
       "<style scoped>\n",
       "    .dataframe tbody tr th:only-of-type {\n",
       "        vertical-align: middle;\n",
       "    }\n",
       "\n",
       "    .dataframe tbody tr th {\n",
       "        vertical-align: top;\n",
       "    }\n",
       "\n",
       "    .dataframe thead th {\n",
       "        text-align: right;\n",
       "    }\n",
       "</style>\n",
       "<table border=\"1\" class=\"dataframe\">\n",
       "  <thead>\n",
       "    <tr style=\"text-align: right;\">\n",
       "      <th></th>\n",
       "      <th>user_atNode_A</th>\n",
       "      <th>user_atNode_B</th>\n",
       "      <th>user_atNode_C</th>\n",
       "      <th>user_atNode_D</th>\n",
       "      <th>user_atNode_G</th>\n",
       "      <th>user_atNode_E</th>\n",
       "      <th>user_atNode_F</th>\n",
       "      <th>services_atNode_bAction_A</th>\n",
       "      <th>services_atNode_bAction_B</th>\n",
       "      <th>services_atNode_bAction_C</th>\n",
       "      <th>...</th>\n",
       "      <th>OnService</th>\n",
       "      <th>services_atNode_aAction_A</th>\n",
       "      <th>services_atNode_aAction_B</th>\n",
       "      <th>services_atNode_aAction_C</th>\n",
       "      <th>services_atNode_aAction_D</th>\n",
       "      <th>services_atNode_aAction_G</th>\n",
       "      <th>services_atNode_aAction_E</th>\n",
       "      <th>services_atNode_aAction_F</th>\n",
       "      <th>eval_bActions</th>\n",
       "      <th>eval_aActions</th>\n",
       "    </tr>\n",
       "  </thead>\n",
       "  <tbody>\n",
       "  </tbody>\n",
       "</table>\n",
       "<p>0 rows × 25 columns</p>\n",
       "</div>"
      ],
      "text/plain": [
       "Empty DataFrame\n",
       "Columns: [user_atNode_A, user_atNode_B, user_atNode_C, user_atNode_D, user_atNode_G, user_atNode_E, user_atNode_F, services_atNode_bAction_A, services_atNode_bAction_B, services_atNode_bAction_C, services_atNode_bAction_D, services_atNode_bAction_G, services_atNode_bAction_E, services_atNode_bAction_F, Action, OnService, services_atNode_aAction_A, services_atNode_aAction_B, services_atNode_aAction_C, services_atNode_aAction_D, services_atNode_aAction_G, services_atNode_aAction_E, services_atNode_aAction_F, eval_bActions, eval_aActions]\n",
       "Index: []\n",
       "\n",
       "[0 rows x 25 columns]"
      ]
     },
     "execution_count": 109,
     "metadata": {},
     "output_type": "execute_result"
    }
   ],
   "source": [
    "# Nos aseguramos que no haya nada raro.\n",
    "# Previas pruebas: hay samples with Fit. con NaN !! cuando se borran todos los servicios. Bug corregido.\n",
    "is_NaN = df.isnull()\n",
    "row_has_NaN = is_NaN.any(axis=1)\n",
    "rows_with_NaN = df[row_has_NaN]\n",
    "rows_with_NaN\n",
    "\n"
   ]
  },
  {
   "cell_type": "code",
   "execution_count": 116,
   "id": "0ae3d14a",
   "metadata": {},
   "outputs": [
    {
     "name": "stdout",
     "output_type": "stream",
     "text": [
      "Number of actions where there is an improvement\n"
     ]
    },
    {
     "data": {
      "text/html": [
       "<div>\n",
       "<style scoped>\n",
       "    .dataframe tbody tr th:only-of-type {\n",
       "        vertical-align: middle;\n",
       "    }\n",
       "\n",
       "    .dataframe tbody tr th {\n",
       "        vertical-align: top;\n",
       "    }\n",
       "\n",
       "    .dataframe thead th {\n",
       "        text-align: right;\n",
       "    }\n",
       "</style>\n",
       "<table border=\"1\" class=\"dataframe\">\n",
       "  <thead>\n",
       "    <tr style=\"text-align: right;\">\n",
       "      <th></th>\n",
       "      <th>user_atNode_A</th>\n",
       "      <th>user_atNode_B</th>\n",
       "      <th>user_atNode_C</th>\n",
       "      <th>user_atNode_D</th>\n",
       "      <th>user_atNode_G</th>\n",
       "      <th>user_atNode_E</th>\n",
       "      <th>user_atNode_F</th>\n",
       "      <th>services_atNode_bAction_A</th>\n",
       "      <th>services_atNode_bAction_B</th>\n",
       "      <th>services_atNode_bAction_C</th>\n",
       "      <th>...</th>\n",
       "      <th>OnService</th>\n",
       "      <th>services_atNode_aAction_A</th>\n",
       "      <th>services_atNode_aAction_B</th>\n",
       "      <th>services_atNode_aAction_C</th>\n",
       "      <th>services_atNode_aAction_D</th>\n",
       "      <th>services_atNode_aAction_G</th>\n",
       "      <th>services_atNode_aAction_E</th>\n",
       "      <th>services_atNode_aAction_F</th>\n",
       "      <th>eval_bActions</th>\n",
       "      <th>eval_aActions</th>\n",
       "    </tr>\n",
       "  </thead>\n",
       "  <tbody>\n",
       "    <tr>\n",
       "      <th>16</th>\n",
       "      <td>0.0</td>\n",
       "      <td>0.0</td>\n",
       "      <td>1.0</td>\n",
       "      <td>0.0</td>\n",
       "      <td>1.0</td>\n",
       "      <td>1.0</td>\n",
       "      <td>0.0</td>\n",
       "      <td>1.0</td>\n",
       "      <td>1.0</td>\n",
       "      <td>0.0</td>\n",
       "      <td>...</td>\n",
       "      <td>6.0</td>\n",
       "      <td>1.0</td>\n",
       "      <td>1.0</td>\n",
       "      <td>0.0</td>\n",
       "      <td>0.0</td>\n",
       "      <td>1.0</td>\n",
       "      <td>1.0</td>\n",
       "      <td>1.0</td>\n",
       "      <td>0.547619</td>\n",
       "      <td>0.785714</td>\n",
       "    </tr>\n",
       "    <tr>\n",
       "      <th>19</th>\n",
       "      <td>0.0</td>\n",
       "      <td>0.0</td>\n",
       "      <td>1.0</td>\n",
       "      <td>0.0</td>\n",
       "      <td>1.0</td>\n",
       "      <td>1.0</td>\n",
       "      <td>0.0</td>\n",
       "      <td>0.0</td>\n",
       "      <td>0.0</td>\n",
       "      <td>1.0</td>\n",
       "      <td>...</td>\n",
       "      <td>6.0</td>\n",
       "      <td>0.0</td>\n",
       "      <td>0.0</td>\n",
       "      <td>1.0</td>\n",
       "      <td>1.0</td>\n",
       "      <td>0.0</td>\n",
       "      <td>0.0</td>\n",
       "      <td>1.0</td>\n",
       "      <td>0.571429</td>\n",
       "      <td>0.761905</td>\n",
       "    </tr>\n",
       "    <tr>\n",
       "      <th>26</th>\n",
       "      <td>0.0</td>\n",
       "      <td>0.0</td>\n",
       "      <td>1.0</td>\n",
       "      <td>0.0</td>\n",
       "      <td>1.0</td>\n",
       "      <td>1.0</td>\n",
       "      <td>0.0</td>\n",
       "      <td>1.0</td>\n",
       "      <td>1.0</td>\n",
       "      <td>0.0</td>\n",
       "      <td>...</td>\n",
       "      <td>6.0</td>\n",
       "      <td>1.0</td>\n",
       "      <td>1.0</td>\n",
       "      <td>0.0</td>\n",
       "      <td>1.0</td>\n",
       "      <td>0.0</td>\n",
       "      <td>1.0</td>\n",
       "      <td>1.0</td>\n",
       "      <td>0.690476</td>\n",
       "      <td>0.785714</td>\n",
       "    </tr>\n",
       "    <tr>\n",
       "      <th>28</th>\n",
       "      <td>0.0</td>\n",
       "      <td>0.0</td>\n",
       "      <td>1.0</td>\n",
       "      <td>0.0</td>\n",
       "      <td>1.0</td>\n",
       "      <td>1.0</td>\n",
       "      <td>0.0</td>\n",
       "      <td>0.0</td>\n",
       "      <td>1.0</td>\n",
       "      <td>1.0</td>\n",
       "      <td>...</td>\n",
       "      <td>6.0</td>\n",
       "      <td>0.0</td>\n",
       "      <td>1.0</td>\n",
       "      <td>1.0</td>\n",
       "      <td>1.0</td>\n",
       "      <td>0.0</td>\n",
       "      <td>0.0</td>\n",
       "      <td>1.0</td>\n",
       "      <td>0.547619</td>\n",
       "      <td>0.761905</td>\n",
       "    </tr>\n",
       "    <tr>\n",
       "      <th>29</th>\n",
       "      <td>0.0</td>\n",
       "      <td>0.0</td>\n",
       "      <td>1.0</td>\n",
       "      <td>0.0</td>\n",
       "      <td>1.0</td>\n",
       "      <td>1.0</td>\n",
       "      <td>0.0</td>\n",
       "      <td>1.0</td>\n",
       "      <td>1.0</td>\n",
       "      <td>1.0</td>\n",
       "      <td>...</td>\n",
       "      <td>2.0</td>\n",
       "      <td>1.0</td>\n",
       "      <td>1.0</td>\n",
       "      <td>1.0</td>\n",
       "      <td>0.0</td>\n",
       "      <td>1.0</td>\n",
       "      <td>1.0</td>\n",
       "      <td>0.0</td>\n",
       "      <td>0.761905</td>\n",
       "      <td>1.000000</td>\n",
       "    </tr>\n",
       "  </tbody>\n",
       "</table>\n",
       "<p>5 rows × 25 columns</p>\n",
       "</div>"
      ],
      "text/plain": [
       "    user_atNode_A  user_atNode_B  user_atNode_C  user_atNode_D  user_atNode_G  \\\n",
       "16            0.0            0.0            1.0            0.0            1.0   \n",
       "19            0.0            0.0            1.0            0.0            1.0   \n",
       "26            0.0            0.0            1.0            0.0            1.0   \n",
       "28            0.0            0.0            1.0            0.0            1.0   \n",
       "29            0.0            0.0            1.0            0.0            1.0   \n",
       "\n",
       "    user_atNode_E  user_atNode_F  services_atNode_bAction_A  \\\n",
       "16            1.0            0.0                        1.0   \n",
       "19            1.0            0.0                        0.0   \n",
       "26            1.0            0.0                        1.0   \n",
       "28            1.0            0.0                        0.0   \n",
       "29            1.0            0.0                        1.0   \n",
       "\n",
       "    services_atNode_bAction_B  services_atNode_bAction_C  ...  OnService  \\\n",
       "16                        1.0                        0.0  ...        6.0   \n",
       "19                        0.0                        1.0  ...        6.0   \n",
       "26                        1.0                        0.0  ...        6.0   \n",
       "28                        1.0                        1.0  ...        6.0   \n",
       "29                        1.0                        1.0  ...        2.0   \n",
       "\n",
       "    services_atNode_aAction_A  services_atNode_aAction_B  \\\n",
       "16                        1.0                        1.0   \n",
       "19                        0.0                        0.0   \n",
       "26                        1.0                        1.0   \n",
       "28                        0.0                        1.0   \n",
       "29                        1.0                        1.0   \n",
       "\n",
       "    services_atNode_aAction_C  services_atNode_aAction_D  \\\n",
       "16                        0.0                        0.0   \n",
       "19                        1.0                        1.0   \n",
       "26                        0.0                        1.0   \n",
       "28                        1.0                        1.0   \n",
       "29                        1.0                        0.0   \n",
       "\n",
       "    services_atNode_aAction_G  services_atNode_aAction_E  \\\n",
       "16                        1.0                        1.0   \n",
       "19                        0.0                        0.0   \n",
       "26                        0.0                        1.0   \n",
       "28                        0.0                        0.0   \n",
       "29                        1.0                        1.0   \n",
       "\n",
       "    services_atNode_aAction_F  eval_bActions  eval_aActions  \n",
       "16                        1.0       0.547619       0.785714  \n",
       "19                        1.0       0.571429       0.761905  \n",
       "26                        1.0       0.690476       0.785714  \n",
       "28                        1.0       0.547619       0.761905  \n",
       "29                        0.0       0.761905       1.000000  \n",
       "\n",
       "[5 rows x 25 columns]"
      ]
     },
     "execution_count": 116,
     "metadata": {},
     "output_type": "execute_result"
    }
   ],
   "source": [
    "print(\"Number of actions where there is an improvement\")\n",
    "len(df[df.eval_bActions<df.eval_aActions]) \n",
    "df[df.eval_bActions<df.eval_aActions].head()"
   ]
  },
  {
   "cell_type": "markdown",
   "id": "a2c826cc",
   "metadata": {},
   "source": [
    "## Random forest model"
   ]
  },
  {
   "cell_type": "code",
   "execution_count": 110,
   "id": "e0034b5a",
   "metadata": {},
   "outputs": [
    {
     "name": "stdout",
     "output_type": "stream",
     "text": [
      "1.0.1\n"
     ]
    }
   ],
   "source": [
    "import sklearn\n",
    "print(sklearn.__version__) #Tengo que actualizar..."
   ]
  },
  {
   "cell_type": "code",
   "execution_count": 117,
   "id": "64043e27",
   "metadata": {},
   "outputs": [
    {
     "name": "stdout",
     "output_type": "stream",
     "text": [
      "750\n",
      "250\n"
     ]
    }
   ],
   "source": [
    "#Spliting data\n",
    "\n",
    "X_train, X_test, y_train, y_test = train_test_split(\n",
    "                                        df.drop(columns = \"eval_aActions\"),\n",
    "                                        df['eval_aActions'],\n",
    "                                        random_state = 0)\n",
    "print(len(X_train))\n",
    "print(len(X_test))"
   ]
  },
  {
   "cell_type": "code",
   "execution_count": 118,
   "id": "fd72dbb8",
   "metadata": {},
   "outputs": [
    {
     "data": {
      "text/plain": [
       "RandomForestRegressor(n_estimators=10, n_jobs=-1, random_state=123)"
      ]
     },
     "execution_count": 118,
     "metadata": {},
     "output_type": "execute_result"
    }
   ],
   "source": [
    "#Training                                    \n",
    "model = RandomForestRegressor(\n",
    "            n_estimators = 10,\n",
    "            criterion    = 'squared_error',\n",
    "            max_depth    = None,\n",
    "            max_features = 'auto',\n",
    "            oob_score    = False,\n",
    "            n_jobs       = -1,\n",
    "            random_state = 123\n",
    "         )\n",
    "\n",
    "model.fit(X_train, y_train)"
   ]
  },
  {
   "cell_type": "code",
   "execution_count": 119,
   "id": "b44181b1",
   "metadata": {},
   "outputs": [
    {
     "name": "stdout",
     "output_type": "stream",
     "text": [
      "El error (rmse) de test es: 0.002713\n"
     ]
    }
   ],
   "source": [
    "forecasting = model.predict(X = X_test)\n",
    "\n",
    "rmse = mean_squared_error(\n",
    "        y_true  = y_test,\n",
    "        y_pred  = forecasting)\n",
    "print(\"El error (rmse) de test es: %f\"%rmse)"
   ]
  },
  {
   "cell_type": "markdown",
   "id": "4bb8b27c",
   "metadata": {},
   "source": [
    "### A simple specific sample\n",
    "\n",
    "Comprobamos que el modelo nos puede asesorar!\n",
    "\n",
    "casi todo perfecto menos una migracion pendiente\n",
    "de B a C"
   ]
  },
  {
   "cell_type": "code",
   "execution_count": 130,
   "id": "8a8fb0c9",
   "metadata": {},
   "outputs": [
    {
     "name": "stdout",
     "output_type": "stream",
     "text": [
      "{'C': 1, 'G': 1, 'E': 1}\n",
      "The best fit with the sample1:  0.7619047619047619\n",
      "[0.         0.         1.         0.         1.         1.\n",
      " 0.         0.         1.         0.         0.         1.\n",
      " 0.         1.         1.         1.         0.         0.\n",
      " 1.         0.         1.         0.         1.         0.54761905]\n",
      "[0.         0.         1.         0.         1.         1.\n",
      " 0.         0.         1.         0.         0.         1.\n",
      " 0.         1.         0.         1.         0.         1.\n",
      " 0.         0.         1.         0.         1.         0.54761905]\n"
     ]
    }
   ],
   "source": [
    "#Current STATE\n",
    "print(wl_users) #[a,b,c,d,e,f,g]\n",
    "r_serv_bAction = [0,1,0,0,1,0,1]\n",
    "routing = get_routings(r_serv_bAction)\n",
    "eval_bActions = compute_eval(routing)\n",
    "action = 1\n",
    "on_service = 1\n",
    "r_serv_aAction = [0,0,1,0,1,0,1]\n",
    "routing = get_routings(r_serv_aAction)\n",
    "eval_aActions = compute_eval(routing)\n",
    "\n",
    "sample1 = np.hstack([users_at_node,r_serv_bAction,action,on_service,r_serv_aAction,eval_bActions]) #migrate ok\n",
    "sample2 = np.hstack([users_at_node,r_serv_bAction,0,on_service,r_serv_bAction,eval_bActions]) # none bad\n",
    "\n",
    "print(\"The best fit with the sample1: \",eval_aActions)\n",
    "print(sample1)\n",
    "print(sample2)"
   ]
  },
  {
   "cell_type": "code",
   "execution_count": 131,
   "id": "fb2bd70e",
   "metadata": {},
   "outputs": [
    {
     "name": "stdout",
     "output_type": "stream",
     "text": [
      "25\n"
     ]
    },
    {
     "data": {
      "text/html": [
       "<div>\n",
       "<style scoped>\n",
       "    .dataframe tbody tr th:only-of-type {\n",
       "        vertical-align: middle;\n",
       "    }\n",
       "\n",
       "    .dataframe tbody tr th {\n",
       "        vertical-align: top;\n",
       "    }\n",
       "\n",
       "    .dataframe thead th {\n",
       "        text-align: right;\n",
       "    }\n",
       "</style>\n",
       "<table border=\"1\" class=\"dataframe\">\n",
       "  <thead>\n",
       "    <tr style=\"text-align: right;\">\n",
       "      <th></th>\n",
       "      <th>user_atNode_A</th>\n",
       "      <th>user_atNode_B</th>\n",
       "      <th>user_atNode_C</th>\n",
       "      <th>user_atNode_D</th>\n",
       "      <th>user_atNode_G</th>\n",
       "      <th>user_atNode_E</th>\n",
       "      <th>user_atNode_F</th>\n",
       "      <th>services_atNode_bAction_A</th>\n",
       "      <th>services_atNode_bAction_B</th>\n",
       "      <th>services_atNode_bAction_C</th>\n",
       "      <th>...</th>\n",
       "      <th>Action</th>\n",
       "      <th>OnService</th>\n",
       "      <th>services_atNode_aAction_A</th>\n",
       "      <th>services_atNode_aAction_B</th>\n",
       "      <th>services_atNode_aAction_C</th>\n",
       "      <th>services_atNode_aAction_D</th>\n",
       "      <th>services_atNode_aAction_G</th>\n",
       "      <th>services_atNode_aAction_E</th>\n",
       "      <th>services_atNode_aAction_F</th>\n",
       "      <th>eval_bActions</th>\n",
       "    </tr>\n",
       "  </thead>\n",
       "  <tbody>\n",
       "    <tr>\n",
       "      <th>0</th>\n",
       "      <td>0.0</td>\n",
       "      <td>0.0</td>\n",
       "      <td>1.0</td>\n",
       "      <td>0.0</td>\n",
       "      <td>1.0</td>\n",
       "      <td>1.0</td>\n",
       "      <td>0.0</td>\n",
       "      <td>0.0</td>\n",
       "      <td>1.0</td>\n",
       "      <td>0.0</td>\n",
       "      <td>...</td>\n",
       "      <td>1.0</td>\n",
       "      <td>1.0</td>\n",
       "      <td>0.0</td>\n",
       "      <td>0.0</td>\n",
       "      <td>1.0</td>\n",
       "      <td>0.0</td>\n",
       "      <td>1.0</td>\n",
       "      <td>0.0</td>\n",
       "      <td>1.0</td>\n",
       "      <td>0.547619</td>\n",
       "    </tr>\n",
       "    <tr>\n",
       "      <th>1</th>\n",
       "      <td>0.0</td>\n",
       "      <td>0.0</td>\n",
       "      <td>1.0</td>\n",
       "      <td>0.0</td>\n",
       "      <td>1.0</td>\n",
       "      <td>1.0</td>\n",
       "      <td>0.0</td>\n",
       "      <td>0.0</td>\n",
       "      <td>1.0</td>\n",
       "      <td>0.0</td>\n",
       "      <td>...</td>\n",
       "      <td>0.0</td>\n",
       "      <td>1.0</td>\n",
       "      <td>0.0</td>\n",
       "      <td>1.0</td>\n",
       "      <td>0.0</td>\n",
       "      <td>0.0</td>\n",
       "      <td>1.0</td>\n",
       "      <td>0.0</td>\n",
       "      <td>1.0</td>\n",
       "      <td>0.547619</td>\n",
       "    </tr>\n",
       "  </tbody>\n",
       "</table>\n",
       "<p>2 rows × 24 columns</p>\n",
       "</div>"
      ],
      "text/plain": [
       "   user_atNode_A  user_atNode_B  user_atNode_C  user_atNode_D  user_atNode_G  \\\n",
       "0            0.0            0.0            1.0            0.0            1.0   \n",
       "1            0.0            0.0            1.0            0.0            1.0   \n",
       "\n",
       "   user_atNode_E  user_atNode_F  services_atNode_bAction_A  \\\n",
       "0            1.0            0.0                        0.0   \n",
       "1            1.0            0.0                        0.0   \n",
       "\n",
       "   services_atNode_bAction_B  services_atNode_bAction_C  ...  Action  \\\n",
       "0                        1.0                        0.0  ...     1.0   \n",
       "1                        1.0                        0.0  ...     0.0   \n",
       "\n",
       "   OnService  services_atNode_aAction_A  services_atNode_aAction_B  \\\n",
       "0        1.0                        0.0                        0.0   \n",
       "1        1.0                        0.0                        1.0   \n",
       "\n",
       "   services_atNode_aAction_C  services_atNode_aAction_D  \\\n",
       "0                        1.0                        0.0   \n",
       "1                        0.0                        0.0   \n",
       "\n",
       "   services_atNode_aAction_G  services_atNode_aAction_E  \\\n",
       "0                        1.0                        0.0   \n",
       "1                        1.0                        0.0   \n",
       "\n",
       "   services_atNode_aAction_F  eval_bActions  \n",
       "0                        1.0       0.547619  \n",
       "1                        1.0       0.547619  \n",
       "\n",
       "[2 rows x 24 columns]"
      ]
     },
     "execution_count": 131,
     "metadata": {},
     "output_type": "execute_result"
    }
   ],
   "source": [
    "print(len(columns))\n",
    "dftest = pd.DataFrame(columns=columns[0:-1])\n",
    "dftest.loc[len(dftest)] = sample1\n",
    "dftest.loc[len(dftest)] = sample2\n",
    "dftest"
   ]
  },
  {
   "cell_type": "code",
   "execution_count": 132,
   "id": "cea36afd",
   "metadata": {},
   "outputs": [],
   "source": [
    "forecasting = model.predict(X = dftest)"
   ]
  },
  {
   "cell_type": "code",
   "execution_count": 133,
   "id": "247bd51d",
   "metadata": {},
   "outputs": [
    {
     "name": "stdout",
     "output_type": "stream",
     "text": [
      "[0.64047619 0.54761905]\n"
     ]
    }
   ],
   "source": [
    "print(forecasting) "
   ]
  },
  {
   "cell_type": "markdown",
   "id": "fd04fce9",
   "metadata": {},
   "source": [
    "😍 Ante dos acciones: migrar a una mejor posición o no hacer nada, es mejor migrar!"
   ]
  },
  {
   "cell_type": "markdown",
   "id": "c0b2c667",
   "metadata": {},
   "source": [
    "#### Importancia de los descriptores\n"
   ]
  },
  {
   "cell_type": "code",
   "execution_count": 137,
   "id": "f2a09f14",
   "metadata": {},
   "outputs": [
    {
     "data": {
      "text/html": [
       "<div>\n",
       "<style scoped>\n",
       "    .dataframe tbody tr th:only-of-type {\n",
       "        vertical-align: middle;\n",
       "    }\n",
       "\n",
       "    .dataframe tbody tr th {\n",
       "        vertical-align: top;\n",
       "    }\n",
       "\n",
       "    .dataframe thead th {\n",
       "        text-align: right;\n",
       "    }\n",
       "</style>\n",
       "<table border=\"1\" class=\"dataframe\">\n",
       "  <thead>\n",
       "    <tr style=\"text-align: right;\">\n",
       "      <th></th>\n",
       "      <th>predictor</th>\n",
       "      <th>importancia</th>\n",
       "    </tr>\n",
       "  </thead>\n",
       "  <tbody>\n",
       "    <tr>\n",
       "      <th>23</th>\n",
       "      <td>eval_bActions</td>\n",
       "      <td>0.621607</td>\n",
       "    </tr>\n",
       "    <tr>\n",
       "      <th>14</th>\n",
       "      <td>Action</td>\n",
       "      <td>0.133626</td>\n",
       "    </tr>\n",
       "    <tr>\n",
       "      <th>15</th>\n",
       "      <td>OnService</td>\n",
       "      <td>0.048183</td>\n",
       "    </tr>\n",
       "    <tr>\n",
       "      <th>12</th>\n",
       "      <td>services_atNode_bAction_E</td>\n",
       "      <td>0.035465</td>\n",
       "    </tr>\n",
       "    <tr>\n",
       "      <th>21</th>\n",
       "      <td>services_atNode_aAction_E</td>\n",
       "      <td>0.025910</td>\n",
       "    </tr>\n",
       "    <tr>\n",
       "      <th>9</th>\n",
       "      <td>services_atNode_bAction_C</td>\n",
       "      <td>0.018141</td>\n",
       "    </tr>\n",
       "    <tr>\n",
       "      <th>19</th>\n",
       "      <td>services_atNode_aAction_D</td>\n",
       "      <td>0.017726</td>\n",
       "    </tr>\n",
       "    <tr>\n",
       "      <th>10</th>\n",
       "      <td>services_atNode_bAction_D</td>\n",
       "      <td>0.017260</td>\n",
       "    </tr>\n",
       "    <tr>\n",
       "      <th>20</th>\n",
       "      <td>services_atNode_aAction_G</td>\n",
       "      <td>0.015952</td>\n",
       "    </tr>\n",
       "    <tr>\n",
       "      <th>18</th>\n",
       "      <td>services_atNode_aAction_C</td>\n",
       "      <td>0.015951</td>\n",
       "    </tr>\n",
       "    <tr>\n",
       "      <th>11</th>\n",
       "      <td>services_atNode_bAction_G</td>\n",
       "      <td>0.013900</td>\n",
       "    </tr>\n",
       "    <tr>\n",
       "      <th>7</th>\n",
       "      <td>services_atNode_bAction_A</td>\n",
       "      <td>0.008244</td>\n",
       "    </tr>\n",
       "    <tr>\n",
       "      <th>13</th>\n",
       "      <td>services_atNode_bAction_F</td>\n",
       "      <td>0.006554</td>\n",
       "    </tr>\n",
       "    <tr>\n",
       "      <th>16</th>\n",
       "      <td>services_atNode_aAction_A</td>\n",
       "      <td>0.006539</td>\n",
       "    </tr>\n",
       "    <tr>\n",
       "      <th>17</th>\n",
       "      <td>services_atNode_aAction_B</td>\n",
       "      <td>0.006360</td>\n",
       "    </tr>\n",
       "    <tr>\n",
       "      <th>8</th>\n",
       "      <td>services_atNode_bAction_B</td>\n",
       "      <td>0.004972</td>\n",
       "    </tr>\n",
       "    <tr>\n",
       "      <th>22</th>\n",
       "      <td>services_atNode_aAction_F</td>\n",
       "      <td>0.003609</td>\n",
       "    </tr>\n",
       "    <tr>\n",
       "      <th>4</th>\n",
       "      <td>user_atNode_G</td>\n",
       "      <td>0.000000</td>\n",
       "    </tr>\n",
       "    <tr>\n",
       "      <th>3</th>\n",
       "      <td>user_atNode_D</td>\n",
       "      <td>0.000000</td>\n",
       "    </tr>\n",
       "    <tr>\n",
       "      <th>2</th>\n",
       "      <td>user_atNode_C</td>\n",
       "      <td>0.000000</td>\n",
       "    </tr>\n",
       "    <tr>\n",
       "      <th>5</th>\n",
       "      <td>user_atNode_E</td>\n",
       "      <td>0.000000</td>\n",
       "    </tr>\n",
       "    <tr>\n",
       "      <th>1</th>\n",
       "      <td>user_atNode_B</td>\n",
       "      <td>0.000000</td>\n",
       "    </tr>\n",
       "    <tr>\n",
       "      <th>6</th>\n",
       "      <td>user_atNode_F</td>\n",
       "      <td>0.000000</td>\n",
       "    </tr>\n",
       "    <tr>\n",
       "      <th>0</th>\n",
       "      <td>user_atNode_A</td>\n",
       "      <td>0.000000</td>\n",
       "    </tr>\n",
       "  </tbody>\n",
       "</table>\n",
       "</div>"
      ],
      "text/plain": [
       "                    predictor  importancia\n",
       "23              eval_bActions     0.621607\n",
       "14                     Action     0.133626\n",
       "15                  OnService     0.048183\n",
       "12  services_atNode_bAction_E     0.035465\n",
       "21  services_atNode_aAction_E     0.025910\n",
       "9   services_atNode_bAction_C     0.018141\n",
       "19  services_atNode_aAction_D     0.017726\n",
       "10  services_atNode_bAction_D     0.017260\n",
       "20  services_atNode_aAction_G     0.015952\n",
       "18  services_atNode_aAction_C     0.015951\n",
       "11  services_atNode_bAction_G     0.013900\n",
       "7   services_atNode_bAction_A     0.008244\n",
       "13  services_atNode_bAction_F     0.006554\n",
       "16  services_atNode_aAction_A     0.006539\n",
       "17  services_atNode_aAction_B     0.006360\n",
       "8   services_atNode_bAction_B     0.004972\n",
       "22  services_atNode_aAction_F     0.003609\n",
       "4               user_atNode_G     0.000000\n",
       "3               user_atNode_D     0.000000\n",
       "2               user_atNode_C     0.000000\n",
       "5               user_atNode_E     0.000000\n",
       "1               user_atNode_B     0.000000\n",
       "6               user_atNode_F     0.000000\n",
       "0               user_atNode_A     0.000000"
      ]
     },
     "execution_count": 137,
     "metadata": {},
     "output_type": "execute_result"
    }
   ],
   "source": [
    "importancia_predictores = pd.DataFrame(\n",
    "                            {'predictor': df.drop(columns = \"eval_aActions\").columns,\n",
    "                             'importancia': model.feature_importances_}\n",
    "                            )\n",
    "\n",
    "importancia_predictores.sort_values('importancia', ascending=False)\n"
   ]
  },
  {
   "cell_type": "markdown",
   "id": "c1c7e9ed",
   "metadata": {},
   "source": [
    "## TestB Including constant variables from the topology"
   ]
  },
  {
   "cell_type": "code",
   "execution_count": 138,
   "id": "946c5ca8",
   "metadata": {},
   "outputs": [
    {
     "data": {
      "text/html": [
       "<div>\n",
       "<style scoped>\n",
       "    .dataframe tbody tr th:only-of-type {\n",
       "        vertical-align: middle;\n",
       "    }\n",
       "\n",
       "    .dataframe tbody tr th {\n",
       "        vertical-align: top;\n",
       "    }\n",
       "\n",
       "    .dataframe thead th {\n",
       "        text-align: right;\n",
       "    }\n",
       "</style>\n",
       "<table border=\"1\" class=\"dataframe\">\n",
       "  <thead>\n",
       "    <tr style=\"text-align: right;\">\n",
       "      <th></th>\n",
       "      <th>user_atNode_A</th>\n",
       "      <th>user_atNode_B</th>\n",
       "      <th>user_atNode_C</th>\n",
       "      <th>user_atNode_D</th>\n",
       "      <th>user_atNode_G</th>\n",
       "      <th>user_atNode_E</th>\n",
       "      <th>user_atNode_F</th>\n",
       "      <th>services_atNode_bAction_A</th>\n",
       "      <th>services_atNode_bAction_B</th>\n",
       "      <th>services_atNode_bAction_C</th>\n",
       "      <th>...</th>\n",
       "      <th>OnService</th>\n",
       "      <th>services_atNode_aAction_A</th>\n",
       "      <th>services_atNode_aAction_B</th>\n",
       "      <th>services_atNode_aAction_C</th>\n",
       "      <th>services_atNode_aAction_D</th>\n",
       "      <th>services_atNode_aAction_G</th>\n",
       "      <th>services_atNode_aAction_E</th>\n",
       "      <th>services_atNode_aAction_F</th>\n",
       "      <th>eval_bActions</th>\n",
       "      <th>eval_aActions</th>\n",
       "    </tr>\n",
       "  </thead>\n",
       "  <tbody>\n",
       "    <tr>\n",
       "      <th>0</th>\n",
       "      <td>0.0</td>\n",
       "      <td>0.0</td>\n",
       "      <td>1.0</td>\n",
       "      <td>0.0</td>\n",
       "      <td>1.0</td>\n",
       "      <td>1.0</td>\n",
       "      <td>0.0</td>\n",
       "      <td>1.0</td>\n",
       "      <td>1.0</td>\n",
       "      <td>0.0</td>\n",
       "      <td>...</td>\n",
       "      <td>0.0</td>\n",
       "      <td>1.0</td>\n",
       "      <td>1.0</td>\n",
       "      <td>0.0</td>\n",
       "      <td>0.0</td>\n",
       "      <td>1.0</td>\n",
       "      <td>0.0</td>\n",
       "      <td>0.0</td>\n",
       "      <td>0.547619</td>\n",
       "      <td>0.547619</td>\n",
       "    </tr>\n",
       "    <tr>\n",
       "      <th>1</th>\n",
       "      <td>0.0</td>\n",
       "      <td>0.0</td>\n",
       "      <td>1.0</td>\n",
       "      <td>0.0</td>\n",
       "      <td>1.0</td>\n",
       "      <td>1.0</td>\n",
       "      <td>0.0</td>\n",
       "      <td>0.0</td>\n",
       "      <td>1.0</td>\n",
       "      <td>1.0</td>\n",
       "      <td>...</td>\n",
       "      <td>3.0</td>\n",
       "      <td>0.0</td>\n",
       "      <td>1.0</td>\n",
       "      <td>1.0</td>\n",
       "      <td>0.0</td>\n",
       "      <td>1.0</td>\n",
       "      <td>0.0</td>\n",
       "      <td>0.0</td>\n",
       "      <td>0.761905</td>\n",
       "      <td>0.761905</td>\n",
       "    </tr>\n",
       "    <tr>\n",
       "      <th>2</th>\n",
       "      <td>0.0</td>\n",
       "      <td>0.0</td>\n",
       "      <td>1.0</td>\n",
       "      <td>0.0</td>\n",
       "      <td>1.0</td>\n",
       "      <td>1.0</td>\n",
       "      <td>0.0</td>\n",
       "      <td>1.0</td>\n",
       "      <td>1.0</td>\n",
       "      <td>1.0</td>\n",
       "      <td>...</td>\n",
       "      <td>4.0</td>\n",
       "      <td>1.0</td>\n",
       "      <td>1.0</td>\n",
       "      <td>1.0</td>\n",
       "      <td>0.0</td>\n",
       "      <td>0.0</td>\n",
       "      <td>0.0</td>\n",
       "      <td>1.0</td>\n",
       "      <td>0.761905</td>\n",
       "      <td>0.547619</td>\n",
       "    </tr>\n",
       "    <tr>\n",
       "      <th>3</th>\n",
       "      <td>0.0</td>\n",
       "      <td>0.0</td>\n",
       "      <td>1.0</td>\n",
       "      <td>0.0</td>\n",
       "      <td>1.0</td>\n",
       "      <td>1.0</td>\n",
       "      <td>0.0</td>\n",
       "      <td>0.0</td>\n",
       "      <td>0.0</td>\n",
       "      <td>0.0</td>\n",
       "      <td>...</td>\n",
       "      <td>1.0</td>\n",
       "      <td>0.0</td>\n",
       "      <td>0.0</td>\n",
       "      <td>0.0</td>\n",
       "      <td>1.0</td>\n",
       "      <td>1.0</td>\n",
       "      <td>1.0</td>\n",
       "      <td>1.0</td>\n",
       "      <td>0.976190</td>\n",
       "      <td>0.976190</td>\n",
       "    </tr>\n",
       "    <tr>\n",
       "      <th>4</th>\n",
       "      <td>0.0</td>\n",
       "      <td>0.0</td>\n",
       "      <td>1.0</td>\n",
       "      <td>0.0</td>\n",
       "      <td>1.0</td>\n",
       "      <td>1.0</td>\n",
       "      <td>0.0</td>\n",
       "      <td>1.0</td>\n",
       "      <td>1.0</td>\n",
       "      <td>1.0</td>\n",
       "      <td>...</td>\n",
       "      <td>3.0</td>\n",
       "      <td>1.0</td>\n",
       "      <td>1.0</td>\n",
       "      <td>1.0</td>\n",
       "      <td>1.0</td>\n",
       "      <td>0.0</td>\n",
       "      <td>1.0</td>\n",
       "      <td>0.0</td>\n",
       "      <td>0.976190</td>\n",
       "      <td>0.976190</td>\n",
       "    </tr>\n",
       "  </tbody>\n",
       "</table>\n",
       "<p>5 rows × 25 columns</p>\n",
       "</div>"
      ],
      "text/plain": [
       "   user_atNode_A  user_atNode_B  user_atNode_C  user_atNode_D  user_atNode_G  \\\n",
       "0            0.0            0.0            1.0            0.0            1.0   \n",
       "1            0.0            0.0            1.0            0.0            1.0   \n",
       "2            0.0            0.0            1.0            0.0            1.0   \n",
       "3            0.0            0.0            1.0            0.0            1.0   \n",
       "4            0.0            0.0            1.0            0.0            1.0   \n",
       "\n",
       "   user_atNode_E  user_atNode_F  services_atNode_bAction_A  \\\n",
       "0            1.0            0.0                        1.0   \n",
       "1            1.0            0.0                        0.0   \n",
       "2            1.0            0.0                        1.0   \n",
       "3            1.0            0.0                        0.0   \n",
       "4            1.0            0.0                        1.0   \n",
       "\n",
       "   services_atNode_bAction_B  services_atNode_bAction_C  ...  OnService  \\\n",
       "0                        1.0                        0.0  ...        0.0   \n",
       "1                        1.0                        1.0  ...        3.0   \n",
       "2                        1.0                        1.0  ...        4.0   \n",
       "3                        0.0                        0.0  ...        1.0   \n",
       "4                        1.0                        1.0  ...        3.0   \n",
       "\n",
       "   services_atNode_aAction_A  services_atNode_aAction_B  \\\n",
       "0                        1.0                        1.0   \n",
       "1                        0.0                        1.0   \n",
       "2                        1.0                        1.0   \n",
       "3                        0.0                        0.0   \n",
       "4                        1.0                        1.0   \n",
       "\n",
       "   services_atNode_aAction_C  services_atNode_aAction_D  \\\n",
       "0                        0.0                        0.0   \n",
       "1                        1.0                        0.0   \n",
       "2                        1.0                        0.0   \n",
       "3                        0.0                        1.0   \n",
       "4                        1.0                        1.0   \n",
       "\n",
       "   services_atNode_aAction_G  services_atNode_aAction_E  \\\n",
       "0                        1.0                        0.0   \n",
       "1                        1.0                        0.0   \n",
       "2                        0.0                        0.0   \n",
       "3                        1.0                        1.0   \n",
       "4                        0.0                        1.0   \n",
       "\n",
       "   services_atNode_aAction_F  eval_bActions  eval_aActions  \n",
       "0                        0.0       0.547619       0.547619  \n",
       "1                        0.0       0.761905       0.761905  \n",
       "2                        1.0       0.761905       0.547619  \n",
       "3                        1.0       0.976190       0.976190  \n",
       "4                        0.0       0.976190       0.976190  \n",
       "\n",
       "[5 rows x 25 columns]"
      ]
     },
     "execution_count": 138,
     "metadata": {},
     "output_type": "execute_result"
    }
   ],
   "source": [
    "df.head()"
   ]
  },
  {
   "cell_type": "code",
   "execution_count": 139,
   "id": "34f9a3cc",
   "metadata": {},
   "outputs": [
    {
     "data": {
      "text/plain": [
       "(1000, 25)"
      ]
     },
     "execution_count": 139,
     "metadata": {},
     "output_type": "execute_result"
    }
   ],
   "source": [
    "df.shape"
   ]
  },
  {
   "cell_type": "code",
   "execution_count": 140,
   "id": "d3441bce",
   "metadata": {},
   "outputs": [
    {
     "data": {
      "text/html": [
       "<div>\n",
       "<style scoped>\n",
       "    .dataframe tbody tr th:only-of-type {\n",
       "        vertical-align: middle;\n",
       "    }\n",
       "\n",
       "    .dataframe tbody tr th {\n",
       "        vertical-align: top;\n",
       "    }\n",
       "\n",
       "    .dataframe thead th {\n",
       "        text-align: right;\n",
       "    }\n",
       "</style>\n",
       "<table border=\"1\" class=\"dataframe\">\n",
       "  <thead>\n",
       "    <tr style=\"text-align: right;\">\n",
       "      <th></th>\n",
       "      <th>degree_A</th>\n",
       "      <th>degree_B</th>\n",
       "      <th>degree_C</th>\n",
       "      <th>degree_D</th>\n",
       "      <th>degree_G</th>\n",
       "      <th>degree_E</th>\n",
       "      <th>degree_F</th>\n",
       "      <th>centrality_A</th>\n",
       "      <th>centrality_B</th>\n",
       "      <th>centrality_C</th>\n",
       "      <th>centrality_D</th>\n",
       "      <th>centrality_G</th>\n",
       "      <th>centrality_E</th>\n",
       "      <th>centrality_F</th>\n",
       "    </tr>\n",
       "  </thead>\n",
       "  <tbody>\n",
       "    <tr>\n",
       "      <th>0</th>\n",
       "      <td>2.0</td>\n",
       "      <td>3.0</td>\n",
       "      <td>3.0</td>\n",
       "      <td>5.0</td>\n",
       "      <td>1.0</td>\n",
       "      <td>2.0</td>\n",
       "      <td>2.0</td>\n",
       "      <td>0.0</td>\n",
       "      <td>0.055556</td>\n",
       "      <td>0.177778</td>\n",
       "      <td>0.577778</td>\n",
       "      <td>0.0</td>\n",
       "      <td>0.088889</td>\n",
       "      <td>0.033333</td>\n",
       "    </tr>\n",
       "  </tbody>\n",
       "</table>\n",
       "</div>"
      ],
      "text/plain": [
       "   degree_A  degree_B  degree_C  degree_D  degree_G  degree_E  degree_F  \\\n",
       "0       2.0       3.0       3.0       5.0       1.0       2.0       2.0   \n",
       "\n",
       "   centrality_A  centrality_B  centrality_C  centrality_D  centrality_G  \\\n",
       "0           0.0      0.055556      0.177778      0.577778           0.0   \n",
       "\n",
       "   centrality_E  centrality_F  \n",
       "0      0.088889      0.033333  "
      ]
     },
     "execution_count": 140,
     "metadata": {},
     "output_type": "execute_result"
    }
   ],
   "source": [
    "columns = [\"degree_%s\"%n for n in G.nodes()]\n",
    "columns += [\"centrality_%s\"%n for n in G.nodes()]\n",
    "\n",
    "node_degree = list(dict(G.degree()).values())\n",
    "node_centrality = list(nx.betweenness_centrality(G).values())\n",
    "\n",
    "dfConstant = pd.DataFrame(columns=columns)\n",
    "dfConstant.loc[0] = node_degree+node_centrality\n",
    "dfConstant"
   ]
  },
  {
   "cell_type": "code",
   "execution_count": 141,
   "id": "790389b9",
   "metadata": {},
   "outputs": [],
   "source": [
    "dfj = df.merge(dfConstant, how='cross')"
   ]
  },
  {
   "cell_type": "code",
   "execution_count": 144,
   "id": "4ba596ec",
   "metadata": {},
   "outputs": [
    {
     "name": "stdout",
     "output_type": "stream",
     "text": [
      "750\n",
      "250\n"
     ]
    }
   ],
   "source": [
    "X_train, X_test, y_train, y_test = train_test_split(\n",
    "                                        dfj.drop(columns = \"eval_aActions\"),\n",
    "                                        dfj['eval_aActions'],\n",
    "                                        random_state = 0)\n",
    "print(len(X_train))\n",
    "print(len(X_test))"
   ]
  },
  {
   "cell_type": "code",
   "execution_count": 145,
   "id": "2b58d3ca",
   "metadata": {},
   "outputs": [
    {
     "data": {
      "text/plain": [
       "RandomForestRegressor(n_estimators=10, n_jobs=-1, random_state=123)"
      ]
     },
     "execution_count": 145,
     "metadata": {},
     "output_type": "execute_result"
    }
   ],
   "source": [
    "model = RandomForestRegressor(\n",
    "            n_estimators = 10,\n",
    "            criterion    = 'squared_error',\n",
    "            max_depth    = None,\n",
    "            max_features = 'auto',\n",
    "            oob_score    = False,\n",
    "            n_jobs       = -1,\n",
    "            random_state = 123\n",
    "         )\n",
    "\n",
    "model.fit(X_train, y_train)"
   ]
  },
  {
   "cell_type": "code",
   "execution_count": 146,
   "id": "260ef60b",
   "metadata": {},
   "outputs": [
    {
     "name": "stdout",
     "output_type": "stream",
     "text": [
      "El error (rmse) de test es: 0.002569\n"
     ]
    }
   ],
   "source": [
    "forecasting = model.predict(X = X_test)\n",
    "\n",
    "rmse = mean_squared_error(\n",
    "        y_true  = y_test,\n",
    "        y_pred  = forecasting)\n",
    "print(\"El error (rmse) de test es: %f\"%rmse)"
   ]
  },
  {
   "cell_type": "code",
   "execution_count": 147,
   "id": "b2dca656",
   "metadata": {},
   "outputs": [
    {
     "data": {
      "text/html": [
       "<div>\n",
       "<style scoped>\n",
       "    .dataframe tbody tr th:only-of-type {\n",
       "        vertical-align: middle;\n",
       "    }\n",
       "\n",
       "    .dataframe tbody tr th {\n",
       "        vertical-align: top;\n",
       "    }\n",
       "\n",
       "    .dataframe thead th {\n",
       "        text-align: right;\n",
       "    }\n",
       "</style>\n",
       "<table border=\"1\" class=\"dataframe\">\n",
       "  <thead>\n",
       "    <tr style=\"text-align: right;\">\n",
       "      <th></th>\n",
       "      <th>importances_mean</th>\n",
       "      <th>importances_std</th>\n",
       "      <th>feature</th>\n",
       "    </tr>\n",
       "  </thead>\n",
       "  <tbody>\n",
       "    <tr>\n",
       "      <th>23</th>\n",
       "      <td>1.584918e-01</td>\n",
       "      <td>2.644898e-03</td>\n",
       "      <td>eval_bActions</td>\n",
       "    </tr>\n",
       "    <tr>\n",
       "      <th>14</th>\n",
       "      <td>7.424217e-02</td>\n",
       "      <td>1.828353e-03</td>\n",
       "      <td>Action</td>\n",
       "    </tr>\n",
       "    <tr>\n",
       "      <th>21</th>\n",
       "      <td>4.288878e-02</td>\n",
       "      <td>1.062565e-03</td>\n",
       "      <td>services_atNode_aAction_E</td>\n",
       "    </tr>\n",
       "    <tr>\n",
       "      <th>15</th>\n",
       "      <td>4.145232e-02</td>\n",
       "      <td>1.995992e-03</td>\n",
       "      <td>OnService</td>\n",
       "    </tr>\n",
       "    <tr>\n",
       "      <th>12</th>\n",
       "      <td>3.670532e-02</td>\n",
       "      <td>1.566735e-03</td>\n",
       "      <td>services_atNode_bAction_E</td>\n",
       "    </tr>\n",
       "    <tr>\n",
       "      <th>18</th>\n",
       "      <td>3.032715e-02</td>\n",
       "      <td>1.337787e-03</td>\n",
       "      <td>services_atNode_aAction_C</td>\n",
       "    </tr>\n",
       "    <tr>\n",
       "      <th>10</th>\n",
       "      <td>2.469546e-02</td>\n",
       "      <td>4.291683e-04</td>\n",
       "      <td>services_atNode_bAction_D</td>\n",
       "    </tr>\n",
       "    <tr>\n",
       "      <th>20</th>\n",
       "      <td>2.435556e-02</td>\n",
       "      <td>1.186797e-03</td>\n",
       "      <td>services_atNode_aAction_G</td>\n",
       "    </tr>\n",
       "    <tr>\n",
       "      <th>11</th>\n",
       "      <td>2.238675e-02</td>\n",
       "      <td>6.807760e-04</td>\n",
       "      <td>services_atNode_bAction_G</td>\n",
       "    </tr>\n",
       "    <tr>\n",
       "      <th>19</th>\n",
       "      <td>2.092335e-02</td>\n",
       "      <td>7.242262e-04</td>\n",
       "      <td>services_atNode_aAction_D</td>\n",
       "    </tr>\n",
       "    <tr>\n",
       "      <th>9</th>\n",
       "      <td>1.512976e-02</td>\n",
       "      <td>7.561947e-04</td>\n",
       "      <td>services_atNode_bAction_C</td>\n",
       "    </tr>\n",
       "    <tr>\n",
       "      <th>16</th>\n",
       "      <td>1.463111e-02</td>\n",
       "      <td>1.316682e-03</td>\n",
       "      <td>services_atNode_aAction_A</td>\n",
       "    </tr>\n",
       "    <tr>\n",
       "      <th>17</th>\n",
       "      <td>1.178667e-02</td>\n",
       "      <td>1.804682e-03</td>\n",
       "      <td>services_atNode_aAction_B</td>\n",
       "    </tr>\n",
       "    <tr>\n",
       "      <th>22</th>\n",
       "      <td>9.660038e-03</td>\n",
       "      <td>8.401580e-04</td>\n",
       "      <td>services_atNode_aAction_F</td>\n",
       "    </tr>\n",
       "    <tr>\n",
       "      <th>13</th>\n",
       "      <td>7.444075e-03</td>\n",
       "      <td>1.116654e-03</td>\n",
       "      <td>services_atNode_bAction_F</td>\n",
       "    </tr>\n",
       "    <tr>\n",
       "      <th>7</th>\n",
       "      <td>7.168348e-03</td>\n",
       "      <td>3.148202e-04</td>\n",
       "      <td>services_atNode_bAction_A</td>\n",
       "    </tr>\n",
       "    <tr>\n",
       "      <th>8</th>\n",
       "      <td>5.936266e-03</td>\n",
       "      <td>8.697049e-04</td>\n",
       "      <td>services_atNode_bAction_B</td>\n",
       "    </tr>\n",
       "    <tr>\n",
       "      <th>31</th>\n",
       "      <td>-2.081668e-18</td>\n",
       "      <td>1.699675e-18</td>\n",
       "      <td>centrality_A</td>\n",
       "    </tr>\n",
       "    <tr>\n",
       "      <th>27</th>\n",
       "      <td>-2.775558e-18</td>\n",
       "      <td>1.387779e-18</td>\n",
       "      <td>degree_D</td>\n",
       "    </tr>\n",
       "    <tr>\n",
       "      <th>32</th>\n",
       "      <td>-2.775558e-18</td>\n",
       "      <td>3.399350e-18</td>\n",
       "      <td>centrality_B</td>\n",
       "    </tr>\n",
       "    <tr>\n",
       "      <th>1</th>\n",
       "      <td>-2.775558e-18</td>\n",
       "      <td>3.399350e-18</td>\n",
       "      <td>user_atNode_B</td>\n",
       "    </tr>\n",
       "    <tr>\n",
       "      <th>5</th>\n",
       "      <td>-2.775558e-18</td>\n",
       "      <td>1.387779e-18</td>\n",
       "      <td>user_atNode_E</td>\n",
       "    </tr>\n",
       "    <tr>\n",
       "      <th>35</th>\n",
       "      <td>-2.775558e-18</td>\n",
       "      <td>3.399350e-18</td>\n",
       "      <td>centrality_G</td>\n",
       "    </tr>\n",
       "    <tr>\n",
       "      <th>36</th>\n",
       "      <td>-2.775558e-18</td>\n",
       "      <td>1.387779e-18</td>\n",
       "      <td>centrality_E</td>\n",
       "    </tr>\n",
       "    <tr>\n",
       "      <th>29</th>\n",
       "      <td>-2.775558e-18</td>\n",
       "      <td>1.387779e-18</td>\n",
       "      <td>degree_E</td>\n",
       "    </tr>\n",
       "    <tr>\n",
       "      <th>34</th>\n",
       "      <td>-3.469447e-18</td>\n",
       "      <td>2.194271e-18</td>\n",
       "      <td>centrality_D</td>\n",
       "    </tr>\n",
       "    <tr>\n",
       "      <th>0</th>\n",
       "      <td>-3.469447e-18</td>\n",
       "      <td>0.000000e+00</td>\n",
       "      <td>user_atNode_A</td>\n",
       "    </tr>\n",
       "    <tr>\n",
       "      <th>6</th>\n",
       "      <td>-3.469447e-18</td>\n",
       "      <td>0.000000e+00</td>\n",
       "      <td>user_atNode_F</td>\n",
       "    </tr>\n",
       "    <tr>\n",
       "      <th>4</th>\n",
       "      <td>-3.469447e-18</td>\n",
       "      <td>0.000000e+00</td>\n",
       "      <td>user_atNode_G</td>\n",
       "    </tr>\n",
       "    <tr>\n",
       "      <th>3</th>\n",
       "      <td>-3.469447e-18</td>\n",
       "      <td>0.000000e+00</td>\n",
       "      <td>user_atNode_D</td>\n",
       "    </tr>\n",
       "    <tr>\n",
       "      <th>37</th>\n",
       "      <td>-3.469447e-18</td>\n",
       "      <td>0.000000e+00</td>\n",
       "      <td>centrality_F</td>\n",
       "    </tr>\n",
       "    <tr>\n",
       "      <th>25</th>\n",
       "      <td>-4.163336e-18</td>\n",
       "      <td>1.387779e-18</td>\n",
       "      <td>degree_B</td>\n",
       "    </tr>\n",
       "    <tr>\n",
       "      <th>30</th>\n",
       "      <td>-4.163336e-18</td>\n",
       "      <td>1.387779e-18</td>\n",
       "      <td>degree_F</td>\n",
       "    </tr>\n",
       "    <tr>\n",
       "      <th>24</th>\n",
       "      <td>-4.163336e-18</td>\n",
       "      <td>1.387779e-18</td>\n",
       "      <td>degree_A</td>\n",
       "    </tr>\n",
       "    <tr>\n",
       "      <th>2</th>\n",
       "      <td>-4.163336e-18</td>\n",
       "      <td>1.387779e-18</td>\n",
       "      <td>user_atNode_C</td>\n",
       "    </tr>\n",
       "    <tr>\n",
       "      <th>26</th>\n",
       "      <td>-4.857226e-18</td>\n",
       "      <td>1.699675e-18</td>\n",
       "      <td>degree_C</td>\n",
       "    </tr>\n",
       "    <tr>\n",
       "      <th>28</th>\n",
       "      <td>-4.857226e-18</td>\n",
       "      <td>1.699675e-18</td>\n",
       "      <td>degree_G</td>\n",
       "    </tr>\n",
       "    <tr>\n",
       "      <th>33</th>\n",
       "      <td>-4.857226e-18</td>\n",
       "      <td>1.699675e-18</td>\n",
       "      <td>centrality_C</td>\n",
       "    </tr>\n",
       "  </tbody>\n",
       "</table>\n",
       "</div>"
      ],
      "text/plain": [
       "    importances_mean  importances_std                    feature\n",
       "23      1.584918e-01     2.644898e-03              eval_bActions\n",
       "14      7.424217e-02     1.828353e-03                     Action\n",
       "21      4.288878e-02     1.062565e-03  services_atNode_aAction_E\n",
       "15      4.145232e-02     1.995992e-03                  OnService\n",
       "12      3.670532e-02     1.566735e-03  services_atNode_bAction_E\n",
       "18      3.032715e-02     1.337787e-03  services_atNode_aAction_C\n",
       "10      2.469546e-02     4.291683e-04  services_atNode_bAction_D\n",
       "20      2.435556e-02     1.186797e-03  services_atNode_aAction_G\n",
       "11      2.238675e-02     6.807760e-04  services_atNode_bAction_G\n",
       "19      2.092335e-02     7.242262e-04  services_atNode_aAction_D\n",
       "9       1.512976e-02     7.561947e-04  services_atNode_bAction_C\n",
       "16      1.463111e-02     1.316682e-03  services_atNode_aAction_A\n",
       "17      1.178667e-02     1.804682e-03  services_atNode_aAction_B\n",
       "22      9.660038e-03     8.401580e-04  services_atNode_aAction_F\n",
       "13      7.444075e-03     1.116654e-03  services_atNode_bAction_F\n",
       "7       7.168348e-03     3.148202e-04  services_atNode_bAction_A\n",
       "8       5.936266e-03     8.697049e-04  services_atNode_bAction_B\n",
       "31     -2.081668e-18     1.699675e-18               centrality_A\n",
       "27     -2.775558e-18     1.387779e-18                   degree_D\n",
       "32     -2.775558e-18     3.399350e-18               centrality_B\n",
       "1      -2.775558e-18     3.399350e-18              user_atNode_B\n",
       "5      -2.775558e-18     1.387779e-18              user_atNode_E\n",
       "35     -2.775558e-18     3.399350e-18               centrality_G\n",
       "36     -2.775558e-18     1.387779e-18               centrality_E\n",
       "29     -2.775558e-18     1.387779e-18                   degree_E\n",
       "34     -3.469447e-18     2.194271e-18               centrality_D\n",
       "0      -3.469447e-18     0.000000e+00              user_atNode_A\n",
       "6      -3.469447e-18     0.000000e+00              user_atNode_F\n",
       "4      -3.469447e-18     0.000000e+00              user_atNode_G\n",
       "3      -3.469447e-18     0.000000e+00              user_atNode_D\n",
       "37     -3.469447e-18     0.000000e+00               centrality_F\n",
       "25     -4.163336e-18     1.387779e-18                   degree_B\n",
       "30     -4.163336e-18     1.387779e-18                   degree_F\n",
       "24     -4.163336e-18     1.387779e-18                   degree_A\n",
       "2      -4.163336e-18     1.387779e-18              user_atNode_C\n",
       "26     -4.857226e-18     1.699675e-18                   degree_C\n",
       "28     -4.857226e-18     1.699675e-18                   degree_G\n",
       "33     -4.857226e-18     1.699675e-18               centrality_C"
      ]
     },
     "execution_count": 147,
     "metadata": {},
     "output_type": "execute_result"
    }
   ],
   "source": [
    "from sklearn.inspection import permutation_importance\n",
    "importancia = permutation_importance(\n",
    "                estimator    = model,\n",
    "                X            = X_train,\n",
    "                y            = y_train,\n",
    "                n_repeats    = 5,\n",
    "                scoring      = 'neg_root_mean_squared_error',\n",
    "                n_jobs       = multiprocessing.cpu_count() - 1,\n",
    "                random_state = 123\n",
    "             )\n",
    "\n",
    "# Se almacenan los resultados (media y desviación) en un dataframe\n",
    "df_importancia = pd.DataFrame(\n",
    "                    {k: importancia[k] for k in ['importances_mean', 'importances_std']}\n",
    "                 )\n",
    "df_importancia['feature'] = X_train.columns\n",
    "df_importancia.sort_values('importances_mean', ascending=False)"
   ]
  },
  {
   "cell_type": "code",
   "execution_count": 150,
   "id": "49a31a45",
   "metadata": {},
   "outputs": [
    {
     "data": {
      "image/png": "[encoded data removed]",
      "text/plain": [
       "<Figure size 360x576 with 1 Axes>"
      ]
     },
     "metadata": {
      "needs_background": "light"
     },
     "output_type": "display_data"
    }
   ],
   "source": [
    "# Gráfico\n",
    "fig, ax = plt.subplots(figsize=(5, 8))\n",
    "df_importancia = df_importancia.sort_values('importances_mean', ascending=True)\n",
    "ax.barh(\n",
    "    df_importancia['feature'],\n",
    "    df_importancia['importances_mean'],\n",
    "    xerr=df_importancia['importances_std'],\n",
    "    align='center',\n",
    "    alpha=0\n",
    ")\n",
    "ax.plot(\n",
    "    df_importancia['importances_mean'],\n",
    "    df_importancia['feature'],\n",
    "    marker=\"D\",\n",
    "    linestyle=\"\",\n",
    "    alpha=0.8,\n",
    "    color=\"r\"\n",
    ")\n",
    "plt.show()"
   ]
  },
  {
   "cell_type": "markdown",
   "id": "ec4fd911",
   "metadata": {},
   "source": [
    "### Issues\n",
    "- Related work with RF & Cloud/Fog/Edge computing  🤭\n",
    "- Improve the fitness function. & Include both evalution as parameters  ✅\n",
    "- Hyperparametrization analysis\n",
    "- More complex scenario -> version.B?"
   ]
  },
  {
   "cell_type": "markdown",
   "id": "c831ec71",
   "metadata": {},
   "source": [
    "## RW:\n",
    "😴\n",
    "- IMPROVING RESPONSE TIME OF TASK OFFLOADING BY RANDOM FOREST, EXTRA-TREES AND ADABOOST CLASSIFIERS IN MOBILE FOG COMPUTING https://www.ejmanager.com/mnstemps/71/71-1590557276.pdf?t=1636034459 Naive criteria: Authentication Confidentiality Integrity Availability Capacity Speed Cost\n",
    "- ..."
   ]
  },
  {
   "cell_type": "code",
   "execution_count": null,
   "id": "9edd480c",
   "metadata": {},
   "outputs": [],
   "source": []
  }
 ],
 "metadata": {
  "kernelspec": {
   "display_name": "MyPy397",
   "language": "python",
   "name": "mypy397"
  },
  "language_info": {
   "codemirror_mode": {
    "name": "ipython",
    "version": 3
   },
   "file_extension": ".py",
   "mimetype": "text/x-python",
   "name": "python",
   "nbconvert_exporter": "python",
   "pygments_lexer": "ipython3",
   "version": "3.9.7"
  }
 },
 "nbformat": 4,
 "nbformat_minor": 5
}
